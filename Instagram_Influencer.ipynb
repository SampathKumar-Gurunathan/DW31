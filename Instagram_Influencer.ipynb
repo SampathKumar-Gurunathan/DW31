{
 "cells": [
  {
   "cell_type": "code",
   "execution_count": 1,
   "id": "eb22e827",
   "metadata": {},
   "outputs": [],
   "source": [
    "# utilities\n",
    "import numpy as np\n",
    "import pandas as pd\n",
    "# plotting\n",
    "import seaborn as sns\n",
    "import matplotlib.pyplot as plt"
   ]
  },
  {
   "cell_type": "code",
   "execution_count": 2,
   "id": "f870dd18",
   "metadata": {},
   "outputs": [
    {
     "data": {
      "text/html": [
       "<div>\n",
       "<style scoped>\n",
       "    .dataframe tbody tr th:only-of-type {\n",
       "        vertical-align: middle;\n",
       "    }\n",
       "\n",
       "    .dataframe tbody tr th {\n",
       "        vertical-align: top;\n",
       "    }\n",
       "\n",
       "    .dataframe thead th {\n",
       "        text-align: right;\n",
       "    }\n",
       "</style>\n",
       "<table border=\"1\" class=\"dataframe\">\n",
       "  <thead>\n",
       "    <tr style=\"text-align: right;\">\n",
       "      <th></th>\n",
       "      <th>Rank</th>\n",
       "      <th>Channel Info</th>\n",
       "      <th>Influence Score</th>\n",
       "      <th>Followers</th>\n",
       "      <th>Avg. Likes</th>\n",
       "      <th>Posts</th>\n",
       "      <th>60-Day Eng Rate</th>\n",
       "      <th>New Post Avg. Likes</th>\n",
       "      <th>Total Likes</th>\n",
       "      <th>Country Or Region</th>\n",
       "    </tr>\n",
       "  </thead>\n",
       "  <tbody>\n",
       "    <tr>\n",
       "      <th>0</th>\n",
       "      <td>1</td>\n",
       "      <td>\\ncristiano</td>\n",
       "      <td>92</td>\n",
       "      <td>485.2m</td>\n",
       "      <td>8.7m</td>\n",
       "      <td>3.4k</td>\n",
       "      <td>0.013</td>\n",
       "      <td>6.3m</td>\n",
       "      <td>29.1b</td>\n",
       "      <td>Spain</td>\n",
       "    </tr>\n",
       "    <tr>\n",
       "      <th>1</th>\n",
       "      <td>2</td>\n",
       "      <td>kyliejenner</td>\n",
       "      <td>91</td>\n",
       "      <td>370.7m</td>\n",
       "      <td>8.2m</td>\n",
       "      <td>7.0k</td>\n",
       "      <td>0.014</td>\n",
       "      <td>5.0m</td>\n",
       "      <td>57.4b</td>\n",
       "      <td>United States</td>\n",
       "    </tr>\n",
       "    <tr>\n",
       "      <th>2</th>\n",
       "      <td>3</td>\n",
       "      <td>\\nleomessi</td>\n",
       "      <td>90</td>\n",
       "      <td>363.9m</td>\n",
       "      <td>6.7m</td>\n",
       "      <td>915</td>\n",
       "      <td>0.010</td>\n",
       "      <td>3.5m</td>\n",
       "      <td>6.1b</td>\n",
       "      <td>NaN</td>\n",
       "    </tr>\n",
       "    <tr>\n",
       "      <th>3</th>\n",
       "      <td>4</td>\n",
       "      <td>\\nselenagomez</td>\n",
       "      <td>93</td>\n",
       "      <td>348.8m</td>\n",
       "      <td>6.1m</td>\n",
       "      <td>1.9k</td>\n",
       "      <td>0.005</td>\n",
       "      <td>1.7m</td>\n",
       "      <td>11.4b</td>\n",
       "      <td>United States</td>\n",
       "    </tr>\n",
       "    <tr>\n",
       "      <th>4</th>\n",
       "      <td>5</td>\n",
       "      <td>\\ntherock</td>\n",
       "      <td>91</td>\n",
       "      <td>339.4m</td>\n",
       "      <td>1.8m</td>\n",
       "      <td>6.8k</td>\n",
       "      <td>0.003</td>\n",
       "      <td>932.0k</td>\n",
       "      <td>12.6b</td>\n",
       "      <td>United States</td>\n",
       "    </tr>\n",
       "  </tbody>\n",
       "</table>\n",
       "</div>"
      ],
      "text/plain": [
       "   Rank   Channel Info  Influence Score Followers Avg. Likes Posts  \\\n",
       "0     1    \\ncristiano               92    485.2m       8.7m  3.4k   \n",
       "1     2    kyliejenner               91    370.7m       8.2m  7.0k   \n",
       "2     3     \\nleomessi               90    363.9m       6.7m   915   \n",
       "3     4  \\nselenagomez               93    348.8m       6.1m  1.9k   \n",
       "4     5      \\ntherock               91    339.4m       1.8m  6.8k   \n",
       "\n",
       "   60-Day Eng Rate New Post Avg. Likes Total Likes Country Or Region  \n",
       "0            0.013                6.3m       29.1b             Spain  \n",
       "1            0.014                5.0m       57.4b     United States  \n",
       "2            0.010                3.5m        6.1b               NaN  \n",
       "3            0.005                1.7m       11.4b     United States  \n",
       "4            0.003              932.0k       12.6b     United States  "
      ]
     },
     "execution_count": 2,
     "metadata": {},
     "output_type": "execute_result"
    }
   ],
   "source": [
    "# Load the data\n",
    "df=pd.read_csv(\"Influencer.csv\")\n",
    "df.head()"
   ]
  },
  {
   "cell_type": "code",
   "execution_count": 3,
   "id": "efe77ae5",
   "metadata": {},
   "outputs": [],
   "source": [
    "# Cleansing Posts column\n",
    "post=list(df['Posts'])\n",
    "post1=list()\n",
    "for num in post:\n",
    "    if 'k' in num:\n",
    "        new_num=1000*float(num.replace('k',''))\n",
    "        post1.append(new_num)\n",
    "    else:\n",
    "        post1.append(float(num))\n",
    "df['Posts']=post1"
   ]
  },
  {
   "cell_type": "code",
   "execution_count": 4,
   "id": "61cab82a",
   "metadata": {},
   "outputs": [],
   "source": [
    "# Cleansing Followers column\n",
    "followers=list(df['Followers'])\n",
    "followers1=list()\n",
    "for num in followers:\n",
    "    if 'm' in num:\n",
    "        new_num=1000000*float(num.replace('m',''))\n",
    "        followers1.append(new_num)\n",
    "    else:\n",
    "        followers1.append(float(num))\n",
    "df['Followers']=followers1"
   ]
  },
  {
   "cell_type": "code",
   "execution_count": 5,
   "id": "9af5b853",
   "metadata": {},
   "outputs": [],
   "source": [
    "# Cleansing Avg. Likes column\n",
    "avg_likes=list(df['Avg. Likes'])\n",
    "avg_likes1=list()\n",
    "for num in avg_likes:\n",
    "    if 'm' in num:\n",
    "        new_num=1000000*float(num.replace('m',''))\n",
    "        avg_likes1.append(new_num)\n",
    "    else:\n",
    "        new_num=1000*float(num.replace('k',''))\n",
    "        avg_likes1.append(new_num)\n",
    "df['Avg. Likes']=avg_likes1"
   ]
  },
  {
   "cell_type": "code",
   "execution_count": 6,
   "id": "2b475726",
   "metadata": {},
   "outputs": [],
   "source": [
    "# Cleansing Total Likes column\n",
    "total_likes=list(df['Total Likes']) \n",
    "total_likes1=list()\n",
    "for num in total_likes:\n",
    "    if 'b' in num:\n",
    "        new_num=1000000000*float(num.replace('b',''))\n",
    "        total_likes1.append(new_num)\n",
    "    else:\n",
    "        new_num=1000000*float(num.replace('m',''))\n",
    "        total_likes1.append(new_num)\n",
    "df['Total Likes']=total_likes1"
   ]
  },
  {
   "cell_type": "code",
   "execution_count": 7,
   "id": "7f002db6",
   "metadata": {},
   "outputs": [],
   "source": [
    "# Cleansing New Post Avg. Likes column\n",
    "new_post_avg_like=list(df['New Post Avg. Likes'])  \n",
    "new_post_avg_like1=list()\n",
    "for num in new_post_avg_like:\n",
    "    if 'm' in num:\n",
    "        new_num=1000000*float(num.replace('m',''))\n",
    "        new_post_avg_like1.append(new_num)    \n",
    "    else:\n",
    "        new_num=1000*float(num.replace('k',''))\n",
    "        new_post_avg_like1.append(new_num)\n",
    "df['New Post Avg. Likes']=new_post_avg_like1"
   ]
  },
  {
   "cell_type": "code",
   "execution_count": 8,
   "id": "de1c2d1a",
   "metadata": {},
   "outputs": [
    {
     "data": {
      "text/html": [
       "<div>\n",
       "<style scoped>\n",
       "    .dataframe tbody tr th:only-of-type {\n",
       "        vertical-align: middle;\n",
       "    }\n",
       "\n",
       "    .dataframe tbody tr th {\n",
       "        vertical-align: top;\n",
       "    }\n",
       "\n",
       "    .dataframe thead th {\n",
       "        text-align: right;\n",
       "    }\n",
       "</style>\n",
       "<table border=\"1\" class=\"dataframe\">\n",
       "  <thead>\n",
       "    <tr style=\"text-align: right;\">\n",
       "      <th></th>\n",
       "      <th>Rank</th>\n",
       "      <th>Channel Info</th>\n",
       "      <th>Influence Score</th>\n",
       "      <th>Followers</th>\n",
       "      <th>Avg. Likes</th>\n",
       "      <th>Posts</th>\n",
       "      <th>60-Day Eng Rate</th>\n",
       "      <th>New Post Avg. Likes</th>\n",
       "      <th>Total Likes</th>\n",
       "      <th>Country Or Region</th>\n",
       "    </tr>\n",
       "  </thead>\n",
       "  <tbody>\n",
       "    <tr>\n",
       "      <th>0</th>\n",
       "      <td>1</td>\n",
       "      <td>\\ncristiano</td>\n",
       "      <td>92</td>\n",
       "      <td>485200000.0</td>\n",
       "      <td>8700000.0</td>\n",
       "      <td>3400.0</td>\n",
       "      <td>0.013</td>\n",
       "      <td>6300000.0</td>\n",
       "      <td>2.910000e+10</td>\n",
       "      <td>Spain</td>\n",
       "    </tr>\n",
       "    <tr>\n",
       "      <th>1</th>\n",
       "      <td>2</td>\n",
       "      <td>kyliejenner</td>\n",
       "      <td>91</td>\n",
       "      <td>370700000.0</td>\n",
       "      <td>8200000.0</td>\n",
       "      <td>7000.0</td>\n",
       "      <td>0.014</td>\n",
       "      <td>5000000.0</td>\n",
       "      <td>5.740000e+10</td>\n",
       "      <td>United States</td>\n",
       "    </tr>\n",
       "    <tr>\n",
       "      <th>2</th>\n",
       "      <td>3</td>\n",
       "      <td>\\nleomessi</td>\n",
       "      <td>90</td>\n",
       "      <td>363900000.0</td>\n",
       "      <td>6700000.0</td>\n",
       "      <td>915.0</td>\n",
       "      <td>0.010</td>\n",
       "      <td>3500000.0</td>\n",
       "      <td>6.100000e+09</td>\n",
       "      <td>NaN</td>\n",
       "    </tr>\n",
       "    <tr>\n",
       "      <th>3</th>\n",
       "      <td>4</td>\n",
       "      <td>\\nselenagomez</td>\n",
       "      <td>93</td>\n",
       "      <td>348800000.0</td>\n",
       "      <td>6100000.0</td>\n",
       "      <td>1900.0</td>\n",
       "      <td>0.005</td>\n",
       "      <td>1700000.0</td>\n",
       "      <td>1.140000e+10</td>\n",
       "      <td>United States</td>\n",
       "    </tr>\n",
       "    <tr>\n",
       "      <th>4</th>\n",
       "      <td>5</td>\n",
       "      <td>\\ntherock</td>\n",
       "      <td>91</td>\n",
       "      <td>339400000.0</td>\n",
       "      <td>1800000.0</td>\n",
       "      <td>6800.0</td>\n",
       "      <td>0.003</td>\n",
       "      <td>932000.0</td>\n",
       "      <td>1.260000e+10</td>\n",
       "      <td>United States</td>\n",
       "    </tr>\n",
       "  </tbody>\n",
       "</table>\n",
       "</div>"
      ],
      "text/plain": [
       "   Rank   Channel Info  Influence Score    Followers  Avg. Likes   Posts  \\\n",
       "0     1    \\ncristiano               92  485200000.0   8700000.0  3400.0   \n",
       "1     2    kyliejenner               91  370700000.0   8200000.0  7000.0   \n",
       "2     3     \\nleomessi               90  363900000.0   6700000.0   915.0   \n",
       "3     4  \\nselenagomez               93  348800000.0   6100000.0  1900.0   \n",
       "4     5      \\ntherock               91  339400000.0   1800000.0  6800.0   \n",
       "\n",
       "   60-Day Eng Rate  New Post Avg. Likes   Total Likes Country Or Region  \n",
       "0            0.013            6300000.0  2.910000e+10             Spain  \n",
       "1            0.014            5000000.0  5.740000e+10     United States  \n",
       "2            0.010            3500000.0  6.100000e+09               NaN  \n",
       "3            0.005            1700000.0  1.140000e+10     United States  \n",
       "4            0.003             932000.0  1.260000e+10     United States  "
      ]
     },
     "execution_count": 8,
     "metadata": {},
     "output_type": "execute_result"
    }
   ],
   "source": [
    "df.head()"
   ]
  },
  {
   "cell_type": "code",
   "execution_count": 9,
   "id": "f6e869d6",
   "metadata": {},
   "outputs": [
    {
     "data": {
      "text/html": [
       "<div>\n",
       "<style scoped>\n",
       "    .dataframe tbody tr th:only-of-type {\n",
       "        vertical-align: middle;\n",
       "    }\n",
       "\n",
       "    .dataframe tbody tr th {\n",
       "        vertical-align: top;\n",
       "    }\n",
       "\n",
       "    .dataframe thead th {\n",
       "        text-align: right;\n",
       "    }\n",
       "</style>\n",
       "<table border=\"1\" class=\"dataframe\">\n",
       "  <thead>\n",
       "    <tr style=\"text-align: right;\">\n",
       "      <th></th>\n",
       "      <th>Rank</th>\n",
       "      <th>Influence Score</th>\n",
       "      <th>Followers</th>\n",
       "      <th>Avg. Likes</th>\n",
       "      <th>Posts</th>\n",
       "      <th>60-Day Eng Rate</th>\n",
       "      <th>New Post Avg. Likes</th>\n",
       "      <th>Total Likes</th>\n",
       "    </tr>\n",
       "  </thead>\n",
       "  <tbody>\n",
       "    <tr>\n",
       "      <th>Rank</th>\n",
       "      <td>1.000000</td>\n",
       "      <td>-0.354843</td>\n",
       "      <td>-0.698193</td>\n",
       "      <td>-0.277699</td>\n",
       "      <td>-0.058132</td>\n",
       "      <td>0.028900</td>\n",
       "      <td>-0.272323</td>\n",
       "      <td>-0.465119</td>\n",
       "    </tr>\n",
       "    <tr>\n",
       "      <th>Influence Score</th>\n",
       "      <td>-0.354843</td>\n",
       "      <td>1.000000</td>\n",
       "      <td>0.365428</td>\n",
       "      <td>0.048502</td>\n",
       "      <td>0.168287</td>\n",
       "      <td>-0.072460</td>\n",
       "      <td>0.040011</td>\n",
       "      <td>0.234987</td>\n",
       "    </tr>\n",
       "    <tr>\n",
       "      <th>Followers</th>\n",
       "      <td>-0.698193</td>\n",
       "      <td>0.365428</td>\n",
       "      <td>1.000000</td>\n",
       "      <td>0.346829</td>\n",
       "      <td>0.069171</td>\n",
       "      <td>-0.107439</td>\n",
       "      <td>0.260764</td>\n",
       "      <td>0.667546</td>\n",
       "    </tr>\n",
       "    <tr>\n",
       "      <th>Avg. Likes</th>\n",
       "      <td>-0.277699</td>\n",
       "      <td>0.048502</td>\n",
       "      <td>0.346829</td>\n",
       "      <td>1.000000</td>\n",
       "      <td>-0.348795</td>\n",
       "      <td>0.789359</td>\n",
       "      <td>0.892784</td>\n",
       "      <td>0.361296</td>\n",
       "    </tr>\n",
       "    <tr>\n",
       "      <th>Posts</th>\n",
       "      <td>-0.058132</td>\n",
       "      <td>0.168287</td>\n",
       "      <td>0.069171</td>\n",
       "      <td>-0.348795</td>\n",
       "      <td>1.000000</td>\n",
       "      <td>-0.334047</td>\n",
       "      <td>-0.285154</td>\n",
       "      <td>0.232038</td>\n",
       "    </tr>\n",
       "    <tr>\n",
       "      <th>60-Day Eng Rate</th>\n",
       "      <td>0.028900</td>\n",
       "      <td>-0.072460</td>\n",
       "      <td>-0.107439</td>\n",
       "      <td>0.789359</td>\n",
       "      <td>-0.334047</td>\n",
       "      <td>1.000000</td>\n",
       "      <td>0.866293</td>\n",
       "      <td>-0.001560</td>\n",
       "    </tr>\n",
       "    <tr>\n",
       "      <th>New Post Avg. Likes</th>\n",
       "      <td>-0.272323</td>\n",
       "      <td>0.040011</td>\n",
       "      <td>0.260764</td>\n",
       "      <td>0.892784</td>\n",
       "      <td>-0.285154</td>\n",
       "      <td>0.866293</td>\n",
       "      <td>1.000000</td>\n",
       "      <td>0.351335</td>\n",
       "    </tr>\n",
       "    <tr>\n",
       "      <th>Total Likes</th>\n",
       "      <td>-0.465119</td>\n",
       "      <td>0.234987</td>\n",
       "      <td>0.667546</td>\n",
       "      <td>0.361296</td>\n",
       "      <td>0.232038</td>\n",
       "      <td>-0.001560</td>\n",
       "      <td>0.351335</td>\n",
       "      <td>1.000000</td>\n",
       "    </tr>\n",
       "  </tbody>\n",
       "</table>\n",
       "</div>"
      ],
      "text/plain": [
       "                         Rank  Influence Score  Followers  Avg. Likes  \\\n",
       "Rank                 1.000000        -0.354843  -0.698193   -0.277699   \n",
       "Influence Score     -0.354843         1.000000   0.365428    0.048502   \n",
       "Followers           -0.698193         0.365428   1.000000    0.346829   \n",
       "Avg. Likes          -0.277699         0.048502   0.346829    1.000000   \n",
       "Posts               -0.058132         0.168287   0.069171   -0.348795   \n",
       "60-Day Eng Rate      0.028900        -0.072460  -0.107439    0.789359   \n",
       "New Post Avg. Likes -0.272323         0.040011   0.260764    0.892784   \n",
       "Total Likes         -0.465119         0.234987   0.667546    0.361296   \n",
       "\n",
       "                        Posts  60-Day Eng Rate  New Post Avg. Likes  \\\n",
       "Rank                -0.058132         0.028900            -0.272323   \n",
       "Influence Score      0.168287        -0.072460             0.040011   \n",
       "Followers            0.069171        -0.107439             0.260764   \n",
       "Avg. Likes          -0.348795         0.789359             0.892784   \n",
       "Posts                1.000000        -0.334047            -0.285154   \n",
       "60-Day Eng Rate     -0.334047         1.000000             0.866293   \n",
       "New Post Avg. Likes -0.285154         0.866293             1.000000   \n",
       "Total Likes          0.232038        -0.001560             0.351335   \n",
       "\n",
       "                     Total Likes  \n",
       "Rank                   -0.465119  \n",
       "Influence Score         0.234987  \n",
       "Followers               0.667546  \n",
       "Avg. Likes              0.361296  \n",
       "Posts                   0.232038  \n",
       "60-Day Eng Rate        -0.001560  \n",
       "New Post Avg. Likes     0.351335  \n",
       "Total Likes             1.000000  "
      ]
     },
     "execution_count": 9,
     "metadata": {},
     "output_type": "execute_result"
    }
   ],
   "source": [
    "# Identifying the correlation bwteen variables\n",
    "df.corr()"
   ]
  },
  {
   "cell_type": "code",
   "execution_count": 10,
   "id": "46212254",
   "metadata": {},
   "outputs": [
    {
     "data": {
      "text/plain": [
       "<AxesSubplot: >"
      ]
     },
     "execution_count": 10,
     "metadata": {},
     "output_type": "execute_result"
    },
    {
     "data": {
      "image/png": "[encoded data removed]",
      "text/plain": [
       "<Figure size 720x432 with 2 Axes>"
      ]
     },
     "metadata": {
      "needs_background": "light"
     },
     "output_type": "display_data"
    }
   ],
   "source": [
    "# Display it in a heatmap\n",
    "fig, ax = plt.subplots(figsize=(10, 6))\n",
    "sns.heatmap(df.corr(), ax=ax, annot=True)"
   ]
  },
  {
   "cell_type": "code",
   "execution_count": null,
   "id": "b6341e46",
   "metadata": {},
   "outputs": [],
   "source": [
    "# Rank, Followers, Influence Scores, Total Likes are correlated.\n",
    "# Ave likes, 60-Day Eng Rate and New Post Avg. Likes are correlated."
   ]
  },
  {
   "cell_type": "code",
   "execution_count": 11,
   "id": "6c74721d",
   "metadata": {},
   "outputs": [
    {
     "data": {
      "text/plain": [
       "(array([  1.,   0.,   3.,   1.,   1.,   2.,   3.,  25., 107.,  57.]),\n",
       " array([22. , 29.1, 36.2, 43.3, 50.4, 57.5, 64.6, 71.7, 78.8, 85.9, 93. ]),\n",
       " <BarContainer object of 10 artists>)"
      ]
     },
     "execution_count": 11,
     "metadata": {},
     "output_type": "execute_result"
    },
    {
     "data": {
      "image/png": "[encoded data removed]",
      "text/plain": [
       "<Figure size 432x288 with 1 Axes>"
      ]
     },
     "metadata": {
      "needs_background": "light"
     },
     "output_type": "display_data"
    }
   ],
   "source": [
    "# Frequency Distibution of Influence Score\n",
    "plt.hist(df['Influence Score'])\n",
    "# The variable is left shewed"
   ]
  },
  {
   "cell_type": "code",
   "execution_count": 12,
   "id": "d4065b5d",
   "metadata": {},
   "outputs": [
    {
     "data": {
      "text/plain": [
       "(array([161.,  10.,   8.,   5.,   6.,   3.,   4.,   2.,   0.,   1.]),\n",
       " array([3.3400e+07, 7.8580e+07, 1.2376e+08, 1.6894e+08, 2.1412e+08,\n",
       "        2.5930e+08, 3.0448e+08, 3.4966e+08, 3.9484e+08, 4.4002e+08,\n",
       "        4.8520e+08]),\n",
       " <BarContainer object of 10 artists>)"
      ]
     },
     "execution_count": 12,
     "metadata": {},
     "output_type": "execute_result"
    },
    {
     "data": {
      "image/png": "[encoded data removed]",
      "text/plain": [
       "<Figure size 432x288 with 1 Axes>"
      ]
     },
     "metadata": {
      "needs_background": "light"
     },
     "output_type": "display_data"
    }
   ],
   "source": [
    "# Frequency districbution of Followers\n",
    "plt.hist(df['Followers'])\n",
    "# The variable is right skewed"
   ]
  },
  {
   "cell_type": "code",
   "execution_count": 13,
   "id": "ca3a926d",
   "metadata": {},
   "outputs": [
    {
     "data": {
      "text/plain": [
       "(array([84., 44., 22., 13., 11., 22.,  2.,  1.,  0.,  1.]),\n",
       " array([   20.,  1708.,  3396.,  5084.,  6772.,  8460., 10148., 11836.,\n",
       "        13524., 15212., 16900.]),\n",
       " <BarContainer object of 10 artists>)"
      ]
     },
     "execution_count": 13,
     "metadata": {},
     "output_type": "execute_result"
    },
    {
     "data": {
      "image/png": "[encoded data removed]",
      "text/plain": [
       "<Figure size 432x288 with 1 Axes>"
      ]
     },
     "metadata": {
      "needs_background": "light"
     },
     "output_type": "display_data"
    }
   ],
   "source": [
    "# Frequency Districution of \n",
    "plt.hist(df['Posts'])\n",
    "# the variable is little bet right skewed"
   ]
  },
  {
   "cell_type": "code",
   "execution_count": 14,
   "id": "f459888d",
   "metadata": {},
   "outputs": [
    {
     "data": {
      "text/plain": [
       "<AxesSubplot: >"
      ]
     },
     "execution_count": 14,
     "metadata": {},
     "output_type": "execute_result"
    },
    {
     "data": {
      "image/png": "[encoded data removed]",
      "text/plain": [
       "<Figure size 432x288 with 1 Axes>"
      ]
     },
     "metadata": {
      "needs_background": "light"
     },
     "output_type": "display_data"
    }
   ],
   "source": [
    "# Country with most number of influencers\n",
    "df['Country Or Region'].value_counts().plot(kind='bar')"
   ]
  },
  {
   "cell_type": "code",
   "execution_count": 15,
   "id": "936a4eb5",
   "metadata": {},
   "outputs": [
    {
     "data": {
      "text/html": [
       "<div>\n",
       "<style scoped>\n",
       "    .dataframe tbody tr th:only-of-type {\n",
       "        vertical-align: middle;\n",
       "    }\n",
       "\n",
       "    .dataframe tbody tr th {\n",
       "        vertical-align: top;\n",
       "    }\n",
       "\n",
       "    .dataframe thead th {\n",
       "        text-align: right;\n",
       "    }\n",
       "</style>\n",
       "<table border=\"1\" class=\"dataframe\">\n",
       "  <thead>\n",
       "    <tr style=\"text-align: right;\">\n",
       "      <th></th>\n",
       "      <th>Rank</th>\n",
       "      <th>Channel Info</th>\n",
       "      <th>Influence Score</th>\n",
       "      <th>Followers</th>\n",
       "      <th>Avg. Likes</th>\n",
       "      <th>Posts</th>\n",
       "      <th>60-Day Eng Rate</th>\n",
       "      <th>New Post Avg. Likes</th>\n",
       "      <th>Total Likes</th>\n",
       "      <th>Country Or Region</th>\n",
       "    </tr>\n",
       "  </thead>\n",
       "  <tbody>\n",
       "    <tr>\n",
       "      <th>0</th>\n",
       "      <td>1</td>\n",
       "      <td>\\ncristiano</td>\n",
       "      <td>92</td>\n",
       "      <td>485200000.0</td>\n",
       "      <td>8700000.0</td>\n",
       "      <td>3400.0</td>\n",
       "      <td>0.013</td>\n",
       "      <td>6300000.0</td>\n",
       "      <td>2.910000e+10</td>\n",
       "      <td>Spain</td>\n",
       "    </tr>\n",
       "    <tr>\n",
       "      <th>1</th>\n",
       "      <td>2</td>\n",
       "      <td>kyliejenner</td>\n",
       "      <td>91</td>\n",
       "      <td>370700000.0</td>\n",
       "      <td>8200000.0</td>\n",
       "      <td>7000.0</td>\n",
       "      <td>0.014</td>\n",
       "      <td>5000000.0</td>\n",
       "      <td>5.740000e+10</td>\n",
       "      <td>United States</td>\n",
       "    </tr>\n",
       "    <tr>\n",
       "      <th>2</th>\n",
       "      <td>3</td>\n",
       "      <td>\\nleomessi</td>\n",
       "      <td>90</td>\n",
       "      <td>363900000.0</td>\n",
       "      <td>6700000.0</td>\n",
       "      <td>915.0</td>\n",
       "      <td>0.010</td>\n",
       "      <td>3500000.0</td>\n",
       "      <td>6.100000e+09</td>\n",
       "      <td>NaN</td>\n",
       "    </tr>\n",
       "    <tr>\n",
       "      <th>3</th>\n",
       "      <td>4</td>\n",
       "      <td>\\nselenagomez</td>\n",
       "      <td>93</td>\n",
       "      <td>348800000.0</td>\n",
       "      <td>6100000.0</td>\n",
       "      <td>1900.0</td>\n",
       "      <td>0.005</td>\n",
       "      <td>1700000.0</td>\n",
       "      <td>1.140000e+10</td>\n",
       "      <td>United States</td>\n",
       "    </tr>\n",
       "    <tr>\n",
       "      <th>4</th>\n",
       "      <td>5</td>\n",
       "      <td>\\ntherock</td>\n",
       "      <td>91</td>\n",
       "      <td>339400000.0</td>\n",
       "      <td>1800000.0</td>\n",
       "      <td>6800.0</td>\n",
       "      <td>0.003</td>\n",
       "      <td>932000.0</td>\n",
       "      <td>1.260000e+10</td>\n",
       "      <td>United States</td>\n",
       "    </tr>\n",
       "    <tr>\n",
       "      <th>5</th>\n",
       "      <td>6</td>\n",
       "      <td>\\narianagrande</td>\n",
       "      <td>92</td>\n",
       "      <td>333000000.0</td>\n",
       "      <td>3700000.0</td>\n",
       "      <td>5000.0</td>\n",
       "      <td>0.009</td>\n",
       "      <td>3100000.0</td>\n",
       "      <td>1.850000e+10</td>\n",
       "      <td>United States</td>\n",
       "    </tr>\n",
       "    <tr>\n",
       "      <th>6</th>\n",
       "      <td>7</td>\n",
       "      <td>\\nkimkardashian</td>\n",
       "      <td>91</td>\n",
       "      <td>330700000.0</td>\n",
       "      <td>3500000.0</td>\n",
       "      <td>5700.0</td>\n",
       "      <td>0.005</td>\n",
       "      <td>1700000.0</td>\n",
       "      <td>1.980000e+10</td>\n",
       "      <td>United States</td>\n",
       "    </tr>\n",
       "    <tr>\n",
       "      <th>7</th>\n",
       "      <td>8</td>\n",
       "      <td>\\nbeyonce</td>\n",
       "      <td>92</td>\n",
       "      <td>276100000.0</td>\n",
       "      <td>3600000.0</td>\n",
       "      <td>2000.0</td>\n",
       "      <td>0.008</td>\n",
       "      <td>2200000.0</td>\n",
       "      <td>7.300000e+09</td>\n",
       "      <td>United States</td>\n",
       "    </tr>\n",
       "    <tr>\n",
       "      <th>8</th>\n",
       "      <td>9</td>\n",
       "      <td>\\nkhloekardashian</td>\n",
       "      <td>89</td>\n",
       "      <td>273900000.0</td>\n",
       "      <td>2400000.0</td>\n",
       "      <td>4100.0</td>\n",
       "      <td>0.002</td>\n",
       "      <td>404700.0</td>\n",
       "      <td>9.800000e+09</td>\n",
       "      <td>United States</td>\n",
       "    </tr>\n",
       "    <tr>\n",
       "      <th>9</th>\n",
       "      <td>10</td>\n",
       "      <td>\\njustinbieber</td>\n",
       "      <td>91</td>\n",
       "      <td>260000000.0</td>\n",
       "      <td>1900000.0</td>\n",
       "      <td>7400.0</td>\n",
       "      <td>0.007</td>\n",
       "      <td>1700000.0</td>\n",
       "      <td>1.400000e+10</td>\n",
       "      <td>Canada</td>\n",
       "    </tr>\n",
       "  </tbody>\n",
       "</table>\n",
       "</div>"
      ],
      "text/plain": [
       "   Rank       Channel Info  Influence Score    Followers  Avg. Likes   Posts  \\\n",
       "0     1        \\ncristiano               92  485200000.0   8700000.0  3400.0   \n",
       "1     2        kyliejenner               91  370700000.0   8200000.0  7000.0   \n",
       "2     3         \\nleomessi               90  363900000.0   6700000.0   915.0   \n",
       "3     4      \\nselenagomez               93  348800000.0   6100000.0  1900.0   \n",
       "4     5          \\ntherock               91  339400000.0   1800000.0  6800.0   \n",
       "5     6     \\narianagrande               92  333000000.0   3700000.0  5000.0   \n",
       "6     7    \\nkimkardashian               91  330700000.0   3500000.0  5700.0   \n",
       "7     8          \\nbeyonce               92  276100000.0   3600000.0  2000.0   \n",
       "8     9  \\nkhloekardashian               89  273900000.0   2400000.0  4100.0   \n",
       "9    10     \\njustinbieber               91  260000000.0   1900000.0  7400.0   \n",
       "\n",
       "   60-Day Eng Rate  New Post Avg. Likes   Total Likes Country Or Region  \n",
       "0            0.013            6300000.0  2.910000e+10             Spain  \n",
       "1            0.014            5000000.0  5.740000e+10     United States  \n",
       "2            0.010            3500000.0  6.100000e+09               NaN  \n",
       "3            0.005            1700000.0  1.140000e+10     United States  \n",
       "4            0.003             932000.0  1.260000e+10     United States  \n",
       "5            0.009            3100000.0  1.850000e+10     United States  \n",
       "6            0.005            1700000.0  1.980000e+10     United States  \n",
       "7            0.008            2200000.0  7.300000e+09     United States  \n",
       "8            0.002             404700.0  9.800000e+09     United States  \n",
       "9            0.007            1700000.0  1.400000e+10            Canada  "
      ]
     },
     "execution_count": 15,
     "metadata": {},
     "output_type": "execute_result"
    }
   ],
   "source": [
    "# Top 10 Influnecers based on Follwers, Avg likes & Total Likes\n",
    "df.nlargest(10, ['Followers', 'Avg. Likes', 'Total Likes'])"
   ]
  },
  {
   "cell_type": "code",
   "execution_count": 16,
   "id": "720b838e",
   "metadata": {},
   "outputs": [
    {
     "data": {
      "image/png": "[encoded data removed]",
      "text/plain": [
       "<Figure size 360x360 with 1 Axes>"
      ]
     },
     "metadata": {
      "needs_background": "light"
     },
     "output_type": "display_data"
    }
   ],
   "source": [
    "# Relation between Follower & Total Likes\n",
    "sns.relplot(x =\"Followers\", y =\"Total Likes\",\n",
    "            data = df);"
   ]
  },
  {
   "cell_type": "code",
   "execution_count": 17,
   "id": "e746e75c",
   "metadata": {},
   "outputs": [
    {
     "data": {
      "image/png": "[encoded data removed]",
      "text/plain": [
       "<Figure size 360x360 with 1 Axes>"
      ]
     },
     "metadata": {
      "needs_background": "light"
     },
     "output_type": "display_data"
    }
   ],
   "source": [
    "# Relation between Follower & Influence Scores\n",
    "sns.relplot(x =\"Followers\", y =\"Influence Score\",\n",
    "            data = df);"
   ]
  },
  {
   "cell_type": "code",
   "execution_count": 18,
   "id": "cafd5d62",
   "metadata": {},
   "outputs": [
    {
     "data": {
      "image/png": "[encoded data removed]",
      "text/plain": [
       "<Figure size 360x360 with 1 Axes>"
      ]
     },
     "metadata": {
      "needs_background": "light"
     },
     "output_type": "display_data"
    }
   ],
   "source": [
    "# Relation between Post & Avg Likes\n",
    "sns.relplot(x =\"Posts\", y =\"Avg. Likes\",\n",
    "            data = df);"
   ]
  },
  {
   "cell_type": "code",
   "execution_count": 19,
   "id": "980dd44b",
   "metadata": {},
   "outputs": [
    {
     "data": {
      "image/png": "[encoded data removed]",
      "text/plain": [
       "<Figure size 360x360 with 1 Axes>"
      ]
     },
     "metadata": {
      "needs_background": "light"
     },
     "output_type": "display_data"
    }
   ],
   "source": [
    "# Relation between Post & Influence Scores\n",
    "sns.relplot(x =\"Posts\", y =\"Influence Score\",\n",
    "            data = df);"
   ]
  },
  {
   "cell_type": "code",
   "execution_count": null,
   "id": "2cfadfb2",
   "metadata": {},
   "outputs": [],
   "source": []
  }
 ],
 "metadata": {
  "kernelspec": {
   "display_name": "Python 3 (ipykernel)",
   "language": "python",
   "name": "python3"
  },
  "language_info": {
   "codemirror_mode": {
    "name": "ipython",
    "version": 3
   },
   "file_extension": ".py",
   "mimetype": "text/x-python",
   "name": "python",
   "nbconvert_exporter": "python",
   "pygments_lexer": "ipython3",
   "version": "3.9.12"
  }
 },
 "nbformat": 4,
 "nbformat_minor": 5
}

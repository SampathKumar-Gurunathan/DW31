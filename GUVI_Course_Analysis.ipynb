{
 "cells": [
  {
   "cell_type": "code",
   "execution_count": 1,
   "id": "db3f618b",
   "metadata": {},
   "outputs": [],
   "source": [
    "# utilities\n",
    "import numpy as np\n",
    "import pandas as pd\n",
    "import string\n",
    "# plotting\n",
    "import seaborn as sns\n",
    "import matplotlib.pyplot as plt\n",
    "# sklearn\n",
    "from sklearn.model_selection import train_test_split\n",
    "from sklearn.feature_selection import SelectKBest, f_classif, f_regression\n",
    "from sklearn.preprocessing import LabelEncoder\n",
    "from sklearn.metrics import r2_score, mean_squared_error\n",
    "from sklearn import linear_model\n",
    "from sklearn.linear_model import LinearRegression\n",
    "from sklearn.ensemble import RandomForestRegressor\n",
    "# Stats\n",
    "from statsmodels.stats.outliers_influence import variance_inflation_factor"
   ]
  },
  {
   "cell_type": "code",
   "execution_count": 2,
   "id": "eb22e827",
   "metadata": {},
   "outputs": [
    {
     "data": {
      "text/html": [
       "<div>\n",
       "<style scoped>\n",
       "    .dataframe tbody tr th:only-of-type {\n",
       "        vertical-align: middle;\n",
       "    }\n",
       "\n",
       "    .dataframe tbody tr th {\n",
       "        vertical-align: top;\n",
       "    }\n",
       "\n",
       "    .dataframe thead th {\n",
       "        text-align: right;\n",
       "    }\n",
       "</style>\n",
       "<table border=\"1\" class=\"dataframe\">\n",
       "  <thead>\n",
       "    <tr style=\"text-align: right;\">\n",
       "      <th></th>\n",
       "      <th>course_id</th>\n",
       "      <th>course_title</th>\n",
       "      <th>url</th>\n",
       "      <th>price</th>\n",
       "      <th>num_subscribers</th>\n",
       "      <th>num_reviews</th>\n",
       "      <th>num_lectures</th>\n",
       "      <th>level</th>\n",
       "      <th>Rating</th>\n",
       "      <th>content_duration</th>\n",
       "      <th>published_timestamp</th>\n",
       "      <th>subject</th>\n",
       "    </tr>\n",
       "  </thead>\n",
       "  <tbody>\n",
       "    <tr>\n",
       "      <th>0</th>\n",
       "      <td>41295.0</td>\n",
       "      <td>Learn HTML5 Programming From Scratch</td>\n",
       "      <td>https://www.udemy.com/learn-html5-programming-...</td>\n",
       "      <td>0.0</td>\n",
       "      <td>268923.0</td>\n",
       "      <td>8629.0</td>\n",
       "      <td>45.0</td>\n",
       "      <td>Beginner Level</td>\n",
       "      <td>0.82</td>\n",
       "      <td>10.5</td>\n",
       "      <td>2013-02-14T07:03:41Z</td>\n",
       "      <td>Subject: Web Development</td>\n",
       "    </tr>\n",
       "    <tr>\n",
       "      <th>1</th>\n",
       "      <td>59014.0</td>\n",
       "      <td>Coding for Entrepreneurs Basic</td>\n",
       "      <td>https://www.udemy.com/coding-for-entrepreneurs...</td>\n",
       "      <td>0.0</td>\n",
       "      <td>161029.0</td>\n",
       "      <td>279.0</td>\n",
       "      <td>27.0</td>\n",
       "      <td>Expert Level</td>\n",
       "      <td>0.69</td>\n",
       "      <td>3.5</td>\n",
       "      <td>2013-06-09T15:51:55Z</td>\n",
       "      <td>Subject: Web Development</td>\n",
       "    </tr>\n",
       "    <tr>\n",
       "      <th>2</th>\n",
       "      <td>625204.0</td>\n",
       "      <td>The Web Developer Bootcamp</td>\n",
       "      <td>https://www.udemy.com/the-web-developer-bootcamp/</td>\n",
       "      <td>200.0</td>\n",
       "      <td>121584.0</td>\n",
       "      <td>27445.0</td>\n",
       "      <td>342.0</td>\n",
       "      <td>Beginner Level</td>\n",
       "      <td>0.89</td>\n",
       "      <td>43.0</td>\n",
       "      <td>2015-11-02T21:13:27Z</td>\n",
       "      <td>Subject: Web Development</td>\n",
       "    </tr>\n",
       "    <tr>\n",
       "      <th>3</th>\n",
       "      <td>173548.0</td>\n",
       "      <td>Build Your First Website in 1 Week with HTML5 ...</td>\n",
       "      <td>https://www.udemy.com/build-your-first-website...</td>\n",
       "      <td>0.0</td>\n",
       "      <td>120291.0</td>\n",
       "      <td>5924.0</td>\n",
       "      <td>30.0</td>\n",
       "      <td>All Levels</td>\n",
       "      <td>0.78</td>\n",
       "      <td>3.0</td>\n",
       "      <td>2014-04-08T16:21:30Z</td>\n",
       "      <td>Subject: Web Development</td>\n",
       "    </tr>\n",
       "    <tr>\n",
       "      <th>4</th>\n",
       "      <td>764164.0</td>\n",
       "      <td>The Complete Web Developer Course 2.0</td>\n",
       "      <td>https://www.udemy.com/the-complete-web-develop...</td>\n",
       "      <td>200.0</td>\n",
       "      <td>114512.0</td>\n",
       "      <td>22412.0</td>\n",
       "      <td>304.0</td>\n",
       "      <td>Beginner Level</td>\n",
       "      <td>0.55</td>\n",
       "      <td>30.5</td>\n",
       "      <td>2016-03-08T22:28:36Z</td>\n",
       "      <td>Subject: Web Development</td>\n",
       "    </tr>\n",
       "  </tbody>\n",
       "</table>\n",
       "</div>"
      ],
      "text/plain": [
       "   course_id                                       course_title  \\\n",
       "0    41295.0               Learn HTML5 Programming From Scratch   \n",
       "1    59014.0                     Coding for Entrepreneurs Basic   \n",
       "2   625204.0                         The Web Developer Bootcamp   \n",
       "3   173548.0  Build Your First Website in 1 Week with HTML5 ...   \n",
       "4   764164.0              The Complete Web Developer Course 2.0   \n",
       "\n",
       "                                                 url  price  num_subscribers  \\\n",
       "0  https://www.udemy.com/learn-html5-programming-...    0.0         268923.0   \n",
       "1  https://www.udemy.com/coding-for-entrepreneurs...    0.0         161029.0   \n",
       "2  https://www.udemy.com/the-web-developer-bootcamp/  200.0         121584.0   \n",
       "3  https://www.udemy.com/build-your-first-website...    0.0         120291.0   \n",
       "4  https://www.udemy.com/the-complete-web-develop...  200.0         114512.0   \n",
       "\n",
       "   num_reviews  num_lectures           level  Rating  content_duration  \\\n",
       "0       8629.0          45.0  Beginner Level    0.82              10.5   \n",
       "1        279.0          27.0    Expert Level    0.69               3.5   \n",
       "2      27445.0         342.0  Beginner Level    0.89              43.0   \n",
       "3       5924.0          30.0      All Levels    0.78               3.0   \n",
       "4      22412.0         304.0  Beginner Level    0.55              30.5   \n",
       "\n",
       "    published_timestamp                   subject  \n",
       "0  2013-02-14T07:03:41Z  Subject: Web Development  \n",
       "1  2013-06-09T15:51:55Z  Subject: Web Development  \n",
       "2  2015-11-02T21:13:27Z  Subject: Web Development  \n",
       "3  2014-04-08T16:21:30Z  Subject: Web Development  \n",
       "4  2016-03-08T22:28:36Z  Subject: Web Development  "
      ]
     },
     "execution_count": 2,
     "metadata": {},
     "output_type": "execute_result"
    }
   ],
   "source": [
    "# Load the data\n",
    "df=pd.read_csv(\"datasheet_guvi_courses.csv\")\n",
    "df.head()"
   ]
  },
  {
   "cell_type": "code",
   "execution_count": 3,
   "id": "c7b97438",
   "metadata": {},
   "outputs": [
    {
     "name": "stdout",
     "output_type": "stream",
     "text": [
      "<class 'pandas.core.frame.DataFrame'>\n",
      "RangeIndex: 3680 entries, 0 to 3679\n",
      "Data columns (total 12 columns):\n",
      " #   Column               Non-Null Count  Dtype  \n",
      "---  ------               --------------  -----  \n",
      " 0   course_id            3676 non-null   float64\n",
      " 1   course_title         3676 non-null   object \n",
      " 2   url                  3676 non-null   object \n",
      " 3   price                3676 non-null   float64\n",
      " 4   num_subscribers      3676 non-null   float64\n",
      " 5   num_reviews          3676 non-null   float64\n",
      " 6   num_lectures         3676 non-null   float64\n",
      " 7   level                3676 non-null   object \n",
      " 8   Rating               3676 non-null   float64\n",
      " 9   content_duration     3676 non-null   float64\n",
      " 10  published_timestamp  3676 non-null   object \n",
      " 11  subject              3677 non-null   object \n",
      "dtypes: float64(7), object(5)\n",
      "memory usage: 345.1+ KB\n"
     ]
    }
   ],
   "source": [
    "# Understand the data\n",
    "df.info()"
   ]
  },
  {
   "cell_type": "code",
   "execution_count": 4,
   "id": "dd2fa189",
   "metadata": {},
   "outputs": [
    {
     "data": {
      "text/plain": [
       "course_id              4\n",
       "course_title           4\n",
       "url                    4\n",
       "price                  4\n",
       "num_subscribers        4\n",
       "num_reviews            4\n",
       "num_lectures           4\n",
       "level                  4\n",
       "Rating                 4\n",
       "content_duration       4\n",
       "published_timestamp    4\n",
       "subject                3\n",
       "dtype: int64"
      ]
     },
     "execution_count": 4,
     "metadata": {},
     "output_type": "execute_result"
    }
   ],
   "source": [
    "# Checking if there are any NULL Values\n",
    "df.isnull().sum()"
   ]
  },
  {
   "cell_type": "code",
   "execution_count": 5,
   "id": "3818a892",
   "metadata": {},
   "outputs": [
    {
     "data": {
      "text/html": [
       "<div>\n",
       "<style scoped>\n",
       "    .dataframe tbody tr th:only-of-type {\n",
       "        vertical-align: middle;\n",
       "    }\n",
       "\n",
       "    .dataframe tbody tr th {\n",
       "        vertical-align: top;\n",
       "    }\n",
       "\n",
       "    .dataframe thead th {\n",
       "        text-align: right;\n",
       "    }\n",
       "</style>\n",
       "<table border=\"1\" class=\"dataframe\">\n",
       "  <thead>\n",
       "    <tr style=\"text-align: right;\">\n",
       "      <th></th>\n",
       "      <th>course_id</th>\n",
       "      <th>course_title</th>\n",
       "      <th>url</th>\n",
       "      <th>price</th>\n",
       "      <th>num_subscribers</th>\n",
       "      <th>num_reviews</th>\n",
       "      <th>num_lectures</th>\n",
       "      <th>level</th>\n",
       "      <th>Rating</th>\n",
       "      <th>content_duration</th>\n",
       "      <th>published_timestamp</th>\n",
       "      <th>subject</th>\n",
       "    </tr>\n",
       "  </thead>\n",
       "  <tbody>\n",
       "    <tr>\n",
       "      <th>193</th>\n",
       "      <td>NaN</td>\n",
       "      <td>NaN</td>\n",
       "      <td>NaN</td>\n",
       "      <td>NaN</td>\n",
       "      <td>NaN</td>\n",
       "      <td>NaN</td>\n",
       "      <td>NaN</td>\n",
       "      <td>NaN</td>\n",
       "      <td>NaN</td>\n",
       "      <td>NaN</td>\n",
       "      <td>NaN</td>\n",
       "      <td>NaN</td>\n",
       "    </tr>\n",
       "    <tr>\n",
       "      <th>405</th>\n",
       "      <td>NaN</td>\n",
       "      <td>NaN</td>\n",
       "      <td>NaN</td>\n",
       "      <td>NaN</td>\n",
       "      <td>NaN</td>\n",
       "      <td>NaN</td>\n",
       "      <td>NaN</td>\n",
       "      <td>NaN</td>\n",
       "      <td>NaN</td>\n",
       "      <td>NaN</td>\n",
       "      <td>NaN</td>\n",
       "      <td>Subject: Web Development</td>\n",
       "    </tr>\n",
       "    <tr>\n",
       "      <th>2490</th>\n",
       "      <td>NaN</td>\n",
       "      <td>NaN</td>\n",
       "      <td>NaN</td>\n",
       "      <td>NaN</td>\n",
       "      <td>NaN</td>\n",
       "      <td>NaN</td>\n",
       "      <td>NaN</td>\n",
       "      <td>NaN</td>\n",
       "      <td>NaN</td>\n",
       "      <td>NaN</td>\n",
       "      <td>NaN</td>\n",
       "      <td>NaN</td>\n",
       "    </tr>\n",
       "    <tr>\n",
       "      <th>2830</th>\n",
       "      <td>NaN</td>\n",
       "      <td>NaN</td>\n",
       "      <td>NaN</td>\n",
       "      <td>NaN</td>\n",
       "      <td>NaN</td>\n",
       "      <td>NaN</td>\n",
       "      <td>NaN</td>\n",
       "      <td>NaN</td>\n",
       "      <td>NaN</td>\n",
       "      <td>NaN</td>\n",
       "      <td>NaN</td>\n",
       "      <td>NaN</td>\n",
       "    </tr>\n",
       "  </tbody>\n",
       "</table>\n",
       "</div>"
      ],
      "text/plain": [
       "      course_id course_title  url  price  num_subscribers  num_reviews  \\\n",
       "193         NaN          NaN  NaN    NaN              NaN          NaN   \n",
       "405         NaN          NaN  NaN    NaN              NaN          NaN   \n",
       "2490        NaN          NaN  NaN    NaN              NaN          NaN   \n",
       "2830        NaN          NaN  NaN    NaN              NaN          NaN   \n",
       "\n",
       "      num_lectures level  Rating  content_duration published_timestamp  \\\n",
       "193            NaN   NaN     NaN               NaN                 NaN   \n",
       "405            NaN   NaN     NaN               NaN                 NaN   \n",
       "2490           NaN   NaN     NaN               NaN                 NaN   \n",
       "2830           NaN   NaN     NaN               NaN                 NaN   \n",
       "\n",
       "                       subject  \n",
       "193                        NaN  \n",
       "405   Subject: Web Development  \n",
       "2490                       NaN  \n",
       "2830                       NaN  "
      ]
     },
     "execution_count": 5,
     "metadata": {},
     "output_type": "execute_result"
    }
   ],
   "source": [
    "# It seems that the null values are for the same rows.\n",
    "df[df['course_id'].isna()]"
   ]
  },
  {
   "cell_type": "code",
   "execution_count": 6,
   "id": "a718dd41",
   "metadata": {},
   "outputs": [],
   "source": [
    "# We can drop them.\n",
    "df.dropna(subset=['course_id'],inplace=True)"
   ]
  },
  {
   "cell_type": "code",
   "execution_count": 7,
   "id": "17856636",
   "metadata": {},
   "outputs": [
    {
     "data": {
      "text/html": [
       "<div>\n",
       "<style scoped>\n",
       "    .dataframe tbody tr th:only-of-type {\n",
       "        vertical-align: middle;\n",
       "    }\n",
       "\n",
       "    .dataframe tbody tr th {\n",
       "        vertical-align: top;\n",
       "    }\n",
       "\n",
       "    .dataframe thead th {\n",
       "        text-align: right;\n",
       "    }\n",
       "</style>\n",
       "<table border=\"1\" class=\"dataframe\">\n",
       "  <thead>\n",
       "    <tr style=\"text-align: right;\">\n",
       "      <th></th>\n",
       "      <th>course_title</th>\n",
       "      <th>url</th>\n",
       "      <th>level</th>\n",
       "      <th>published_timestamp</th>\n",
       "      <th>subject</th>\n",
       "    </tr>\n",
       "  </thead>\n",
       "  <tbody>\n",
       "    <tr>\n",
       "      <th>count</th>\n",
       "      <td>3676</td>\n",
       "      <td>3676</td>\n",
       "      <td>3676</td>\n",
       "      <td>3676</td>\n",
       "      <td>3676</td>\n",
       "    </tr>\n",
       "    <tr>\n",
       "      <th>unique</th>\n",
       "      <td>3663</td>\n",
       "      <td>3672</td>\n",
       "      <td>4</td>\n",
       "      <td>3672</td>\n",
       "      <td>4</td>\n",
       "    </tr>\n",
       "    <tr>\n",
       "      <th>top</th>\n",
       "      <td>Creating an animated greeting card via Google ...</td>\n",
       "      <td>https://www.udemy.com/make-your-own-business-w...</td>\n",
       "      <td>All Levels</td>\n",
       "      <td>2014-06-23T16:03:41Z</td>\n",
       "      <td>Subject: Web Development</td>\n",
       "    </tr>\n",
       "    <tr>\n",
       "      <th>freq</th>\n",
       "      <td>3</td>\n",
       "      <td>2</td>\n",
       "      <td>1925</td>\n",
       "      <td>2</td>\n",
       "      <td>1203</td>\n",
       "    </tr>\n",
       "  </tbody>\n",
       "</table>\n",
       "</div>"
      ],
      "text/plain": [
       "                                             course_title  \\\n",
       "count                                                3676   \n",
       "unique                                               3663   \n",
       "top     Creating an animated greeting card via Google ...   \n",
       "freq                                                    3   \n",
       "\n",
       "                                                      url       level  \\\n",
       "count                                                3676        3676   \n",
       "unique                                               3672           4   \n",
       "top     https://www.udemy.com/make-your-own-business-w...  All Levels   \n",
       "freq                                                    2        1925   \n",
       "\n",
       "         published_timestamp                   subject  \n",
       "count                   3676                      3676  \n",
       "unique                  3672                         4  \n",
       "top     2014-06-23T16:03:41Z  Subject: Web Development  \n",
       "freq                       2                      1203  "
      ]
     },
     "execution_count": 7,
     "metadata": {},
     "output_type": "execute_result"
    }
   ],
   "source": [
    "# Understand the data\n",
    "df.describe(include='O')"
   ]
  },
  {
   "cell_type": "code",
   "execution_count": 8,
   "id": "1a0f43bf",
   "metadata": {},
   "outputs": [],
   "source": [
    "# Dropping unnecessary columns\n",
    "# Since Course_Title, URL & TimeStamp have large number of Categories for a small dataset. We drop them,\n",
    "# as when we encode them will generate a large number of dummy columns and thus will have a weak co-relation with target. \n",
    "df.drop(columns=[\"course_title\"], inplace=True)\n",
    "df.drop(columns=[\"url\"], inplace=True)\n",
    "df.drop(columns=[\"published_timestamp\"], inplace=True)\n",
    "# Since Course ID will not have any impct on the traget we can drop the same.\n",
    "df.drop(columns=[\"course_id\"], inplace=True)"
   ]
  },
  {
   "cell_type": "code",
   "execution_count": 9,
   "id": "c7971d6a",
   "metadata": {},
   "outputs": [],
   "source": [
    "# Function to transform Numeric Variables\n",
    "def transVariable(coln, df):\n",
    "    from sklearn.preprocessing import FunctionTransformer\n",
    "    log_transform = FunctionTransformer(np.log, validate=True)\n",
    "    cols=[coln]\n",
    "    df[cols] = log_transform.transform(df[cols])\n",
    "    plt.hist(df[cols])"
   ]
  },
  {
   "cell_type": "code",
   "execution_count": 10,
   "id": "6ce0056e",
   "metadata": {},
   "outputs": [],
   "source": [
    "# Function to detect Outliers\n",
    "def outlier_detection(coln):\n",
    "    Q1 = np.percentile(coln, 25,interpolation = 'midpoint')\n",
    "    Q3 = np.percentile(coln, 75,interpolation = 'midpoint')\n",
    "    IQR = Q3 - Q1\n",
    "    upper = coln >= (Q3+1.5*IQR)\n",
    "    outlier=list(np.where(upper)[0])\n",
    "    lower = coln <= (Q1-1.5*IQR)\n",
    "    for each in list(np.where(lower)[0]):\n",
    "        if each not in outlier:\n",
    "            outlier.append(each)\n",
    "    print(\"Outlier Count:\", len(outlier))"
   ]
  },
  {
   "cell_type": "code",
   "execution_count": 11,
   "id": "6f72f9a5",
   "metadata": {},
   "outputs": [],
   "source": [
    "# Function Outlier deletion\n",
    "indices = []\n",
    "def outlier_delete(coln):\n",
    "    Q1 = np.percentile(coln, 25, interpolation = 'midpoint')\n",
    "    Q3 = np.percentile(coln, 75, interpolation = 'midpoint')\n",
    "    IQR = Q3 - Q1\n",
    "    upper = coln >= (Q3+1.5*IQR) \n",
    "    lower = coln <= (Q1-1.5*IQR)\n",
    "    upp=[]\n",
    "    for i in list(upper.index):\n",
    "        if upper[i]==True:\n",
    "            upp.append(i)\n",
    "    for i in upp:\n",
    "        df.drop(i,inplace=True)\n",
    "    low=[]\n",
    "    for i in list(lower.index):\n",
    "        if lower[i]==True:\n",
    "            low.append(i)\n",
    "    for i in low:\n",
    "        df.drop(i,inplace=True)"
   ]
  },
  {
   "cell_type": "code",
   "execution_count": 12,
   "id": "ffead47b",
   "metadata": {},
   "outputs": [
    {
     "data": {
      "text/plain": [
       "(array([3.618e+03, 3.300e+01, 1.600e+01, 4.000e+00, 3.000e+00, 1.000e+00,\n",
       "        0.000e+00, 0.000e+00, 0.000e+00, 1.000e+00]),\n",
       " array([     0. ,  26892.3,  53784.6,  80676.9, 107569.2, 134461.5,\n",
       "        161353.8, 188246.1, 215138.4, 242030.7, 268923. ]),\n",
       " <BarContainer object of 10 artists>)"
      ]
     },
     "execution_count": 12,
     "metadata": {},
     "output_type": "execute_result"
    },
    {
     "data": {
      "image/png": "[encoded data removed]",
      "text/plain": [
       "<Figure size 432x288 with 1 Axes>"
      ]
     },
     "metadata": {
      "needs_background": "light"
     },
     "output_type": "display_data"
    }
   ],
   "source": [
    "# address outliers in num_subscribers\n",
    "plt.hist(df['num_subscribers'])\n",
    "# we are not able to transform them, hence we will leave it."
   ]
  },
  {
   "cell_type": "code",
   "execution_count": 13,
   "id": "84b307e5",
   "metadata": {},
   "outputs": [
    {
     "data": {
      "text/plain": [
       "(array([3.649e+03, 1.100e+01, 7.000e+00, 2.000e+00, 2.000e+00, 1.000e+00,\n",
       "        1.000e+00, 1.000e+00, 1.000e+00, 1.000e+00]),\n",
       " array([    0. ,  2744.5,  5489. ,  8233.5, 10978. , 13722.5, 16467. ,\n",
       "        19211.5, 21956. , 24700.5, 27445. ]),\n",
       " <BarContainer object of 10 artists>)"
      ]
     },
     "execution_count": 13,
     "metadata": {},
     "output_type": "execute_result"
    },
    {
     "data": {
      "image/png": "[encoded data removed]",
      "text/plain": [
       "<Figure size 432x288 with 1 Axes>"
      ]
     },
     "metadata": {
      "needs_background": "light"
     },
     "output_type": "display_data"
    }
   ],
   "source": [
    "# address outliers in num_reviews\n",
    "plt.hist(df['num_reviews'])\n",
    "# we are not able to transform them, hence we will leave it."
   ]
  },
  {
   "cell_type": "code",
   "execution_count": 14,
   "id": "c53d38f5",
   "metadata": {},
   "outputs": [
    {
     "data": {
      "text/plain": [
       "(array([3.269e+03, 3.030e+02, 5.500e+01, 2.100e+01, 1.600e+01, 7.000e+00,\n",
       "        4.000e+00, 0.000e+00, 0.000e+00, 1.000e+00]),\n",
       " array([  0. ,  77.9, 155.8, 233.7, 311.6, 389.5, 467.4, 545.3, 623.2,\n",
       "        701.1, 779. ]),\n",
       " <BarContainer object of 10 artists>)"
      ]
     },
     "execution_count": 14,
     "metadata": {},
     "output_type": "execute_result"
    },
    {
     "data": {
      "image/png": "[encoded data removed]",
      "text/plain": [
       "<Figure size 432x288 with 1 Axes>"
      ]
     },
     "metadata": {
      "needs_background": "light"
     },
     "output_type": "display_data"
    }
   ],
   "source": [
    "# address outliers in num_lectures\n",
    "plt.hist(df['num_lectures'])\n",
    "# we are not able to transform them, hence we will leave it."
   ]
  },
  {
   "cell_type": "code",
   "execution_count": 15,
   "id": "85ca7b72",
   "metadata": {},
   "outputs": [],
   "source": [
    "# Get the Traget variable seperately\n",
    "y = df['Rating']"
   ]
  },
  {
   "cell_type": "code",
   "execution_count": 16,
   "id": "05f13567",
   "metadata": {},
   "outputs": [],
   "source": [
    "# Code to get categorical data seperately, so as to understand their impact on the traget variabel\n",
    "categorical_data = df.select_dtypes(exclude=[np.number])"
   ]
  },
  {
   "cell_type": "code",
   "execution_count": 17,
   "id": "7817106c",
   "metadata": {},
   "outputs": [
    {
     "data": {
      "text/plain": [
       "Subject: Web Development    1203\n",
       "Business Finance            1191\n",
       "Musical Instruments          680\n",
       "Graphic Design               602\n",
       "Name: subject, dtype: int64"
      ]
     },
     "execution_count": 17,
     "metadata": {},
     "output_type": "execute_result"
    }
   ],
   "source": [
    "# Unique Subject Values\n",
    "categorical_data['subject'].value_counts()"
   ]
  },
  {
   "cell_type": "code",
   "execution_count": 18,
   "id": "0d1aefe7",
   "metadata": {},
   "outputs": [
    {
     "data": {
      "text/plain": [
       "All Levels            1925\n",
       "Beginner Level        1271\n",
       "Intermediate Level     422\n",
       "Expert Level            58\n",
       "Name: level, dtype: int64"
      ]
     },
     "execution_count": 18,
     "metadata": {},
     "output_type": "execute_result"
    }
   ],
   "source": [
    "# Unique Level Values\n",
    "categorical_data['level'].value_counts()"
   ]
  },
  {
   "cell_type": "code",
   "execution_count": 19,
   "id": "d4a8f592",
   "metadata": {},
   "outputs": [],
   "source": [
    "# get Categories encoded, so as to check the impact on Traget\n",
    "ob=[]\n",
    "for data in categorical_data:\n",
    "    if categorical_data[data].dtype=='object':\n",
    "        ob.append(data)\n",
    "\n",
    "for dt in ob:\n",
    "    l=LabelEncoder()\n",
    "    categorical_data[dt]=l.fit_transform(categorical_data[dt])"
   ]
  },
  {
   "cell_type": "code",
   "execution_count": 20,
   "id": "c6d2eb98",
   "metadata": {},
   "outputs": [
    {
     "name": "stdout",
     "output_type": "stream",
     "text": [
      "[1.131892  6.2915263]\n",
      "[0.17726004 0.        ]\n",
      "Selected Features:\n",
      "Index(['level', 'subject'], dtype='object')\n"
     ]
    }
   ],
   "source": [
    "# Need to convert categorical independent variables to numeric before applying ANOVA.\n",
    "# selecte features whose p-vales are less then significane value and greater scores.\n",
    "fs = SelectKBest(f_classif, k=2)\n",
    "cat_selected = fs.fit_transform(categorical_data, y)\n",
    "results=fs.fit(categorical_data,y)\n",
    "print(results.scores_)\n",
    "print(results.pvalues_)\n",
    "print(\"Selected Features:\")\n",
    "mask = results.get_support()\n",
    "new_features = categorical_data.columns[mask]\n",
    "print(new_features)"
   ]
  },
  {
   "cell_type": "code",
   "execution_count": null,
   "id": "87184a27",
   "metadata": {},
   "outputs": [],
   "source": [
    "# From the above it is clear that Subject contributes a lot more to tragte variable than level."
   ]
  },
  {
   "cell_type": "code",
   "execution_count": 21,
   "id": "7aacb582",
   "metadata": {},
   "outputs": [
    {
     "data": {
      "text/html": [
       "<div>\n",
       "<style scoped>\n",
       "    .dataframe tbody tr th:only-of-type {\n",
       "        vertical-align: middle;\n",
       "    }\n",
       "\n",
       "    .dataframe tbody tr th {\n",
       "        vertical-align: top;\n",
       "    }\n",
       "\n",
       "    .dataframe thead th {\n",
       "        text-align: right;\n",
       "    }\n",
       "</style>\n",
       "<table border=\"1\" class=\"dataframe\">\n",
       "  <thead>\n",
       "    <tr style=\"text-align: right;\">\n",
       "      <th></th>\n",
       "      <th>price</th>\n",
       "      <th>num_subscribers</th>\n",
       "      <th>num_reviews</th>\n",
       "      <th>num_lectures</th>\n",
       "      <th>Rating</th>\n",
       "      <th>content_duration</th>\n",
       "    </tr>\n",
       "  </thead>\n",
       "  <tbody>\n",
       "    <tr>\n",
       "      <th>0</th>\n",
       "      <td>0.0</td>\n",
       "      <td>268923.0</td>\n",
       "      <td>8629.0</td>\n",
       "      <td>45.0</td>\n",
       "      <td>0.82</td>\n",
       "      <td>10.5</td>\n",
       "    </tr>\n",
       "    <tr>\n",
       "      <th>1</th>\n",
       "      <td>0.0</td>\n",
       "      <td>161029.0</td>\n",
       "      <td>279.0</td>\n",
       "      <td>27.0</td>\n",
       "      <td>0.69</td>\n",
       "      <td>3.5</td>\n",
       "    </tr>\n",
       "    <tr>\n",
       "      <th>2</th>\n",
       "      <td>200.0</td>\n",
       "      <td>121584.0</td>\n",
       "      <td>27445.0</td>\n",
       "      <td>342.0</td>\n",
       "      <td>0.89</td>\n",
       "      <td>43.0</td>\n",
       "    </tr>\n",
       "    <tr>\n",
       "      <th>3</th>\n",
       "      <td>0.0</td>\n",
       "      <td>120291.0</td>\n",
       "      <td>5924.0</td>\n",
       "      <td>30.0</td>\n",
       "      <td>0.78</td>\n",
       "      <td>3.0</td>\n",
       "    </tr>\n",
       "    <tr>\n",
       "      <th>4</th>\n",
       "      <td>200.0</td>\n",
       "      <td>114512.0</td>\n",
       "      <td>22412.0</td>\n",
       "      <td>304.0</td>\n",
       "      <td>0.55</td>\n",
       "      <td>30.5</td>\n",
       "    </tr>\n",
       "  </tbody>\n",
       "</table>\n",
       "</div>"
      ],
      "text/plain": [
       "   price  num_subscribers  num_reviews  num_lectures  Rating  content_duration\n",
       "0    0.0         268923.0       8629.0          45.0    0.82              10.5\n",
       "1    0.0         161029.0        279.0          27.0    0.69               3.5\n",
       "2  200.0         121584.0      27445.0         342.0    0.89              43.0\n",
       "3    0.0         120291.0       5924.0          30.0    0.78               3.0\n",
       "4  200.0         114512.0      22412.0         304.0    0.55              30.5"
      ]
     },
     "execution_count": 21,
     "metadata": {},
     "output_type": "execute_result"
    }
   ],
   "source": [
    "# Take all numeric variables including traget to a seperate dataset. \n",
    "numeric_data = df.select_dtypes(include=[np.number])\n",
    "numeric_data.head()"
   ]
  },
  {
   "cell_type": "code",
   "execution_count": 22,
   "id": "35340332",
   "metadata": {},
   "outputs": [
    {
     "name": "stdout",
     "output_type": "stream",
     "text": [
      "Rating              1.000000\n",
      "price               0.031643\n",
      "num_reviews         0.004137\n",
      "content_duration    0.000650\n",
      "num_subscribers    -0.007353\n",
      "num_lectures       -0.037170\n",
      "Name: Rating, dtype: float64\n"
     ]
    }
   ],
   "source": [
    "# Find if there are any cor-relation between numreical variables and target variable\n",
    "corr_matrix = numeric_data.corr()\n",
    "print(corr_matrix[\"Rating\"].sort_values(ascending=False))"
   ]
  },
  {
   "cell_type": "code",
   "execution_count": null,
   "id": "cbadb80f",
   "metadata": {},
   "outputs": [],
   "source": [
    "# From the above it is clear that Price, num_subscribers, num_reviews, num_lectures have an impact on the rating"
   ]
  },
  {
   "cell_type": "code",
   "execution_count": 23,
   "id": "e0431d3b",
   "metadata": {},
   "outputs": [
    {
     "data": {
      "text/html": [
       "<div>\n",
       "<style scoped>\n",
       "    .dataframe tbody tr th:only-of-type {\n",
       "        vertical-align: middle;\n",
       "    }\n",
       "\n",
       "    .dataframe tbody tr th {\n",
       "        vertical-align: top;\n",
       "    }\n",
       "\n",
       "    .dataframe thead th {\n",
       "        text-align: right;\n",
       "    }\n",
       "</style>\n",
       "<table border=\"1\" class=\"dataframe\">\n",
       "  <thead>\n",
       "    <tr style=\"text-align: right;\">\n",
       "      <th></th>\n",
       "      <th>price</th>\n",
       "      <th>num_subscribers</th>\n",
       "      <th>num_reviews</th>\n",
       "      <th>num_lectures</th>\n",
       "      <th>content_duration</th>\n",
       "    </tr>\n",
       "  </thead>\n",
       "  <tbody>\n",
       "    <tr>\n",
       "      <th>0</th>\n",
       "      <td>0.0</td>\n",
       "      <td>268923.0</td>\n",
       "      <td>8629.0</td>\n",
       "      <td>45.0</td>\n",
       "      <td>10.5</td>\n",
       "    </tr>\n",
       "    <tr>\n",
       "      <th>1</th>\n",
       "      <td>0.0</td>\n",
       "      <td>161029.0</td>\n",
       "      <td>279.0</td>\n",
       "      <td>27.0</td>\n",
       "      <td>3.5</td>\n",
       "    </tr>\n",
       "    <tr>\n",
       "      <th>2</th>\n",
       "      <td>200.0</td>\n",
       "      <td>121584.0</td>\n",
       "      <td>27445.0</td>\n",
       "      <td>342.0</td>\n",
       "      <td>43.0</td>\n",
       "    </tr>\n",
       "    <tr>\n",
       "      <th>3</th>\n",
       "      <td>0.0</td>\n",
       "      <td>120291.0</td>\n",
       "      <td>5924.0</td>\n",
       "      <td>30.0</td>\n",
       "      <td>3.0</td>\n",
       "    </tr>\n",
       "    <tr>\n",
       "      <th>4</th>\n",
       "      <td>200.0</td>\n",
       "      <td>114512.0</td>\n",
       "      <td>22412.0</td>\n",
       "      <td>304.0</td>\n",
       "      <td>30.5</td>\n",
       "    </tr>\n",
       "  </tbody>\n",
       "</table>\n",
       "</div>"
      ],
      "text/plain": [
       "   price  num_subscribers  num_reviews  num_lectures  content_duration\n",
       "0    0.0         268923.0       8629.0          45.0              10.5\n",
       "1    0.0         161029.0        279.0          27.0               3.5\n",
       "2  200.0         121584.0      27445.0         342.0              43.0\n",
       "3    0.0         120291.0       5924.0          30.0               3.0\n",
       "4  200.0         114512.0      22412.0         304.0              30.5"
      ]
     },
     "execution_count": 23,
     "metadata": {},
     "output_type": "execute_result"
    }
   ],
   "source": [
    "df_inter = numeric_data.loc[ : , numeric_data.columns != 'Rating']\n",
    "# show the dataframe\n",
    "df_inter.head()"
   ]
  },
  {
   "cell_type": "code",
   "execution_count": 24,
   "id": "76d278fa",
   "metadata": {},
   "outputs": [
    {
     "name": "stdout",
     "output_type": "stream",
     "text": [
      "[3.68230971e+00 1.98675572e-01 6.28953314e-02 5.08297112e+00\n",
      " 1.55009061e-03]\n",
      "[0.05507001 0.65581828 0.80199095 0.02422059 0.96859659]\n",
      "Selected Features:\n",
      "Index(['price', 'num_subscribers', 'num_reviews', 'num_lectures'], dtype='object')\n"
     ]
    }
   ],
   "source": [
    "#  Trying using Pearson Corelation coefficient to understand the impact independent numeric variable has on target\n",
    "fs = SelectKBest(f_regression, k=4)\n",
    "cat_selected = fs.fit_transform(df_inter, y)\n",
    "results=fs.fit(df_inter,y)\n",
    "print(results.scores_)\n",
    "print(results.pvalues_)\n",
    "print(\"Selected Features:\")\n",
    "mask = results.get_support()\n",
    "new_features = df_inter.columns[mask]\n",
    "print(new_features)"
   ]
  },
  {
   "cell_type": "code",
   "execution_count": null,
   "id": "e7178681",
   "metadata": {},
   "outputs": [],
   "source": [
    "# From the above it is clear that Price, num_subscribers, num_reviews, num_lectures have an impact on the rating\n",
    "# so we can have Subject, Price, num_subscribers, num_reviews, num_lectures as the independent variables"
   ]
  },
  {
   "cell_type": "code",
   "execution_count": 25,
   "id": "e5ab6706",
   "metadata": {},
   "outputs": [],
   "source": [
    "# get Categories encoded, so we can create an independent variable set\n",
    "ob=[]\n",
    "for data in df:\n",
    "    if df[data].dtype=='object':\n",
    "        ob.append(data)\n",
    "\n",
    "for dt in ob:\n",
    "    l=LabelEncoder()\n",
    "    df[dt]=l.fit_transform(df[dt])"
   ]
  },
  {
   "cell_type": "code",
   "execution_count": 26,
   "id": "af830b57",
   "metadata": {},
   "outputs": [
    {
     "data": {
      "text/html": [
       "<div>\n",
       "<style scoped>\n",
       "    .dataframe tbody tr th:only-of-type {\n",
       "        vertical-align: middle;\n",
       "    }\n",
       "\n",
       "    .dataframe tbody tr th {\n",
       "        vertical-align: top;\n",
       "    }\n",
       "\n",
       "    .dataframe thead th {\n",
       "        text-align: right;\n",
       "    }\n",
       "</style>\n",
       "<table border=\"1\" class=\"dataframe\">\n",
       "  <thead>\n",
       "    <tr style=\"text-align: right;\">\n",
       "      <th></th>\n",
       "      <th>price</th>\n",
       "      <th>num_subscribers</th>\n",
       "      <th>num_reviews</th>\n",
       "      <th>num_lectures</th>\n",
       "      <th>level</th>\n",
       "      <th>content_duration</th>\n",
       "      <th>subject</th>\n",
       "    </tr>\n",
       "  </thead>\n",
       "  <tbody>\n",
       "    <tr>\n",
       "      <th>0</th>\n",
       "      <td>0.0</td>\n",
       "      <td>268923.0</td>\n",
       "      <td>8629.0</td>\n",
       "      <td>45.0</td>\n",
       "      <td>1</td>\n",
       "      <td>10.5</td>\n",
       "      <td>3</td>\n",
       "    </tr>\n",
       "    <tr>\n",
       "      <th>1</th>\n",
       "      <td>0.0</td>\n",
       "      <td>161029.0</td>\n",
       "      <td>279.0</td>\n",
       "      <td>27.0</td>\n",
       "      <td>2</td>\n",
       "      <td>3.5</td>\n",
       "      <td>3</td>\n",
       "    </tr>\n",
       "    <tr>\n",
       "      <th>2</th>\n",
       "      <td>200.0</td>\n",
       "      <td>121584.0</td>\n",
       "      <td>27445.0</td>\n",
       "      <td>342.0</td>\n",
       "      <td>1</td>\n",
       "      <td>43.0</td>\n",
       "      <td>3</td>\n",
       "    </tr>\n",
       "    <tr>\n",
       "      <th>3</th>\n",
       "      <td>0.0</td>\n",
       "      <td>120291.0</td>\n",
       "      <td>5924.0</td>\n",
       "      <td>30.0</td>\n",
       "      <td>0</td>\n",
       "      <td>3.0</td>\n",
       "      <td>3</td>\n",
       "    </tr>\n",
       "    <tr>\n",
       "      <th>4</th>\n",
       "      <td>200.0</td>\n",
       "      <td>114512.0</td>\n",
       "      <td>22412.0</td>\n",
       "      <td>304.0</td>\n",
       "      <td>1</td>\n",
       "      <td>30.5</td>\n",
       "      <td>3</td>\n",
       "    </tr>\n",
       "  </tbody>\n",
       "</table>\n",
       "</div>"
      ],
      "text/plain": [
       "   price  num_subscribers  num_reviews  num_lectures  level  content_duration  \\\n",
       "0    0.0         268923.0       8629.0          45.0      1              10.5   \n",
       "1    0.0         161029.0        279.0          27.0      2               3.5   \n",
       "2  200.0         121584.0      27445.0         342.0      1              43.0   \n",
       "3    0.0         120291.0       5924.0          30.0      0               3.0   \n",
       "4  200.0         114512.0      22412.0         304.0      1              30.5   \n",
       "\n",
       "   subject  \n",
       "0        3  \n",
       "1        3  \n",
       "2        3  \n",
       "3        3  \n",
       "4        3  "
      ]
     },
     "execution_count": 26,
     "metadata": {},
     "output_type": "execute_result"
    }
   ],
   "source": [
    "# Create independent variable matrix to perform VIF\n",
    "X=df.drop(['Rating'],axis=1)\n",
    "X.head()"
   ]
  },
  {
   "cell_type": "code",
   "execution_count": 27,
   "id": "2384ac73",
   "metadata": {},
   "outputs": [
    {
     "data": {
      "text/plain": [
       "0    0.82\n",
       "1    0.69\n",
       "2    0.89\n",
       "3    0.78\n",
       "4    0.55\n",
       "Name: Rating, dtype: float64"
      ]
     },
     "execution_count": 27,
     "metadata": {},
     "output_type": "execute_result"
    }
   ],
   "source": [
    "# Create a seperate dependent matrix\n",
    "y=df['Rating']\n",
    "y.head()"
   ]
  },
  {
   "cell_type": "code",
   "execution_count": 28,
   "id": "3dd7202f",
   "metadata": {},
   "outputs": [
    {
     "name": "stdout",
     "output_type": "stream",
     "text": [
      "            feature       VIF\n",
      "0             price  1.997135\n",
      "1   num_subscribers  1.981714\n",
      "2       num_reviews  1.835610\n",
      "3      num_lectures  4.777731\n",
      "4             level  1.352482\n",
      "5  content_duration  4.107835\n",
      "6           subject  1.926887\n"
     ]
    }
   ],
   "source": [
    "# Using VIF on all the independent variables to find the if any variables has no impact\n",
    "vif_data = pd.DataFrame()\n",
    "vif_data[\"feature\"] = X.columns\n",
    "vif_data[\"VIF\"] = [variance_inflation_factor(X.values, i) for i in range(len(X.columns))]\n",
    "\n",
    "print(vif_data)"
   ]
  },
  {
   "cell_type": "code",
   "execution_count": null,
   "id": "860fdf1b",
   "metadata": {},
   "outputs": [],
   "source": [
    "# From the above we can understand that we can consider 'price', 'num_subscribers', 'num_reviews', 'subject' variables"
   ]
  },
  {
   "cell_type": "code",
   "execution_count": 30,
   "id": "ca7e2712",
   "metadata": {},
   "outputs": [
    {
     "data": {
      "text/html": [
       "<div>\n",
       "<style scoped>\n",
       "    .dataframe tbody tr th:only-of-type {\n",
       "        vertical-align: middle;\n",
       "    }\n",
       "\n",
       "    .dataframe tbody tr th {\n",
       "        vertical-align: top;\n",
       "    }\n",
       "\n",
       "    .dataframe thead th {\n",
       "        text-align: right;\n",
       "    }\n",
       "</style>\n",
       "<table border=\"1\" class=\"dataframe\">\n",
       "  <thead>\n",
       "    <tr style=\"text-align: right;\">\n",
       "      <th></th>\n",
       "      <th>price</th>\n",
       "      <th>num_subscribers</th>\n",
       "      <th>num_reviews</th>\n",
       "      <th>subject</th>\n",
       "    </tr>\n",
       "  </thead>\n",
       "  <tbody>\n",
       "    <tr>\n",
       "      <th>0</th>\n",
       "      <td>0.0</td>\n",
       "      <td>268923.0</td>\n",
       "      <td>8629.0</td>\n",
       "      <td>3</td>\n",
       "    </tr>\n",
       "    <tr>\n",
       "      <th>1</th>\n",
       "      <td>0.0</td>\n",
       "      <td>161029.0</td>\n",
       "      <td>279.0</td>\n",
       "      <td>3</td>\n",
       "    </tr>\n",
       "    <tr>\n",
       "      <th>2</th>\n",
       "      <td>200.0</td>\n",
       "      <td>121584.0</td>\n",
       "      <td>27445.0</td>\n",
       "      <td>3</td>\n",
       "    </tr>\n",
       "    <tr>\n",
       "      <th>3</th>\n",
       "      <td>0.0</td>\n",
       "      <td>120291.0</td>\n",
       "      <td>5924.0</td>\n",
       "      <td>3</td>\n",
       "    </tr>\n",
       "    <tr>\n",
       "      <th>4</th>\n",
       "      <td>200.0</td>\n",
       "      <td>114512.0</td>\n",
       "      <td>22412.0</td>\n",
       "      <td>3</td>\n",
       "    </tr>\n",
       "  </tbody>\n",
       "</table>\n",
       "</div>"
      ],
      "text/plain": [
       "   price  num_subscribers  num_reviews  subject\n",
       "0    0.0         268923.0       8629.0        3\n",
       "1    0.0         161029.0        279.0        3\n",
       "2  200.0         121584.0      27445.0        3\n",
       "3    0.0         120291.0       5924.0        3\n",
       "4  200.0         114512.0      22412.0        3"
      ]
     },
     "execution_count": 30,
     "metadata": {},
     "output_type": "execute_result"
    }
   ],
   "source": [
    "X=df.drop(['num_lectures', 'level', 'content_duration', 'Rating'],axis=1)\n",
    "X.head()"
   ]
  },
  {
   "cell_type": "code",
   "execution_count": 31,
   "id": "98375717",
   "metadata": {},
   "outputs": [],
   "source": [
    "# Create training & test split\n",
    "X_train, X_test, y_train, y_test = train_test_split(X, y, test_size=0.3,random_state=1)"
   ]
  },
  {
   "cell_type": "code",
   "execution_count": 32,
   "id": "fe14bdcd",
   "metadata": {},
   "outputs": [
    {
     "data": {
      "text/plain": [
       "array([[-0.49822439, -0.32762428, -0.16015103,  0.41222888],\n",
       "       [-0.49822439, -0.20717127, -0.15907594, -1.19972386],\n",
       "       [ 0.98768999, -0.18875148, -0.15262541, -0.39374749],\n",
       "       ...,\n",
       "       [ 0.49238519, -0.28136784, -0.13219872,  1.21820525],\n",
       "       [-0.41567359,  0.57204797, -0.12897346,  1.21820525],\n",
       "       [-0.0854704 , -0.26874304, -0.09027026,  1.21820525]])"
      ]
     },
     "execution_count": 32,
     "metadata": {},
     "output_type": "execute_result"
    }
   ],
   "source": [
    "# Feature Scaling\n",
    "from sklearn.preprocessing import StandardScaler\n",
    "sc = StandardScaler()\n",
    "X_train=sc.fit_transform(X_train)\n",
    "X_test=sc.transform(X_test)\n",
    "X_train"
   ]
  },
  {
   "cell_type": "code",
   "execution_count": 33,
   "id": "21a1486a",
   "metadata": {},
   "outputs": [
    {
     "data": {
      "text/plain": [
       "LinearRegression()"
      ]
     },
     "execution_count": 33,
     "metadata": {},
     "output_type": "execute_result"
    }
   ],
   "source": [
    "# create linear regression object\n",
    "reg = linear_model.LinearRegression()\n",
    "# train the model using the training sets\n",
    "reg.fit(X_train, y_train)"
   ]
  },
  {
   "cell_type": "code",
   "execution_count": 34,
   "id": "2d678cee",
   "metadata": {},
   "outputs": [
    {
     "name": "stdout",
     "output_type": "stream",
     "text": [
      "Coefficients:  [ 0.01705402  0.00266357  0.00590358 -0.04928294]\n",
      "Variance score: 0.02049901657163311\n"
     ]
    }
   ],
   "source": [
    "# regression coefficients\n",
    "print('Coefficients: ', reg.coef_)\n",
    "\n",
    "# variance score: 1 means perfect prediction\n",
    "print('Variance score: {}'.format(reg.score(X_test, y_test)))"
   ]
  },
  {
   "cell_type": "code",
   "execution_count": 35,
   "id": "2ec70213",
   "metadata": {},
   "outputs": [
    {
     "data": {
      "text/plain": [
       "(0.023599228933858796, 0.02049901657163311)"
      ]
     },
     "execution_count": 35,
     "metadata": {},
     "output_type": "execute_result"
    }
   ],
   "source": [
    "# check for the r2 score on train and tets data\n",
    "r2_score(y_train, reg.predict(X_train)),\\\n",
    "r2_score(y_test, reg.predict(X_test))"
   ]
  },
  {
   "cell_type": "code",
   "execution_count": 36,
   "id": "aa914e16",
   "metadata": {},
   "outputs": [
    {
     "data": {
      "text/plain": [
       "RandomForestRegressor(random_state=0)"
      ]
     },
     "execution_count": 36,
     "metadata": {},
     "output_type": "execute_result"
    }
   ],
   "source": [
    "# create regressor object\n",
    "regressor = RandomForestRegressor(n_estimators = 100, random_state = 0)\n",
    "# fit the regressor with x and y data\n",
    "regressor.fit(X_train, y_train)"
   ]
  },
  {
   "cell_type": "code",
   "execution_count": 37,
   "id": "7f8ac681",
   "metadata": {},
   "outputs": [
    {
     "name": "stdout",
     "output_type": "stream",
     "text": [
      "Variance score: 0.38209831781811976\n"
     ]
    }
   ],
   "source": [
    "# variance score: 1 means perfect prediction\n",
    "print('Variance score: {}'.format(regressor.score(X_test, y_test)))"
   ]
  },
  {
   "cell_type": "code",
   "execution_count": 38,
   "id": "97e8d4d0",
   "metadata": {},
   "outputs": [
    {
     "data": {
      "text/plain": [
       "(0.9020125296957137, 0.38209831781811976)"
      ]
     },
     "execution_count": 38,
     "metadata": {},
     "output_type": "execute_result"
    }
   ],
   "source": [
    "# check for the r2 score on train and tets data\n",
    "r2_score(y_train, regressor.predict(X_train)),\\\n",
    "r2_score(y_test, regressor.predict(X_test))"
   ]
  },
  {
   "cell_type": "code",
   "execution_count": 39,
   "id": "1af1e641",
   "metadata": {},
   "outputs": [
    {
     "data": {
      "text/plain": [
       "SVR()"
      ]
     },
     "execution_count": 39,
     "metadata": {},
     "output_type": "execute_result"
    }
   ],
   "source": [
    "from sklearn.svm import SVR\n",
    "regressor = SVR(kernel = 'rbf')\n",
    "regressor.fit(X_train, y_train)"
   ]
  },
  {
   "cell_type": "code",
   "execution_count": 40,
   "id": "d7ecca9c",
   "metadata": {},
   "outputs": [
    {
     "data": {
      "text/plain": [
       "(0.16593748652215823, 0.0813178536901824)"
      ]
     },
     "execution_count": 40,
     "metadata": {},
     "output_type": "execute_result"
    }
   ],
   "source": [
    "# check for the r2 score on train and tets data\n",
    "r2_score(y_train, regressor.predict(X_train)),\\\n",
    "r2_score(y_test, regressor.predict(X_test))"
   ]
  },
  {
   "cell_type": "code",
   "execution_count": 41,
   "id": "7d52c691",
   "metadata": {},
   "outputs": [
    {
     "data": {
      "text/plain": [
       "DecisionTreeRegressor(random_state=0)"
      ]
     },
     "execution_count": 41,
     "metadata": {},
     "output_type": "execute_result"
    }
   ],
   "source": [
    "# import the regressor\n",
    "from sklearn.tree import DecisionTreeRegressor \n",
    "# create a regressor object\n",
    "regressor = DecisionTreeRegressor(random_state = 0) \n",
    "# fit the regressor with X and Y data\n",
    "regressor.fit(X_train, y_train)"
   ]
  },
  {
   "cell_type": "code",
   "execution_count": 42,
   "id": "a25fc61b",
   "metadata": {},
   "outputs": [
    {
     "data": {
      "text/plain": [
       "(0.9850224388100915, -0.008305617074338745)"
      ]
     },
     "execution_count": 42,
     "metadata": {},
     "output_type": "execute_result"
    }
   ],
   "source": [
    "# check for the r2 score on train and tets data\n",
    "r2_score(y_train, regressor.predict(X_train)),\\\n",
    "r2_score(y_test, regressor.predict(X_test))"
   ]
  },
  {
   "cell_type": "code",
   "execution_count": null,
   "id": "0aa26bb1",
   "metadata": {},
   "outputs": [],
   "source": [
    "# From the above it is clear that random Forest is the best Model for this Problem"
   ]
  }
 ],
 "metadata": {
  "kernelspec": {
   "display_name": "Python 3 (ipykernel)",
   "language": "python",
   "name": "python3"
  },
  "language_info": {
   "codemirror_mode": {
    "name": "ipython",
    "version": 3
   },
   "file_extension": ".py",
   "mimetype": "text/x-python",
   "name": "python",
   "nbconvert_exporter": "python",
   "pygments_lexer": "ipython3",
   "version": "3.9.12"
  }
 },
 "nbformat": 4,
 "nbformat_minor": 5
}

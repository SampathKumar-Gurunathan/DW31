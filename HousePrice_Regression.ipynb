{
 "cells": [
  {
   "cell_type": "code",
   "execution_count": 2,
   "id": "f5fa66ef",
   "metadata": {},
   "outputs": [],
   "source": [
    "# import necessary packages\n",
    "import pandas as pd\n",
    "import numpy as np\n",
    "import matplotlib.pyplot as plt"
   ]
  },
  {
   "cell_type": "code",
   "execution_count": 70,
   "id": "50f1b566",
   "metadata": {},
   "outputs": [
    {
     "data": {
      "text/html": [
       "<div>\n",
       "<style scoped>\n",
       "    .dataframe tbody tr th:only-of-type {\n",
       "        vertical-align: middle;\n",
       "    }\n",
       "\n",
       "    .dataframe tbody tr th {\n",
       "        vertical-align: top;\n",
       "    }\n",
       "\n",
       "    .dataframe thead th {\n",
       "        text-align: right;\n",
       "    }\n",
       "</style>\n",
       "<table border=\"1\" class=\"dataframe\">\n",
       "  <thead>\n",
       "    <tr style=\"text-align: right;\">\n",
       "      <th></th>\n",
       "      <th>Avg. Area Income</th>\n",
       "      <th>House Age</th>\n",
       "      <th>Number of Rooms</th>\n",
       "      <th>Number of Bedrooms</th>\n",
       "      <th>Area Population</th>\n",
       "      <th>Price</th>\n",
       "      <th>Address</th>\n",
       "    </tr>\n",
       "  </thead>\n",
       "  <tbody>\n",
       "    <tr>\n",
       "      <th>0</th>\n",
       "      <td>79545.45857</td>\n",
       "      <td>5.682861</td>\n",
       "      <td>7.009188</td>\n",
       "      <td>4.09</td>\n",
       "      <td>23086.80050</td>\n",
       "      <td>1.059034e+06</td>\n",
       "      <td>208 Michael Ferry Apt. 674\\nLaurabury, NE 3701...</td>\n",
       "    </tr>\n",
       "    <tr>\n",
       "      <th>1</th>\n",
       "      <td>79248.64245</td>\n",
       "      <td>6.002900</td>\n",
       "      <td>6.730821</td>\n",
       "      <td>3.09</td>\n",
       "      <td>40173.07217</td>\n",
       "      <td>1.505891e+06</td>\n",
       "      <td>188 Johnson Views Suite 079\\nLake Kathleen, CA...</td>\n",
       "    </tr>\n",
       "    <tr>\n",
       "      <th>2</th>\n",
       "      <td>61287.06718</td>\n",
       "      <td>5.865890</td>\n",
       "      <td>8.512727</td>\n",
       "      <td>5.13</td>\n",
       "      <td>36882.15940</td>\n",
       "      <td>1.058988e+06</td>\n",
       "      <td>9127 Elizabeth Stravenue\\nDanieltown, WI 06482...</td>\n",
       "    </tr>\n",
       "    <tr>\n",
       "      <th>3</th>\n",
       "      <td>63345.24005</td>\n",
       "      <td>7.188236</td>\n",
       "      <td>5.586729</td>\n",
       "      <td>3.26</td>\n",
       "      <td>34310.24283</td>\n",
       "      <td>1.260617e+06</td>\n",
       "      <td>USS Barnett\\nFPO AP 44820</td>\n",
       "    </tr>\n",
       "    <tr>\n",
       "      <th>4</th>\n",
       "      <td>59982.19723</td>\n",
       "      <td>5.040555</td>\n",
       "      <td>7.839388</td>\n",
       "      <td>4.23</td>\n",
       "      <td>26354.10947</td>\n",
       "      <td>6.309435e+05</td>\n",
       "      <td>USNS Raymond\\nFPO AE 09386</td>\n",
       "    </tr>\n",
       "  </tbody>\n",
       "</table>\n",
       "</div>"
      ],
      "text/plain": [
       "   Avg. Area Income  House Age  Number of Rooms  Number of Bedrooms  \\\n",
       "0       79545.45857   5.682861         7.009188                4.09   \n",
       "1       79248.64245   6.002900         6.730821                3.09   \n",
       "2       61287.06718   5.865890         8.512727                5.13   \n",
       "3       63345.24005   7.188236         5.586729                3.26   \n",
       "4       59982.19723   5.040555         7.839388                4.23   \n",
       "\n",
       "   Area Population         Price  \\\n",
       "0      23086.80050  1.059034e+06   \n",
       "1      40173.07217  1.505891e+06   \n",
       "2      36882.15940  1.058988e+06   \n",
       "3      34310.24283  1.260617e+06   \n",
       "4      26354.10947  6.309435e+05   \n",
       "\n",
       "                                             Address  \n",
       "0  208 Michael Ferry Apt. 674\\nLaurabury, NE 3701...  \n",
       "1  188 Johnson Views Suite 079\\nLake Kathleen, CA...  \n",
       "2  9127 Elizabeth Stravenue\\nDanieltown, WI 06482...  \n",
       "3                          USS Barnett\\nFPO AP 44820  \n",
       "4                         USNS Raymond\\nFPO AE 09386  "
      ]
     },
     "execution_count": 70,
     "metadata": {},
     "output_type": "execute_result"
    }
   ],
   "source": [
    "# load the data\n",
    "df=pd.read_csv(\"House_price.csv\")\n",
    "df.head()"
   ]
  },
  {
   "cell_type": "code",
   "execution_count": 4,
   "id": "ffb2ab65",
   "metadata": {},
   "outputs": [
    {
     "data": {
      "text/plain": [
       "(4548, 7)"
      ]
     },
     "execution_count": 4,
     "metadata": {},
     "output_type": "execute_result"
    }
   ],
   "source": [
    "# Get the shape of the data (Understand the no of rows & columns)\n",
    "df.shape"
   ]
  },
  {
   "cell_type": "code",
   "execution_count": 5,
   "id": "6d51e7fb",
   "metadata": {},
   "outputs": [
    {
     "name": "stdout",
     "output_type": "stream",
     "text": [
      "<class 'pandas.core.frame.DataFrame'>\n",
      "RangeIndex: 4548 entries, 0 to 4547\n",
      "Data columns (total 7 columns):\n",
      " #   Column              Non-Null Count  Dtype  \n",
      "---  ------              --------------  -----  \n",
      " 0   Avg. Area Income    4548 non-null   float64\n",
      " 1   House Age           4548 non-null   float64\n",
      " 2   Number of Rooms     4548 non-null   float64\n",
      " 3   Number of Bedrooms  4548 non-null   float64\n",
      " 4   Area Population     4548 non-null   float64\n",
      " 5   Price               4548 non-null   float64\n",
      " 6   Address             4548 non-null   object \n",
      "dtypes: float64(6), object(1)\n",
      "memory usage: 248.8+ KB\n"
     ]
    }
   ],
   "source": [
    "# Get information about the Columns\n",
    "df.info()"
   ]
  },
  {
   "cell_type": "code",
   "execution_count": 6,
   "id": "23120554",
   "metadata": {},
   "outputs": [
    {
     "data": {
      "text/html": [
       "<div>\n",
       "<style scoped>\n",
       "    .dataframe tbody tr th:only-of-type {\n",
       "        vertical-align: middle;\n",
       "    }\n",
       "\n",
       "    .dataframe tbody tr th {\n",
       "        vertical-align: top;\n",
       "    }\n",
       "\n",
       "    .dataframe thead th {\n",
       "        text-align: right;\n",
       "    }\n",
       "</style>\n",
       "<table border=\"1\" class=\"dataframe\">\n",
       "  <thead>\n",
       "    <tr style=\"text-align: right;\">\n",
       "      <th></th>\n",
       "      <th>Avg. Area Income</th>\n",
       "      <th>House Age</th>\n",
       "      <th>Number of Rooms</th>\n",
       "      <th>Number of Bedrooms</th>\n",
       "      <th>Area Population</th>\n",
       "      <th>Price</th>\n",
       "    </tr>\n",
       "  </thead>\n",
       "  <tbody>\n",
       "    <tr>\n",
       "      <th>count</th>\n",
       "      <td>4548.000000</td>\n",
       "      <td>4548.000000</td>\n",
       "      <td>4548.000000</td>\n",
       "      <td>4548.000000</td>\n",
       "      <td>4548.000000</td>\n",
       "      <td>4.548000e+03</td>\n",
       "    </tr>\n",
       "    <tr>\n",
       "      <th>mean</th>\n",
       "      <td>68611.700818</td>\n",
       "      <td>5.978918</td>\n",
       "      <td>6.987646</td>\n",
       "      <td>3.981693</td>\n",
       "      <td>36187.469334</td>\n",
       "      <td>1.233916e+06</td>\n",
       "    </tr>\n",
       "    <tr>\n",
       "      <th>std</th>\n",
       "      <td>10686.487761</td>\n",
       "      <td>0.990850</td>\n",
       "      <td>1.006587</td>\n",
       "      <td>1.230939</td>\n",
       "      <td>9910.189915</td>\n",
       "      <td>3.545676e+05</td>\n",
       "    </tr>\n",
       "    <tr>\n",
       "      <th>min</th>\n",
       "      <td>17796.631190</td>\n",
       "      <td>2.644304</td>\n",
       "      <td>3.236194</td>\n",
       "      <td>2.000000</td>\n",
       "      <td>172.610686</td>\n",
       "      <td>1.593866e+04</td>\n",
       "    </tr>\n",
       "    <tr>\n",
       "      <th>25%</th>\n",
       "      <td>61485.150192</td>\n",
       "      <td>5.332187</td>\n",
       "      <td>6.299692</td>\n",
       "      <td>3.140000</td>\n",
       "      <td>29423.163510</td>\n",
       "      <td>9.977751e+05</td>\n",
       "    </tr>\n",
       "    <tr>\n",
       "      <th>50%</th>\n",
       "      <td>68817.036575</td>\n",
       "      <td>5.960872</td>\n",
       "      <td>7.002245</td>\n",
       "      <td>4.050000</td>\n",
       "      <td>36215.560985</td>\n",
       "      <td>1.234571e+06</td>\n",
       "    </tr>\n",
       "    <tr>\n",
       "      <th>75%</th>\n",
       "      <td>75820.741747</td>\n",
       "      <td>6.658368</td>\n",
       "      <td>7.665871</td>\n",
       "      <td>4.490000</td>\n",
       "      <td>42880.554642</td>\n",
       "      <td>1.470616e+06</td>\n",
       "    </tr>\n",
       "    <tr>\n",
       "      <th>max</th>\n",
       "      <td>107701.748400</td>\n",
       "      <td>9.519088</td>\n",
       "      <td>10.759588</td>\n",
       "      <td>6.500000</td>\n",
       "      <td>69592.040240</td>\n",
       "      <td>2.469066e+06</td>\n",
       "    </tr>\n",
       "  </tbody>\n",
       "</table>\n",
       "</div>"
      ],
      "text/plain": [
       "       Avg. Area Income    House Age  Number of Rooms  Number of Bedrooms  \\\n",
       "count       4548.000000  4548.000000      4548.000000         4548.000000   \n",
       "mean       68611.700818     5.978918         6.987646            3.981693   \n",
       "std        10686.487761     0.990850         1.006587            1.230939   \n",
       "min        17796.631190     2.644304         3.236194            2.000000   \n",
       "25%        61485.150192     5.332187         6.299692            3.140000   \n",
       "50%        68817.036575     5.960872         7.002245            4.050000   \n",
       "75%        75820.741747     6.658368         7.665871            4.490000   \n",
       "max       107701.748400     9.519088        10.759588            6.500000   \n",
       "\n",
       "       Area Population         Price  \n",
       "count      4548.000000  4.548000e+03  \n",
       "mean      36187.469334  1.233916e+06  \n",
       "std        9910.189915  3.545676e+05  \n",
       "min         172.610686  1.593866e+04  \n",
       "25%       29423.163510  9.977751e+05  \n",
       "50%       36215.560985  1.234571e+06  \n",
       "75%       42880.554642  1.470616e+06  \n",
       "max       69592.040240  2.469066e+06  "
      ]
     },
     "execution_count": 6,
     "metadata": {},
     "output_type": "execute_result"
    }
   ],
   "source": [
    "# Get information about the numeric columns\n",
    "df.describe()"
   ]
  },
  {
   "cell_type": "code",
   "execution_count": 7,
   "id": "9b0c2ce9",
   "metadata": {},
   "outputs": [
    {
     "name": "stdout",
     "output_type": "stream",
     "text": [
      "                                                  Address\n",
      "count                                                4548\n",
      "unique                                               4548\n",
      "top     208 Michael Ferry Apt. 674\\nLaurabury, NE 3701...\n",
      "freq                                                    1\n"
     ]
    }
   ],
   "source": [
    "# get information about the column with string data\n",
    "st = df.describe(include='O')\n",
    "print(st)"
   ]
  },
  {
   "cell_type": "code",
   "execution_count": 71,
   "id": "d8e657c5",
   "metadata": {},
   "outputs": [],
   "source": [
    "# Extract City from Address\n",
    "df['Ct'] = df['Address'].str.extract(r'([\" \"][A-Z][A-Z][\" \"][0-9][0-9][0-9][0-9][0-9]*)', expand=False).str.strip()\n",
    "df['City'] = df['Ct'].str.extract(r'([A-Z][A-Z])', expand=False).str.strip()\n",
    "df=df.drop(['Ct'],axis=1)"
   ]
  },
  {
   "cell_type": "code",
   "execution_count": 42,
   "id": "4310b046",
   "metadata": {},
   "outputs": [
    {
     "data": {
      "text/plain": [
       "1"
      ]
     },
     "execution_count": 42,
     "metadata": {},
     "output_type": "execute_result"
    }
   ],
   "source": [
    "# Check whether we were able to extract City for all the Addtess provided\n",
    "df['City'].isnull().sum()"
   ]
  },
  {
   "cell_type": "code",
   "execution_count": 72,
   "id": "90a42d48",
   "metadata": {},
   "outputs": [
    {
     "data": {
      "text/html": [
       "<div>\n",
       "<style scoped>\n",
       "    .dataframe tbody tr th:only-of-type {\n",
       "        vertical-align: middle;\n",
       "    }\n",
       "\n",
       "    .dataframe tbody tr th {\n",
       "        vertical-align: top;\n",
       "    }\n",
       "\n",
       "    .dataframe thead th {\n",
       "        text-align: right;\n",
       "    }\n",
       "</style>\n",
       "<table border=\"1\" class=\"dataframe\">\n",
       "  <thead>\n",
       "    <tr style=\"text-align: right;\">\n",
       "      <th></th>\n",
       "      <th>Avg. Area Income</th>\n",
       "      <th>House Age</th>\n",
       "      <th>Number of Rooms</th>\n",
       "      <th>Number of Bedrooms</th>\n",
       "      <th>Area Population</th>\n",
       "      <th>Price</th>\n",
       "      <th>Address</th>\n",
       "      <th>City</th>\n",
       "    </tr>\n",
       "  </thead>\n",
       "  <tbody>\n",
       "    <tr>\n",
       "      <th>4547</th>\n",
       "      <td>66935.47508</td>\n",
       "      <td>6.37639</td>\n",
       "      <td>8.513826</td>\n",
       "      <td>5.47</td>\n",
       "      <td>17573.6171</td>\n",
       "      <td>1109059.054</td>\n",
       "      <td>55454 M</td>\n",
       "      <td>NaN</td>\n",
       "    </tr>\n",
       "  </tbody>\n",
       "</table>\n",
       "</div>"
      ],
      "text/plain": [
       "      Avg. Area Income  House Age  Number of Rooms  Number of Bedrooms  \\\n",
       "4547       66935.47508    6.37639         8.513826                5.47   \n",
       "\n",
       "      Area Population        Price  Address City  \n",
       "4547       17573.6171  1109059.054  55454 M  NaN  "
      ]
     },
     "execution_count": 72,
     "metadata": {},
     "output_type": "execute_result"
    }
   ],
   "source": [
    "# Find the details of the row for which the City column is null\n",
    "df[df['City'].isnull()]"
   ]
  },
  {
   "cell_type": "code",
   "execution_count": 11,
   "id": "dda2897b",
   "metadata": {},
   "outputs": [
    {
     "data": {
      "text/plain": [
       "AP    153\n",
       "AA    152\n",
       "AE    151\n",
       "KY     85\n",
       "GU     84\n",
       "     ... \n",
       "AK     62\n",
       "KS     59\n",
       "MD     55\n",
       "IL     53\n",
       "VI     48\n",
       "Name: City, Length: 62, dtype: int64"
      ]
     },
     "execution_count": 11,
     "metadata": {},
     "output_type": "execute_result"
    }
   ],
   "source": [
    "df['City'].value_counts()"
   ]
  },
  {
   "cell_type": "code",
   "execution_count": 73,
   "id": "caf445c9",
   "metadata": {},
   "outputs": [],
   "source": [
    "# Drop the row for which the City column is NA\n",
    "df = df.dropna()"
   ]
  },
  {
   "cell_type": "code",
   "execution_count": 74,
   "id": "56cc1fa1",
   "metadata": {},
   "outputs": [],
   "source": [
    "# Apply Label encoding on the City Column and convert it into numeric\n",
    "from sklearn.preprocessing import LabelEncoder\n",
    "le = LabelEncoder()\n",
    "df['City'] = le.fit_transform(df['City'])"
   ]
  },
  {
   "cell_type": "code",
   "execution_count": 91,
   "id": "6a92a458",
   "metadata": {},
   "outputs": [
    {
     "name": "stdout",
     "output_type": "stream",
     "text": [
      "[37  8 59  4  1 22  9 52  0 40 48  5 17 27 21 29 12  7 25 30  3 42 41 55\n",
      " 19 44 38 31 60 61 28 54 51 10  2 58 49 39 23 35 18 57 14 36 24 32 45 53\n",
      " 11 47 34  6 43 33 20 56 15 46 26 50 16 13]\n"
     ]
    }
   ],
   "source": [
    "print(df['City'].unique())"
   ]
  },
  {
   "cell_type": "code",
   "execution_count": 75,
   "id": "d7b21b4c",
   "metadata": {},
   "outputs": [
    {
     "data": {
      "text/html": [
       "<div>\n",
       "<style scoped>\n",
       "    .dataframe tbody tr th:only-of-type {\n",
       "        vertical-align: middle;\n",
       "    }\n",
       "\n",
       "    .dataframe tbody tr th {\n",
       "        vertical-align: top;\n",
       "    }\n",
       "\n",
       "    .dataframe thead th {\n",
       "        text-align: right;\n",
       "    }\n",
       "</style>\n",
       "<table border=\"1\" class=\"dataframe\">\n",
       "  <thead>\n",
       "    <tr style=\"text-align: right;\">\n",
       "      <th></th>\n",
       "      <th>Avg. Area Income</th>\n",
       "      <th>House Age</th>\n",
       "      <th>Number of Rooms</th>\n",
       "      <th>Number of Bedrooms</th>\n",
       "      <th>Area Population</th>\n",
       "      <th>Price</th>\n",
       "      <th>Address</th>\n",
       "      <th>City</th>\n",
       "    </tr>\n",
       "  </thead>\n",
       "  <tbody>\n",
       "    <tr>\n",
       "      <th>0</th>\n",
       "      <td>79545.45857</td>\n",
       "      <td>5.682861</td>\n",
       "      <td>7.009188</td>\n",
       "      <td>4.09</td>\n",
       "      <td>23086.80050</td>\n",
       "      <td>1.059034e+06</td>\n",
       "      <td>208 Michael Ferry Apt. 674\\nLaurabury, NE 3701...</td>\n",
       "      <td>37</td>\n",
       "    </tr>\n",
       "    <tr>\n",
       "      <th>1</th>\n",
       "      <td>79248.64245</td>\n",
       "      <td>6.002900</td>\n",
       "      <td>6.730821</td>\n",
       "      <td>3.09</td>\n",
       "      <td>40173.07217</td>\n",
       "      <td>1.505891e+06</td>\n",
       "      <td>188 Johnson Views Suite 079\\nLake Kathleen, CA...</td>\n",
       "      <td>8</td>\n",
       "    </tr>\n",
       "    <tr>\n",
       "      <th>2</th>\n",
       "      <td>61287.06718</td>\n",
       "      <td>5.865890</td>\n",
       "      <td>8.512727</td>\n",
       "      <td>5.13</td>\n",
       "      <td>36882.15940</td>\n",
       "      <td>1.058988e+06</td>\n",
       "      <td>9127 Elizabeth Stravenue\\nDanieltown, WI 06482...</td>\n",
       "      <td>59</td>\n",
       "    </tr>\n",
       "    <tr>\n",
       "      <th>3</th>\n",
       "      <td>63345.24005</td>\n",
       "      <td>7.188236</td>\n",
       "      <td>5.586729</td>\n",
       "      <td>3.26</td>\n",
       "      <td>34310.24283</td>\n",
       "      <td>1.260617e+06</td>\n",
       "      <td>USS Barnett\\nFPO AP 44820</td>\n",
       "      <td>4</td>\n",
       "    </tr>\n",
       "    <tr>\n",
       "      <th>4</th>\n",
       "      <td>59982.19723</td>\n",
       "      <td>5.040555</td>\n",
       "      <td>7.839388</td>\n",
       "      <td>4.23</td>\n",
       "      <td>26354.10947</td>\n",
       "      <td>6.309435e+05</td>\n",
       "      <td>USNS Raymond\\nFPO AE 09386</td>\n",
       "      <td>1</td>\n",
       "    </tr>\n",
       "    <tr>\n",
       "      <th>...</th>\n",
       "      <td>...</td>\n",
       "      <td>...</td>\n",
       "      <td>...</td>\n",
       "      <td>...</td>\n",
       "      <td>...</td>\n",
       "      <td>...</td>\n",
       "      <td>...</td>\n",
       "      <td>...</td>\n",
       "    </tr>\n",
       "    <tr>\n",
       "      <th>4542</th>\n",
       "      <td>58153.22930</td>\n",
       "      <td>5.643086</td>\n",
       "      <td>6.751951</td>\n",
       "      <td>3.39</td>\n",
       "      <td>45756.53195</td>\n",
       "      <td>1.150439e+06</td>\n",
       "      <td>4771 Thomas Drive Apt. 125\\nEast Lauren, GA 99732</td>\n",
       "      <td>15</td>\n",
       "    </tr>\n",
       "    <tr>\n",
       "      <th>4543</th>\n",
       "      <td>84556.63627</td>\n",
       "      <td>5.092459</td>\n",
       "      <td>6.723412</td>\n",
       "      <td>2.42</td>\n",
       "      <td>31797.31744</td>\n",
       "      <td>1.326847e+06</td>\n",
       "      <td>97160 Tracy Junction\\nErinborough, WY 73884</td>\n",
       "      <td>61</td>\n",
       "    </tr>\n",
       "    <tr>\n",
       "      <th>4544</th>\n",
       "      <td>82732.98111</td>\n",
       "      <td>5.332712</td>\n",
       "      <td>6.198476</td>\n",
       "      <td>3.49</td>\n",
       "      <td>41136.52722</td>\n",
       "      <td>1.252664e+06</td>\n",
       "      <td>0630 Wilson Shoal\\nNorth Philip, AK 91611</td>\n",
       "      <td>2</td>\n",
       "    </tr>\n",
       "    <tr>\n",
       "      <th>4545</th>\n",
       "      <td>65694.05127</td>\n",
       "      <td>6.436741</td>\n",
       "      <td>6.704929</td>\n",
       "      <td>3.14</td>\n",
       "      <td>43406.71203</td>\n",
       "      <td>1.359763e+06</td>\n",
       "      <td>PSC 2681, Box 5759\\nAPO AA 82431-2879</td>\n",
       "      <td>0</td>\n",
       "    </tr>\n",
       "    <tr>\n",
       "      <th>4546</th>\n",
       "      <td>76061.35071</td>\n",
       "      <td>7.148713</td>\n",
       "      <td>7.546066</td>\n",
       "      <td>6.30</td>\n",
       "      <td>40876.96459</td>\n",
       "      <td>1.778013e+06</td>\n",
       "      <td>04117 Bennett Greens\\nGonzalezfort, NJ 86640-8362</td>\n",
       "      <td>39</td>\n",
       "    </tr>\n",
       "  </tbody>\n",
       "</table>\n",
       "<p>4547 rows × 8 columns</p>\n",
       "</div>"
      ],
      "text/plain": [
       "      Avg. Area Income  House Age  Number of Rooms  Number of Bedrooms  \\\n",
       "0          79545.45857   5.682861         7.009188                4.09   \n",
       "1          79248.64245   6.002900         6.730821                3.09   \n",
       "2          61287.06718   5.865890         8.512727                5.13   \n",
       "3          63345.24005   7.188236         5.586729                3.26   \n",
       "4          59982.19723   5.040555         7.839388                4.23   \n",
       "...                ...        ...              ...                 ...   \n",
       "4542       58153.22930   5.643086         6.751951                3.39   \n",
       "4543       84556.63627   5.092459         6.723412                2.42   \n",
       "4544       82732.98111   5.332712         6.198476                3.49   \n",
       "4545       65694.05127   6.436741         6.704929                3.14   \n",
       "4546       76061.35071   7.148713         7.546066                6.30   \n",
       "\n",
       "      Area Population         Price  \\\n",
       "0         23086.80050  1.059034e+06   \n",
       "1         40173.07217  1.505891e+06   \n",
       "2         36882.15940  1.058988e+06   \n",
       "3         34310.24283  1.260617e+06   \n",
       "4         26354.10947  6.309435e+05   \n",
       "...               ...           ...   \n",
       "4542      45756.53195  1.150439e+06   \n",
       "4543      31797.31744  1.326847e+06   \n",
       "4544      41136.52722  1.252664e+06   \n",
       "4545      43406.71203  1.359763e+06   \n",
       "4546      40876.96459  1.778013e+06   \n",
       "\n",
       "                                                Address  City  \n",
       "0     208 Michael Ferry Apt. 674\\nLaurabury, NE 3701...    37  \n",
       "1     188 Johnson Views Suite 079\\nLake Kathleen, CA...     8  \n",
       "2     9127 Elizabeth Stravenue\\nDanieltown, WI 06482...    59  \n",
       "3                             USS Barnett\\nFPO AP 44820     4  \n",
       "4                            USNS Raymond\\nFPO AE 09386     1  \n",
       "...                                                 ...   ...  \n",
       "4542  4771 Thomas Drive Apt. 125\\nEast Lauren, GA 99732    15  \n",
       "4543        97160 Tracy Junction\\nErinborough, WY 73884    61  \n",
       "4544          0630 Wilson Shoal\\nNorth Philip, AK 91611     2  \n",
       "4545              PSC 2681, Box 5759\\nAPO AA 82431-2879     0  \n",
       "4546  04117 Bennett Greens\\nGonzalezfort, NJ 86640-8362    39  \n",
       "\n",
       "[4547 rows x 8 columns]"
      ]
     },
     "execution_count": 75,
     "metadata": {},
     "output_type": "execute_result"
    }
   ],
   "source": [
    "df"
   ]
  },
  {
   "cell_type": "code",
   "execution_count": 19,
   "id": "89da0eb0",
   "metadata": {},
   "outputs": [
    {
     "data": {
      "text/html": [
       "<div>\n",
       "<style scoped>\n",
       "    .dataframe tbody tr th:only-of-type {\n",
       "        vertical-align: middle;\n",
       "    }\n",
       "\n",
       "    .dataframe tbody tr th {\n",
       "        vertical-align: top;\n",
       "    }\n",
       "\n",
       "    .dataframe thead th {\n",
       "        text-align: right;\n",
       "    }\n",
       "</style>\n",
       "<table border=\"1\" class=\"dataframe\">\n",
       "  <thead>\n",
       "    <tr style=\"text-align: right;\">\n",
       "      <th></th>\n",
       "      <th>Avg. Area Income</th>\n",
       "      <th>House Age</th>\n",
       "      <th>Number of Rooms</th>\n",
       "      <th>Number of Bedrooms</th>\n",
       "      <th>Area Population</th>\n",
       "      <th>Price</th>\n",
       "      <th>City</th>\n",
       "    </tr>\n",
       "  </thead>\n",
       "  <tbody>\n",
       "    <tr>\n",
       "      <th>count</th>\n",
       "      <td>4547.000000</td>\n",
       "      <td>4547.000000</td>\n",
       "      <td>4547.000000</td>\n",
       "      <td>4547.000000</td>\n",
       "      <td>4547.000000</td>\n",
       "      <td>4.547000e+03</td>\n",
       "      <td>4547.000000</td>\n",
       "    </tr>\n",
       "    <tr>\n",
       "      <th>mean</th>\n",
       "      <td>68612.069462</td>\n",
       "      <td>5.978831</td>\n",
       "      <td>6.987310</td>\n",
       "      <td>3.981366</td>\n",
       "      <td>36191.562989</td>\n",
       "      <td>1.233943e+06</td>\n",
       "      <td>28.839675</td>\n",
       "    </tr>\n",
       "    <tr>\n",
       "      <th>std</th>\n",
       "      <td>10687.634147</td>\n",
       "      <td>0.990941</td>\n",
       "      <td>1.006443</td>\n",
       "      <td>1.230876</td>\n",
       "      <td>9907.433368</td>\n",
       "      <td>3.546018e+05</td>\n",
       "      <td>18.480737</td>\n",
       "    </tr>\n",
       "    <tr>\n",
       "      <th>min</th>\n",
       "      <td>17796.631190</td>\n",
       "      <td>2.644304</td>\n",
       "      <td>3.236194</td>\n",
       "      <td>2.000000</td>\n",
       "      <td>172.610686</td>\n",
       "      <td>1.593866e+04</td>\n",
       "      <td>0.000000</td>\n",
       "    </tr>\n",
       "    <tr>\n",
       "      <th>25%</th>\n",
       "      <td>61484.426395</td>\n",
       "      <td>5.331910</td>\n",
       "      <td>6.299576</td>\n",
       "      <td>3.140000</td>\n",
       "      <td>29424.616885</td>\n",
       "      <td>9.977230e+05</td>\n",
       "      <td>12.000000</td>\n",
       "    </tr>\n",
       "    <tr>\n",
       "      <th>50%</th>\n",
       "      <td>68817.202360</td>\n",
       "      <td>5.960820</td>\n",
       "      <td>7.002164</td>\n",
       "      <td>4.050000</td>\n",
       "      <td>36215.962550</td>\n",
       "      <td>1.234610e+06</td>\n",
       "      <td>29.000000</td>\n",
       "    </tr>\n",
       "    <tr>\n",
       "      <th>75%</th>\n",
       "      <td>75821.684715</td>\n",
       "      <td>6.658390</td>\n",
       "      <td>7.665622</td>\n",
       "      <td>4.490000</td>\n",
       "      <td>42883.591795</td>\n",
       "      <td>1.470754e+06</td>\n",
       "      <td>45.000000</td>\n",
       "    </tr>\n",
       "    <tr>\n",
       "      <th>max</th>\n",
       "      <td>107701.748400</td>\n",
       "      <td>9.519088</td>\n",
       "      <td>10.759588</td>\n",
       "      <td>6.500000</td>\n",
       "      <td>69592.040240</td>\n",
       "      <td>2.469066e+06</td>\n",
       "      <td>61.000000</td>\n",
       "    </tr>\n",
       "  </tbody>\n",
       "</table>\n",
       "</div>"
      ],
      "text/plain": [
       "       Avg. Area Income    House Age  Number of Rooms  Number of Bedrooms  \\\n",
       "count       4547.000000  4547.000000      4547.000000         4547.000000   \n",
       "mean       68612.069462     5.978831         6.987310            3.981366   \n",
       "std        10687.634147     0.990941         1.006443            1.230876   \n",
       "min        17796.631190     2.644304         3.236194            2.000000   \n",
       "25%        61484.426395     5.331910         6.299576            3.140000   \n",
       "50%        68817.202360     5.960820         7.002164            4.050000   \n",
       "75%        75821.684715     6.658390         7.665622            4.490000   \n",
       "max       107701.748400     9.519088        10.759588            6.500000   \n",
       "\n",
       "       Area Population         Price         City  \n",
       "count      4547.000000  4.547000e+03  4547.000000  \n",
       "mean      36191.562989  1.233943e+06    28.839675  \n",
       "std        9907.433368  3.546018e+05    18.480737  \n",
       "min         172.610686  1.593866e+04     0.000000  \n",
       "25%       29424.616885  9.977230e+05    12.000000  \n",
       "50%       36215.962550  1.234610e+06    29.000000  \n",
       "75%       42883.591795  1.470754e+06    45.000000  \n",
       "max       69592.040240  2.469066e+06    61.000000  "
      ]
     },
     "execution_count": 19,
     "metadata": {},
     "output_type": "execute_result"
    }
   ],
   "source": [
    "# Get information about all the columns now\n",
    "df.describe()"
   ]
  },
  {
   "cell_type": "code",
   "execution_count": null,
   "id": "baf216bb",
   "metadata": {},
   "outputs": [],
   "source": [
    "# No Null values present to be actioned\n",
    "# No Categorical Data to be actioned (Already addressed City)"
   ]
  },
  {
   "cell_type": "code",
   "execution_count": 57,
   "id": "fba1fb94",
   "metadata": {},
   "outputs": [
    {
     "data": {
      "text/plain": [
       "(array([1.000e+00, 2.000e+00, 6.000e+01, 3.200e+02, 9.530e+02, 1.450e+03,\n",
       "        1.189e+03, 4.660e+02, 9.700e+01, 9.000e+00]),\n",
       " array([ 17796.63119 ,  26787.142911,  35777.654632,  44768.166353,\n",
       "         53758.678074,  62749.189795,  71739.701516,  80730.213237,\n",
       "         89720.724958,  98711.236679, 107701.7484  ]),\n",
       " <BarContainer object of 10 artists>)"
      ]
     },
     "execution_count": 57,
     "metadata": {},
     "output_type": "execute_result"
    },
    {
     "data": {
      "image/png": "[encoded data removed]",
      "text/plain": [
       "<Figure size 432x288 with 1 Axes>"
      ]
     },
     "metadata": {
      "needs_background": "light"
     },
     "output_type": "display_data"
    }
   ],
   "source": [
    "# Check if all the variables are normally distributed\n",
    "# Check if Avg. Area Income is normally distributed\n",
    "plt.hist(df['Avg. Area Income'])"
   ]
  },
  {
   "cell_type": "code",
   "execution_count": 58,
   "id": "ea1c9c37",
   "metadata": {},
   "outputs": [
    {
     "data": {
      "text/plain": [
       "(array([  14.,   90.,  353.,  782., 1226., 1119.,  641.,  251.,   66.,\n",
       "           5.]),\n",
       " array([2.64430419, 3.33178257, 4.01926096, 4.70673935, 5.39421774,\n",
       "        6.08169613, 6.76917451, 7.4566529 , 8.14413129, 8.83160968,\n",
       "        9.51908807]),\n",
       " <BarContainer object of 10 artists>)"
      ]
     },
     "execution_count": 58,
     "metadata": {},
     "output_type": "execute_result"
    },
    {
     "data": {
      "image/png": "[encoded data removed]",
      "text/plain": [
       "<Figure size 432x288 with 1 Axes>"
      ]
     },
     "metadata": {
      "needs_background": "light"
     },
     "output_type": "display_data"
    }
   ],
   "source": [
    "# Check if House Age is normally distributed\n",
    "plt.hist(df['House Age'])"
   ]
  },
  {
   "cell_type": "code",
   "execution_count": 59,
   "id": "0576be22",
   "metadata": {},
   "outputs": [
    {
     "data": {
      "text/plain": [
       "(array([   4.,   65.,  235.,  759., 1201., 1249.,  741.,  240.,   48.,\n",
       "           5.]),\n",
       " array([ 3.23619402,  3.98853345,  4.74087289,  5.49321232,  6.24555175,\n",
       "         6.99789118,  7.75023061,  8.50257004,  9.25490948, 10.00724891,\n",
       "        10.75958834]),\n",
       " <BarContainer object of 10 artists>)"
      ]
     },
     "execution_count": 59,
     "metadata": {},
     "output_type": "execute_result"
    },
    {
     "data": {
      "image/png": "[encoded data removed]",
      "text/plain": [
       "<Figure size 432x288 with 1 Axes>"
      ]
     },
     "metadata": {
      "needs_background": "light"
     },
     "output_type": "display_data"
    }
   ],
   "source": [
    "# Check if Number of Rooms is normally distributed\n",
    "plt.hist(df['Number of Rooms'])"
   ]
  },
  {
   "cell_type": "code",
   "execution_count": 61,
   "id": "4717b221",
   "metadata": {},
   "outputs": [
    {
     "data": {
      "text/plain": [
       "(array([   8.,   42.,  233.,  656., 1092., 1219.,  834.,  338.,  108.,\n",
       "          17.]),\n",
       " array([  172.6106863 ,  7114.55364167, 14056.49659704, 20998.43955241,\n",
       "        27940.38250778, 34882.32546315, 41824.26841852, 48766.21137389,\n",
       "        55708.15432926, 62650.09728463, 69592.04024   ]),\n",
       " <BarContainer object of 10 artists>)"
      ]
     },
     "execution_count": 61,
     "metadata": {},
     "output_type": "execute_result"
    },
    {
     "data": {
      "image/png": "[encoded data removed]",
      "text/plain": [
       "<Figure size 432x288 with 1 Axes>"
      ]
     },
     "metadata": {
      "needs_background": "light"
     },
     "output_type": "display_data"
    }
   ],
   "source": [
    "# Check if Area Population is normally distributed\n",
    "plt.hist(df['Area Population'])"
   ]
  },
  {
   "cell_type": "code",
   "execution_count": 60,
   "id": "ed2c346c",
   "metadata": {},
   "outputs": [
    {
     "data": {
      "text/plain": [
       "(array([656.,  95., 930., 434., 680., 654., 169., 377.,  43., 509.]),\n",
       " array([2.  , 2.45, 2.9 , 3.35, 3.8 , 4.25, 4.7 , 5.15, 5.6 , 6.05, 6.5 ]),\n",
       " <BarContainer object of 10 artists>)"
      ]
     },
     "execution_count": 60,
     "metadata": {},
     "output_type": "execute_result"
    },
    {
     "data": {
      "image/png": "[encoded data removed]",
      "text/plain": [
       "<Figure size 432x288 with 1 Axes>"
      ]
     },
     "metadata": {
      "needs_background": "light"
     },
     "output_type": "display_data"
    }
   ],
   "source": [
    "# Check if Number of Bedrooms is normally distributed\n",
    "plt.hist(df['Number of Bedrooms'])"
   ]
  },
  {
   "cell_type": "code",
   "execution_count": 76,
   "id": "fe7a9197",
   "metadata": {},
   "outputs": [
    {
     "name": "stderr",
     "output_type": "stream",
     "text": [
      "C:\\ProgramData\\Anaconda3\\lib\\site-packages\\sklearn\\base.py:443: UserWarning: X has feature names, but FunctionTransformer was fitted without feature names\n",
      "  warnings.warn(\n"
     ]
    }
   ],
   "source": [
    "# since No of Bedrooms variable is not normally distributed, need to tranform them\n",
    "from sklearn.preprocessing import FunctionTransformer\n",
    "log_transform = FunctionTransformer(np.log, validate=True)\n",
    "cols=['Number of Bedrooms']\n",
    "df[cols] = log_transform.transform(df[cols])"
   ]
  },
  {
   "cell_type": "code",
   "execution_count": 78,
   "id": "c327c59c",
   "metadata": {},
   "outputs": [
    {
     "data": {
      "text/plain": [
       "(array([ 366.,  385.,    0.,  570.,  794.,  180., 1154.,  161.,  385.,\n",
       "         552.]),\n",
       " array([0.69314718, 0.81101268, 0.92887818, 1.04674368, 1.16460918,\n",
       "        1.28247468, 1.40034018, 1.51820568, 1.63607118, 1.75393668,\n",
       "        1.87180218]),\n",
       " <BarContainer object of 10 artists>)"
      ]
     },
     "execution_count": 78,
     "metadata": {},
     "output_type": "execute_result"
    },
    {
     "data": {
      "image/png": "[encoded data removed]",
      "text/plain": [
       "<Figure size 432x288 with 1 Axes>"
      ]
     },
     "metadata": {
      "needs_background": "light"
     },
     "output_type": "display_data"
    }
   ],
   "source": [
    "# Check if Number of Bedrooms is normally distributed\n",
    "plt.hist(df['Number of Bedrooms'])"
   ]
  },
  {
   "cell_type": "code",
   "execution_count": 77,
   "id": "81ccd72e",
   "metadata": {},
   "outputs": [
    {
     "data": {
      "text/html": [
       "<div>\n",
       "<style scoped>\n",
       "    .dataframe tbody tr th:only-of-type {\n",
       "        vertical-align: middle;\n",
       "    }\n",
       "\n",
       "    .dataframe tbody tr th {\n",
       "        vertical-align: top;\n",
       "    }\n",
       "\n",
       "    .dataframe thead th {\n",
       "        text-align: right;\n",
       "    }\n",
       "</style>\n",
       "<table border=\"1\" class=\"dataframe\">\n",
       "  <thead>\n",
       "    <tr style=\"text-align: right;\">\n",
       "      <th></th>\n",
       "      <th>Avg. Area Income</th>\n",
       "      <th>House Age</th>\n",
       "      <th>Number of Rooms</th>\n",
       "      <th>Number of Bedrooms</th>\n",
       "      <th>Area Population</th>\n",
       "      <th>Price</th>\n",
       "      <th>Address</th>\n",
       "      <th>City</th>\n",
       "    </tr>\n",
       "  </thead>\n",
       "  <tbody>\n",
       "    <tr>\n",
       "      <th>0</th>\n",
       "      <td>79545.45857</td>\n",
       "      <td>5.682861</td>\n",
       "      <td>7.009188</td>\n",
       "      <td>1.408545</td>\n",
       "      <td>23086.80050</td>\n",
       "      <td>1.059034e+06</td>\n",
       "      <td>208 Michael Ferry Apt. 674\\nLaurabury, NE 3701...</td>\n",
       "      <td>37</td>\n",
       "    </tr>\n",
       "    <tr>\n",
       "      <th>1</th>\n",
       "      <td>79248.64245</td>\n",
       "      <td>6.002900</td>\n",
       "      <td>6.730821</td>\n",
       "      <td>1.128171</td>\n",
       "      <td>40173.07217</td>\n",
       "      <td>1.505891e+06</td>\n",
       "      <td>188 Johnson Views Suite 079\\nLake Kathleen, CA...</td>\n",
       "      <td>8</td>\n",
       "    </tr>\n",
       "    <tr>\n",
       "      <th>2</th>\n",
       "      <td>61287.06718</td>\n",
       "      <td>5.865890</td>\n",
       "      <td>8.512727</td>\n",
       "      <td>1.635106</td>\n",
       "      <td>36882.15940</td>\n",
       "      <td>1.058988e+06</td>\n",
       "      <td>9127 Elizabeth Stravenue\\nDanieltown, WI 06482...</td>\n",
       "      <td>59</td>\n",
       "    </tr>\n",
       "    <tr>\n",
       "      <th>3</th>\n",
       "      <td>63345.24005</td>\n",
       "      <td>7.188236</td>\n",
       "      <td>5.586729</td>\n",
       "      <td>1.181727</td>\n",
       "      <td>34310.24283</td>\n",
       "      <td>1.260617e+06</td>\n",
       "      <td>USS Barnett\\nFPO AP 44820</td>\n",
       "      <td>4</td>\n",
       "    </tr>\n",
       "    <tr>\n",
       "      <th>4</th>\n",
       "      <td>59982.19723</td>\n",
       "      <td>5.040555</td>\n",
       "      <td>7.839388</td>\n",
       "      <td>1.442202</td>\n",
       "      <td>26354.10947</td>\n",
       "      <td>6.309435e+05</td>\n",
       "      <td>USNS Raymond\\nFPO AE 09386</td>\n",
       "      <td>1</td>\n",
       "    </tr>\n",
       "    <tr>\n",
       "      <th>...</th>\n",
       "      <td>...</td>\n",
       "      <td>...</td>\n",
       "      <td>...</td>\n",
       "      <td>...</td>\n",
       "      <td>...</td>\n",
       "      <td>...</td>\n",
       "      <td>...</td>\n",
       "      <td>...</td>\n",
       "    </tr>\n",
       "    <tr>\n",
       "      <th>4542</th>\n",
       "      <td>58153.22930</td>\n",
       "      <td>5.643086</td>\n",
       "      <td>6.751951</td>\n",
       "      <td>1.220830</td>\n",
       "      <td>45756.53195</td>\n",
       "      <td>1.150439e+06</td>\n",
       "      <td>4771 Thomas Drive Apt. 125\\nEast Lauren, GA 99732</td>\n",
       "      <td>15</td>\n",
       "    </tr>\n",
       "    <tr>\n",
       "      <th>4543</th>\n",
       "      <td>84556.63627</td>\n",
       "      <td>5.092459</td>\n",
       "      <td>6.723412</td>\n",
       "      <td>0.883768</td>\n",
       "      <td>31797.31744</td>\n",
       "      <td>1.326847e+06</td>\n",
       "      <td>97160 Tracy Junction\\nErinborough, WY 73884</td>\n",
       "      <td>61</td>\n",
       "    </tr>\n",
       "    <tr>\n",
       "      <th>4544</th>\n",
       "      <td>82732.98111</td>\n",
       "      <td>5.332712</td>\n",
       "      <td>6.198476</td>\n",
       "      <td>1.249902</td>\n",
       "      <td>41136.52722</td>\n",
       "      <td>1.252664e+06</td>\n",
       "      <td>0630 Wilson Shoal\\nNorth Philip, AK 91611</td>\n",
       "      <td>2</td>\n",
       "    </tr>\n",
       "    <tr>\n",
       "      <th>4545</th>\n",
       "      <td>65694.05127</td>\n",
       "      <td>6.436741</td>\n",
       "      <td>6.704929</td>\n",
       "      <td>1.144223</td>\n",
       "      <td>43406.71203</td>\n",
       "      <td>1.359763e+06</td>\n",
       "      <td>PSC 2681, Box 5759\\nAPO AA 82431-2879</td>\n",
       "      <td>0</td>\n",
       "    </tr>\n",
       "    <tr>\n",
       "      <th>4546</th>\n",
       "      <td>76061.35071</td>\n",
       "      <td>7.148713</td>\n",
       "      <td>7.546066</td>\n",
       "      <td>1.840550</td>\n",
       "      <td>40876.96459</td>\n",
       "      <td>1.778013e+06</td>\n",
       "      <td>04117 Bennett Greens\\nGonzalezfort, NJ 86640-8362</td>\n",
       "      <td>39</td>\n",
       "    </tr>\n",
       "  </tbody>\n",
       "</table>\n",
       "<p>4547 rows × 8 columns</p>\n",
       "</div>"
      ],
      "text/plain": [
       "      Avg. Area Income  House Age  Number of Rooms  Number of Bedrooms  \\\n",
       "0          79545.45857   5.682861         7.009188            1.408545   \n",
       "1          79248.64245   6.002900         6.730821            1.128171   \n",
       "2          61287.06718   5.865890         8.512727            1.635106   \n",
       "3          63345.24005   7.188236         5.586729            1.181727   \n",
       "4          59982.19723   5.040555         7.839388            1.442202   \n",
       "...                ...        ...              ...                 ...   \n",
       "4542       58153.22930   5.643086         6.751951            1.220830   \n",
       "4543       84556.63627   5.092459         6.723412            0.883768   \n",
       "4544       82732.98111   5.332712         6.198476            1.249902   \n",
       "4545       65694.05127   6.436741         6.704929            1.144223   \n",
       "4546       76061.35071   7.148713         7.546066            1.840550   \n",
       "\n",
       "      Area Population         Price  \\\n",
       "0         23086.80050  1.059034e+06   \n",
       "1         40173.07217  1.505891e+06   \n",
       "2         36882.15940  1.058988e+06   \n",
       "3         34310.24283  1.260617e+06   \n",
       "4         26354.10947  6.309435e+05   \n",
       "...               ...           ...   \n",
       "4542      45756.53195  1.150439e+06   \n",
       "4543      31797.31744  1.326847e+06   \n",
       "4544      41136.52722  1.252664e+06   \n",
       "4545      43406.71203  1.359763e+06   \n",
       "4546      40876.96459  1.778013e+06   \n",
       "\n",
       "                                                Address  City  \n",
       "0     208 Michael Ferry Apt. 674\\nLaurabury, NE 3701...    37  \n",
       "1     188 Johnson Views Suite 079\\nLake Kathleen, CA...     8  \n",
       "2     9127 Elizabeth Stravenue\\nDanieltown, WI 06482...    59  \n",
       "3                             USS Barnett\\nFPO AP 44820     4  \n",
       "4                            USNS Raymond\\nFPO AE 09386     1  \n",
       "...                                                 ...   ...  \n",
       "4542  4771 Thomas Drive Apt. 125\\nEast Lauren, GA 99732    15  \n",
       "4543        97160 Tracy Junction\\nErinborough, WY 73884    61  \n",
       "4544          0630 Wilson Shoal\\nNorth Philip, AK 91611     2  \n",
       "4545              PSC 2681, Box 5759\\nAPO AA 82431-2879     0  \n",
       "4546  04117 Bennett Greens\\nGonzalezfort, NJ 86640-8362    39  \n",
       "\n",
       "[4547 rows x 8 columns]"
      ]
     },
     "execution_count": 77,
     "metadata": {},
     "output_type": "execute_result"
    }
   ],
   "source": [
    "df"
   ]
  },
  {
   "cell_type": "code",
   "execution_count": 192,
   "id": "cdf53b25",
   "metadata": {},
   "outputs": [
    {
     "name": "stderr",
     "output_type": "stream",
     "text": [
      "C:\\ProgramData\\Anaconda3\\lib\\site-packages\\seaborn\\_decorators.py:36: FutureWarning: Pass the following variable as a keyword arg: x. From version 0.12, the only valid positional argument will be `data`, and passing other arguments without an explicit keyword will result in an error or misinterpretation.\n",
      "  warnings.warn(\n"
     ]
    },
    {
     "data": {
      "text/plain": [
       "<AxesSubplot:xlabel='Avg. Area Income'>"
      ]
     },
     "execution_count": 192,
     "metadata": {},
     "output_type": "execute_result"
    },
    {
     "data": {
      "image/png": "[encoded data removed]",
      "text/plain": [
       "<Figure size 432x288 with 1 Axes>"
      ]
     },
     "metadata": {
      "needs_background": "light"
     },
     "output_type": "display_data"
    }
   ],
   "source": [
    "# Check & Address the Outliers\n",
    "# This is a sample. Not needed for this process\n",
    "# Checking for Avg. Area Income\n",
    "import seaborn as sns\n",
    "sns.boxplot(df['Avg. Area Income'])"
   ]
  },
  {
   "cell_type": "code",
   "execution_count": 191,
   "id": "13246938",
   "metadata": {},
   "outputs": [
    {
     "name": "stdout",
     "output_type": "stream",
     "text": [
      "14252.71702499999\n",
      "Upper bound: 0       False\n",
      "1       False\n",
      "2       False\n",
      "3       False\n",
      "4       False\n",
      "        ...  \n",
      "4542    False\n",
      "4543    False\n",
      "4544    False\n",
      "4545    False\n",
      "4546    False\n",
      "Name: Avg. Area Income, Length: 4518, dtype: bool\n",
      "(array([], dtype=int64),)\n",
      "Lower bound: 0       False\n",
      "1       False\n",
      "2       False\n",
      "3       False\n",
      "4       False\n",
      "        ...  \n",
      "4542    False\n",
      "4543    False\n",
      "4544    False\n",
      "4545    False\n",
      "4546    False\n",
      "Name: Avg. Area Income, Length: 4518, dtype: bool\n",
      "(array([3056], dtype=int64),)\n"
     ]
    }
   ],
   "source": [
    "# Calculating IQR & finding how many rows are above the upper value & below the lower value\n",
    "Q1 = np.percentile(df['Avg. Area Income'], 25,interpolation = 'midpoint')\n",
    "Q3 = np.percentile(df['Avg. Area Income'], 75,interpolation = 'midpoint')\n",
    "IQR = Q3 - Q1\n",
    "print(IQR)\n",
    "upper = df['Avg. Area Income'] >= (Q3+1.5*IQR)\n",
    "print(\"Upper bound:\",upper)\n",
    "print(np.where(upper))\n",
    "lower = df['Avg. Area Income'] <= (Q1-1.5*IQR)\n",
    "print(\"Lower bound:\", lower)\n",
    "print(np.where(lower))"
   ]
  },
  {
   "cell_type": "code",
   "execution_count": 190,
   "id": "fee21d16",
   "metadata": {},
   "outputs": [
    {
     "name": "stdout",
     "output_type": "stream",
     "text": [
      "Old Shape:  (4519, 8)\n",
      "New Shape:  (4518, 8)\n"
     ]
    }
   ],
   "source": [
    "# removing the rows which are above & below, upper & lower bound\n",
    "print(\"Old Shape: \", df.shape)\n",
    "# Upper bound\n",
    "upper = np.where(df['Avg. Area Income'] >= (Q3+1.5*IQR))\n",
    "# Lower bound\n",
    "lower = np.where(df['Avg. Area Income'] <= (Q1-1.5*IQR))\n",
    "#Removing the Outliers \n",
    "df.drop(upper[0], inplace = True)\n",
    "df.drop(lower[0], inplace = True)\n",
    "print(\"New Shape: \", df.shape)"
   ]
  },
  {
   "cell_type": "code",
   "execution_count": 178,
   "id": "013e7ef3",
   "metadata": {},
   "outputs": [],
   "source": [
    "# Create Independent & Dependent Variables\n",
    "X = df[['Avg. Area Income', 'House Age', 'Number of Rooms','Number of Bedrooms','Area Population']]\n",
    "y = df['Price']"
   ]
  },
  {
   "cell_type": "code",
   "execution_count": 179,
   "id": "ffcfc08e",
   "metadata": {},
   "outputs": [],
   "source": [
    "# Create Training & Test Data Split\n",
    "from sklearn.model_selection import train_test_split\n",
    "X_train, X_test, y_train, y_test = train_test_split(X, y, test_size = 0.25)"
   ]
  },
  {
   "cell_type": "code",
   "execution_count": 145,
   "id": "bb6ec2b3",
   "metadata": {},
   "outputs": [
    {
     "data": {
      "text/plain": [
       "array([[-1.09,  0.78, -0.24, -0.  , -1.51],\n",
       "       [ 1.93, -1.29, -1.61,  0.78,  0.66],\n",
       "       [-0.28,  1.59,  0.22, -0.29,  0.76],\n",
       "       ...,\n",
       "       [-0.35, -0.05,  0.23,  1.78,  1.09],\n",
       "       [ 0.36,  0.78, -0.35, -0.15,  1.2 ],\n",
       "       [ 0.15, -0.61, -1.48, -0.99,  0.93]])"
      ]
     },
     "execution_count": 145,
     "metadata": {},
     "output_type": "execute_result"
    }
   ],
   "source": [
    "# Feature Scaling\n",
    "from sklearn.preprocessing import StandardScaler\n",
    "sc = StandardScaler()\n",
    "X_train=sc.fit_transform(X_train)\n",
    "X_test=sc.transform(X_test)\n",
    "X_train"
   ]
  },
  {
   "cell_type": "code",
   "execution_count": 180,
   "id": "eabe99a9",
   "metadata": {},
   "outputs": [
    {
     "data": {
      "text/plain": [
       "0.9199256271099938"
      ]
     },
     "execution_count": 180,
     "metadata": {},
     "output_type": "execute_result"
    }
   ],
   "source": [
    "# Model Building - Multiple Linear Regression\n",
    "from sklearn.linear_model import LinearRegression\n",
    "lin = LinearRegression()\n",
    "\n",
    "lin.fit(X_train, y_train)\n",
    "lin.score(X_train,y_train)"
   ]
  },
  {
   "cell_type": "code",
   "execution_count": 181,
   "id": "0dba4943",
   "metadata": {},
   "outputs": [
    {
     "name": "stdout",
     "output_type": "stream",
     "text": [
      "Num Features: 2\n",
      "Selected Features: [False  True  True False False]\n",
      "Feature Ranking: [2 1 1 2 2]\n"
     ]
    }
   ],
   "source": [
    "# Feature Selection\n",
    "# feature extraction\n",
    "from sklearn.feature_selection import RFE\n",
    "model = LinearRegression()\n",
    "rfe = RFE(model,step=3)\n",
    "fit = rfe.fit(X, y)\n",
    "print(\"Num Features: %d\" % fit.n_features_)\n",
    "print(\"Selected Features: %s\" % fit.support_)\n",
    "print(\"Feature Ranking: %s\" % fit.ranking_)"
   ]
  },
  {
   "cell_type": "code",
   "execution_count": 172,
   "id": "31c5e4b6",
   "metadata": {},
   "outputs": [
    {
     "data": {
      "text/plain": [
       "array([1.62e+05, 2.00e+05, 1.51e+01])"
      ]
     },
     "execution_count": 172,
     "metadata": {},
     "output_type": "execute_result"
    }
   ],
   "source": [
    "# feature extraction\n",
    "model = LinearRegression().fit(X,y)\n",
    "model.coef_"
   ]
  },
  {
   "cell_type": "code",
   "execution_count": 183,
   "id": "3929b73a",
   "metadata": {},
   "outputs": [
    {
     "name": "stdout",
     "output_type": "stream",
     "text": [
      "              feature        VIF\n",
      "0    Avg. Area Income  29.705715\n",
      "1           House Age  27.647577\n",
      "2     Number of Rooms  47.859994\n",
      "3  Number of Bedrooms  23.490408\n",
      "4     Area Population  12.887736\n"
     ]
    }
   ],
   "source": [
    "# Dropping Features and checking whether there is an impact.\n",
    "from statsmodels.stats.outliers_influence import variance_inflation_factor\n",
    "vif_data = pd.DataFrame()\n",
    "vif_data[\"feature\"] = X.columns\n",
    "vif_data[\"VIF\"] = [variance_inflation_factor(X.values, i) for i in range(len(X.columns))]\n",
    "print(vif_data)"
   ]
  },
  {
   "cell_type": "code",
   "execution_count": 184,
   "id": "156e604e",
   "metadata": {},
   "outputs": [],
   "source": [
    "pred = lin.predict(X_test)"
   ]
  },
  {
   "cell_type": "code",
   "execution_count": 185,
   "id": "5c00ede3",
   "metadata": {},
   "outputs": [
    {
     "name": "stdout",
     "output_type": "stream",
     "text": [
      "[[1151178.03 1166198.12]\n",
      " [1345522.75 1536143.59]\n",
      " [1524004.3  1526025.66]\n",
      " ...\n",
      " [ 971633.25  934111.64]\n",
      " [1372392.65 1366668.19]\n",
      " [1678849.61 1651684.77]]\n"
     ]
    }
   ],
   "source": [
    "np.set_printoptions(precision=2)\n",
    "print(np.concatenate((pred.reshape(len(pred),1), y_test.to_numpy().reshape(len(y_test),1)),1))"
   ]
  },
  {
   "cell_type": "code",
   "execution_count": 186,
   "id": "3bafbb82",
   "metadata": {},
   "outputs": [
    {
     "name": "stdout",
     "output_type": "stream",
     "text": [
      "-2628747.1578830583\n",
      "[2.16e+01 1.65e+05 1.21e+05 3.96e+03 1.51e+01]\n"
     ]
    }
   ],
   "source": [
    "print(lin.intercept_)\n",
    "print(lin.coef_)"
   ]
  }
 ],
 "metadata": {
  "kernelspec": {
   "display_name": "Python 3 (ipykernel)",
   "language": "python",
   "name": "python3"
  },
  "language_info": {
   "codemirror_mode": {
    "name": "ipython",
    "version": 3
   },
   "file_extension": ".py",
   "mimetype": "text/x-python",
   "name": "python",
   "nbconvert_exporter": "python",
   "pygments_lexer": "ipython3",
   "version": "3.9.12"
  }
 },
 "nbformat": 4,
 "nbformat_minor": 5
}

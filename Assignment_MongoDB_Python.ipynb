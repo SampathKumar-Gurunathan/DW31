{
 "cells": [
  {
   "cell_type": "code",
   "execution_count": 4,
   "id": "b4a16c5e",
   "metadata": {},
   "outputs": [
    {
     "name": "stdout",
     "output_type": "stream",
     "text": [
      "{'_id': ObjectId('63a192c5b5a42e76ac4032ba'), 'name': 'Ram', 'phone': 223344, 'place': 'Bengaluru'}\n",
      "{'_id': ObjectId('63a192e1b5a42e76ac4032be'), 'name': 'Ram', 'phone': 223344, 'place': 'Bengaluru'}\n"
     ]
    }
   ],
   "source": [
    "from pymongo import MongoClient\n",
    "def create_collection(coll_name):\n",
    "    client = MongoClient('mongodb://localhost:27017/')\n",
    "    db = client.test\n",
    "    result=db.create_collection(coll_name,\n",
    "    validator= {\n",
    "    \"$jsonSchema\": {\n",
    "        \"bsonType\": \"object\",\n",
    "        \"title\": \"Teacher Object Validation\",\n",
    "        \"required\": [\"name\", \"phone\", \"place\"],\n",
    "        \"properties\": {\n",
    "            \"name\": {\"bsonType\": \"string\"},\n",
    "            \"phone\": {\"bsonType\": \"int\"},\n",
    "            \"place\": {\"bsonType\": \"string\"}\n",
    "        }\n",
    "    }\n",
    "    } )"
   ]
  },
  {
   "cell_type": "code",
   "execution_count": 22,
   "id": "3714ec31",
   "metadata": {},
   "outputs": [],
   "source": [
    "create_collection('Student')"
   ]
  },
  {
   "cell_type": "code",
   "execution_count": 26,
   "id": "2f976a70",
   "metadata": {},
   "outputs": [],
   "source": [
    "client = MongoClient('mongodb://localhost:27017/')\n",
    "db = client.test\n",
    "mycol=db['Sampath']"
   ]
  },
  {
   "cell_type": "code",
   "execution_count": null,
   "id": "aa19245a",
   "metadata": {},
   "outputs": [],
   "source": [
    "dict={\"name\": \"Ram\", \"phone\": 223344, \"place\": \"Bengaluru\"}\n",
    "mycol.insert_one(dict)"
   ]
  },
  {
   "cell_type": "code",
   "execution_count": 9,
   "id": "c27e37d5",
   "metadata": {},
   "outputs": [
    {
     "data": {
      "text/plain": [
       "<pymongo.results.InsertManyResult at 0x172b96caee0>"
      ]
     },
     "execution_count": 9,
     "metadata": {},
     "output_type": "execute_result"
    }
   ],
   "source": [
    "dict=[{\"name\": \"Sam\", \"phone\": 223355, \"place\": \"Bengaluru\"},\n",
    "      {\"name\": \"Jay\", \"phone\": 223366, \"place\": \"Chennai\"}]\n",
    "mycol.insert_many(dict)"
   ]
  },
  {
   "cell_type": "code",
   "execution_count": 10,
   "id": "fa14b34a",
   "metadata": {},
   "outputs": [
    {
     "name": "stdout",
     "output_type": "stream",
     "text": [
      "{'_id': ObjectId('63a193fbb5a42e76ac4032c1'), 'name': 'Ram', 'phone': 223344, 'place': 'Bengaluru'}\n",
      "{'_id': ObjectId('63a1946fb5a42e76ac4032c2'), 'name': 'Sam', 'phone': 223355, 'place': 'Bengaluru'}\n",
      "{'_id': ObjectId('63a1946fb5a42e76ac4032c3'), 'name': 'Jay', 'phone': 223366, 'place': 'Chennai'}\n"
     ]
    }
   ],
   "source": [
    "for each in mycol.find():\n",
    "    print(each)"
   ]
  },
  {
   "cell_type": "code",
   "execution_count": 20,
   "id": "49c87bb3",
   "metadata": {},
   "outputs": [
    {
     "name": "stdout",
     "output_type": "stream",
     "text": [
      "{'_id': ObjectId('63a1946fb5a42e76ac4032c3'), 'name': 'Jay', 'phone': 223366, 'place': 'Chennai'}\n"
     ]
    }
   ],
   "source": [
    "for each in mycol.find({'place':\"Chennai\"}):\n",
    "    print(each)"
   ]
  },
  {
   "cell_type": "code",
   "execution_count": 11,
   "id": "eacbdf5b",
   "metadata": {},
   "outputs": [
    {
     "name": "stdout",
     "output_type": "stream",
     "text": [
      "{'_id': ObjectId('63a1946fb5a42e76ac4032c2'), 'name': 'Sam', 'phone': 223355, 'place': 'Bengaluru'}\n",
      "{'_id': ObjectId('63a1946fb5a42e76ac4032c3'), 'name': 'Jay', 'phone': 223366, 'place': 'Chennai'}\n"
     ]
    }
   ],
   "source": [
    "dict={\"name\": \"Ram\"}\n",
    "mycol.delete_one(dict) \n",
    "for each in mycol.find():\n",
    "    print(each)"
   ]
  },
  {
   "cell_type": "code",
   "execution_count": 29,
   "id": "fc28fad3",
   "metadata": {},
   "outputs": [
    {
     "name": "stdout",
     "output_type": "stream",
     "text": [
      "{'_id': ObjectId('63a1946fb5a42e76ac4032c2'), 'name': 'Sam', 'phone': 223355, 'place': 'Bengaluru'}\n",
      "{'_id': ObjectId('63a1946fb5a42e76ac4032c3'), 'name': 'Jay', 'phone': 223366, 'place': 'Chennai'}\n"
     ]
    }
   ],
   "source": [
    "for each in mycol.find():\n",
    "    print(each)"
   ]
  },
  {
   "cell_type": "code",
   "execution_count": 36,
   "id": "28f31c4c",
   "metadata": {},
   "outputs": [
    {
     "ename": "TypeError",
     "evalue": "'Collection' object is not callable. If you meant to call the 'update' method on a 'Collection' object it is failing because no such method exists.",
     "output_type": "error",
     "traceback": [
      "\u001b[1;31m---------------------------------------------------------------------------\u001b[0m",
      "\u001b[1;31mTypeError\u001b[0m                                 Traceback (most recent call last)",
      "Input \u001b[1;32mIn [36]\u001b[0m, in \u001b[0;36m<cell line: 1>\u001b[1;34m()\u001b[0m\n\u001b[1;32m----> 1\u001b[0m \u001b[43mmycol\u001b[49m\u001b[38;5;241;43m.\u001b[39;49m\u001b[43mupdate\u001b[49m\u001b[43m(\u001b[49m\u001b[43m{\u001b[49m\u001b[38;5;124;43m'\u001b[39;49m\u001b[38;5;124;43mname\u001b[39;49m\u001b[38;5;124;43m'\u001b[39;49m\u001b[43m:\u001b[49m\u001b[43m \u001b[49m\u001b[38;5;124;43m\"\u001b[39;49m\u001b[38;5;124;43mJay\u001b[39;49m\u001b[38;5;124;43m\"\u001b[39;49m\u001b[43m}\u001b[49m\u001b[43m,\u001b[49m\u001b[43m{\u001b[49m\u001b[38;5;124;43m'\u001b[39;49m\u001b[38;5;124;43mphone\u001b[39;49m\u001b[38;5;124;43m'\u001b[39;49m\u001b[43m:\u001b[49m\u001b[43m \u001b[49m\u001b[38;5;241;43m223377\u001b[39;49m\u001b[43m}\u001b[49m\u001b[43m)\u001b[49m \n\u001b[0;32m      2\u001b[0m \u001b[38;5;28;01mfor\u001b[39;00m each \u001b[38;5;129;01min\u001b[39;00m mycol\u001b[38;5;241m.\u001b[39mfind():\n\u001b[0;32m      3\u001b[0m     \u001b[38;5;28mprint\u001b[39m(each)\n",
      "File \u001b[1;32m~\\AppData\\Roaming\\Python\\Python39\\site-packages\\pymongo\\collection.py:3213\u001b[0m, in \u001b[0;36mCollection.__call__\u001b[1;34m(self, *args, **kwargs)\u001b[0m\n\u001b[0;32m   3206\u001b[0m \u001b[38;5;28;01mif\u001b[39;00m \u001b[38;5;124m\"\u001b[39m\u001b[38;5;124m.\u001b[39m\u001b[38;5;124m\"\u001b[39m \u001b[38;5;129;01mnot\u001b[39;00m \u001b[38;5;129;01min\u001b[39;00m \u001b[38;5;28mself\u001b[39m\u001b[38;5;241m.\u001b[39m__name:\n\u001b[0;32m   3207\u001b[0m     \u001b[38;5;28;01mraise\u001b[39;00m \u001b[38;5;167;01mTypeError\u001b[39;00m(\n\u001b[0;32m   3208\u001b[0m         \u001b[38;5;124m\"\u001b[39m\u001b[38;5;124m'\u001b[39m\u001b[38;5;124mCollection\u001b[39m\u001b[38;5;124m'\u001b[39m\u001b[38;5;124m object is not callable. If you \u001b[39m\u001b[38;5;124m\"\u001b[39m\n\u001b[0;32m   3209\u001b[0m         \u001b[38;5;124m\"\u001b[39m\u001b[38;5;124mmeant to call the \u001b[39m\u001b[38;5;124m'\u001b[39m\u001b[38;5;132;01m%s\u001b[39;00m\u001b[38;5;124m'\u001b[39m\u001b[38;5;124m method on a \u001b[39m\u001b[38;5;124m'\u001b[39m\u001b[38;5;124mDatabase\u001b[39m\u001b[38;5;124m'\u001b[39m\u001b[38;5;124m \u001b[39m\u001b[38;5;124m\"\u001b[39m\n\u001b[0;32m   3210\u001b[0m         \u001b[38;5;124m\"\u001b[39m\u001b[38;5;124mobject it is failing because no such method \u001b[39m\u001b[38;5;124m\"\u001b[39m\n\u001b[0;32m   3211\u001b[0m         \u001b[38;5;124m\"\u001b[39m\u001b[38;5;124mexists.\u001b[39m\u001b[38;5;124m\"\u001b[39m \u001b[38;5;241m%\u001b[39m \u001b[38;5;28mself\u001b[39m\u001b[38;5;241m.\u001b[39m__name\n\u001b[0;32m   3212\u001b[0m     )\n\u001b[1;32m-> 3213\u001b[0m \u001b[38;5;28;01mraise\u001b[39;00m \u001b[38;5;167;01mTypeError\u001b[39;00m(\n\u001b[0;32m   3214\u001b[0m     \u001b[38;5;124m\"\u001b[39m\u001b[38;5;124m'\u001b[39m\u001b[38;5;124mCollection\u001b[39m\u001b[38;5;124m'\u001b[39m\u001b[38;5;124m object is not callable. If you meant to \u001b[39m\u001b[38;5;124m\"\u001b[39m\n\u001b[0;32m   3215\u001b[0m     \u001b[38;5;124m\"\u001b[39m\u001b[38;5;124mcall the \u001b[39m\u001b[38;5;124m'\u001b[39m\u001b[38;5;132;01m%s\u001b[39;00m\u001b[38;5;124m'\u001b[39m\u001b[38;5;124m method on a \u001b[39m\u001b[38;5;124m'\u001b[39m\u001b[38;5;124mCollection\u001b[39m\u001b[38;5;124m'\u001b[39m\u001b[38;5;124m object it is \u001b[39m\u001b[38;5;124m\"\u001b[39m\n\u001b[0;32m   3216\u001b[0m     \u001b[38;5;124m\"\u001b[39m\u001b[38;5;124mfailing because no such method exists.\u001b[39m\u001b[38;5;124m\"\u001b[39m \u001b[38;5;241m%\u001b[39m \u001b[38;5;28mself\u001b[39m\u001b[38;5;241m.\u001b[39m__name\u001b[38;5;241m.\u001b[39msplit(\u001b[38;5;124m\"\u001b[39m\u001b[38;5;124m.\u001b[39m\u001b[38;5;124m\"\u001b[39m)[\u001b[38;5;241m-\u001b[39m\u001b[38;5;241m1\u001b[39m]\n\u001b[0;32m   3217\u001b[0m )\n",
      "\u001b[1;31mTypeError\u001b[0m: 'Collection' object is not callable. If you meant to call the 'update' method on a 'Collection' object it is failing because no such method exists."
     ]
    }
   ],
   "source": [
    "mycol.update_one({'name': \"Jay\"},{'phone': 223377}) \n",
    "for each in mycol.find():\n",
    "    print(each)"
   ]
  },
  {
   "cell_type": "code",
   "execution_count": null,
   "id": "54986e10",
   "metadata": {},
   "outputs": [],
   "source": []
  }
 ],
 "metadata": {
  "kernelspec": {
   "display_name": "Python 3 (ipykernel)",
   "language": "python",
   "name": "python3"
  },
  "language_info": {
   "codemirror_mode": {
    "name": "ipython",
    "version": 3
   },
   "file_extension": ".py",
   "mimetype": "text/x-python",
   "name": "python",
   "nbconvert_exporter": "python",
   "pygments_lexer": "ipython3",
   "version": "3.9.12"
  }
 },
 "nbformat": 4,
 "nbformat_minor": 5
}

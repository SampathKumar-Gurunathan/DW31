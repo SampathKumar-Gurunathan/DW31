{
 "cells": [
  {
   "cell_type": "code",
   "execution_count": 1,
   "id": "67f5723a",
   "metadata": {},
   "outputs": [],
   "source": [
    "import warnings\n",
    "warnings.filterwarnings('ignore')\n",
    "# import the required libraries\n",
    "import numpy as np\n",
    "import pandas as pd\n",
    "import seaborn as sns\n",
    "import matplotlib.pyplot as plt"
   ]
  },
  {
   "cell_type": "code",
   "execution_count": 2,
   "id": "9d5ca642",
   "metadata": {},
   "outputs": [],
   "source": [
    "# read the dataset\n",
    "df = pd.read_csv( \"flight_train.csv\" )"
   ]
  },
  {
   "cell_type": "code",
   "execution_count": 3,
   "id": "e6c5bc58",
   "metadata": {},
   "outputs": [
    {
     "data": {
      "text/html": [
       "<div>\n",
       "<style scoped>\n",
       "    .dataframe tbody tr th:only-of-type {\n",
       "        vertical-align: middle;\n",
       "    }\n",
       "\n",
       "    .dataframe tbody tr th {\n",
       "        vertical-align: top;\n",
       "    }\n",
       "\n",
       "    .dataframe thead th {\n",
       "        text-align: right;\n",
       "    }\n",
       "</style>\n",
       "<table border=\"1\" class=\"dataframe\">\n",
       "  <thead>\n",
       "    <tr style=\"text-align: right;\">\n",
       "      <th></th>\n",
       "      <th>MEMBER_NO</th>\n",
       "      <th>FFP_DATE</th>\n",
       "      <th>FIRST_FLIGHT_DATE</th>\n",
       "      <th>GENDER</th>\n",
       "      <th>FFP_TIER</th>\n",
       "      <th>WORK_CITY</th>\n",
       "      <th>WORK_PROVINCE</th>\n",
       "      <th>WORK_COUNTRY</th>\n",
       "      <th>AGE</th>\n",
       "      <th>LOAD_TIME</th>\n",
       "      <th>...</th>\n",
       "      <th>SUM_YR_2</th>\n",
       "      <th>SEG_KM_SUM</th>\n",
       "      <th>LAST_FLIGHT_DATE</th>\n",
       "      <th>LAST_TO_END</th>\n",
       "      <th>AVG_INTERVAL</th>\n",
       "      <th>MAX_INTERVAL</th>\n",
       "      <th>EXCHANGE_COUNT</th>\n",
       "      <th>avg_discount</th>\n",
       "      <th>Points_Sum</th>\n",
       "      <th>Point_NotFlight</th>\n",
       "    </tr>\n",
       "  </thead>\n",
       "  <tbody>\n",
       "    <tr>\n",
       "      <th>0</th>\n",
       "      <td>54993</td>\n",
       "      <td>11/2/2006</td>\n",
       "      <td>12/24/2008</td>\n",
       "      <td>Male</td>\n",
       "      <td>6</td>\n",
       "      <td>.</td>\n",
       "      <td>beijing</td>\n",
       "      <td>CN</td>\n",
       "      <td>31.0</td>\n",
       "      <td>3/31/2014</td>\n",
       "      <td>...</td>\n",
       "      <td>234188.0</td>\n",
       "      <td>580717</td>\n",
       "      <td>3/31/2014</td>\n",
       "      <td>1</td>\n",
       "      <td>3.483254</td>\n",
       "      <td>18</td>\n",
       "      <td>34</td>\n",
       "      <td>0.961639</td>\n",
       "      <td>619760</td>\n",
       "      <td>50</td>\n",
       "    </tr>\n",
       "    <tr>\n",
       "      <th>1</th>\n",
       "      <td>28065</td>\n",
       "      <td>2/19/2007</td>\n",
       "      <td>8/3/2007</td>\n",
       "      <td>Male</td>\n",
       "      <td>6</td>\n",
       "      <td>NaN</td>\n",
       "      <td>beijing</td>\n",
       "      <td>CN</td>\n",
       "      <td>42.0</td>\n",
       "      <td>3/31/2014</td>\n",
       "      <td>...</td>\n",
       "      <td>167434.0</td>\n",
       "      <td>293678</td>\n",
       "      <td>3/25/2014</td>\n",
       "      <td>7</td>\n",
       "      <td>5.194245</td>\n",
       "      <td>17</td>\n",
       "      <td>29</td>\n",
       "      <td>1.252314</td>\n",
       "      <td>415768</td>\n",
       "      <td>33</td>\n",
       "    </tr>\n",
       "    <tr>\n",
       "      <th>2</th>\n",
       "      <td>55106</td>\n",
       "      <td>2/1/2007</td>\n",
       "      <td>8/30/2007</td>\n",
       "      <td>Male</td>\n",
       "      <td>6</td>\n",
       "      <td>.</td>\n",
       "      <td>beijing</td>\n",
       "      <td>CN</td>\n",
       "      <td>40.0</td>\n",
       "      <td>3/31/2014</td>\n",
       "      <td>...</td>\n",
       "      <td>164982.0</td>\n",
       "      <td>283712</td>\n",
       "      <td>3/21/2014</td>\n",
       "      <td>11</td>\n",
       "      <td>5.298507</td>\n",
       "      <td>18</td>\n",
       "      <td>20</td>\n",
       "      <td>1.254676</td>\n",
       "      <td>406361</td>\n",
       "      <td>26</td>\n",
       "    </tr>\n",
       "    <tr>\n",
       "      <th>3</th>\n",
       "      <td>21189</td>\n",
       "      <td>8/22/2008</td>\n",
       "      <td>8/23/2008</td>\n",
       "      <td>Male</td>\n",
       "      <td>5</td>\n",
       "      <td>Los Angeles</td>\n",
       "      <td>CA</td>\n",
       "      <td>US</td>\n",
       "      <td>64.0</td>\n",
       "      <td>3/31/2014</td>\n",
       "      <td>...</td>\n",
       "      <td>125500.0</td>\n",
       "      <td>281336</td>\n",
       "      <td>12/26/2013</td>\n",
       "      <td>97</td>\n",
       "      <td>27.863636</td>\n",
       "      <td>73</td>\n",
       "      <td>11</td>\n",
       "      <td>1.090870</td>\n",
       "      <td>372204</td>\n",
       "      <td>12</td>\n",
       "    </tr>\n",
       "    <tr>\n",
       "      <th>4</th>\n",
       "      <td>39546</td>\n",
       "      <td>4/10/2009</td>\n",
       "      <td>4/15/2009</td>\n",
       "      <td>Male</td>\n",
       "      <td>6</td>\n",
       "      <td>guiyang</td>\n",
       "      <td>guizhou</td>\n",
       "      <td>CN</td>\n",
       "      <td>48.0</td>\n",
       "      <td>3/31/2014</td>\n",
       "      <td>...</td>\n",
       "      <td>130702.0</td>\n",
       "      <td>309928</td>\n",
       "      <td>3/27/2014</td>\n",
       "      <td>5</td>\n",
       "      <td>4.788079</td>\n",
       "      <td>47</td>\n",
       "      <td>27</td>\n",
       "      <td>0.970658</td>\n",
       "      <td>338813</td>\n",
       "      <td>39</td>\n",
       "    </tr>\n",
       "  </tbody>\n",
       "</table>\n",
       "<p>5 rows × 23 columns</p>\n",
       "</div>"
      ],
      "text/plain": [
       "   MEMBER_NO   FFP_DATE FIRST_FLIGHT_DATE GENDER  FFP_TIER    WORK_CITY  \\\n",
       "0      54993  11/2/2006        12/24/2008   Male         6            .   \n",
       "1      28065  2/19/2007          8/3/2007   Male         6          NaN   \n",
       "2      55106   2/1/2007         8/30/2007   Male         6            .   \n",
       "3      21189  8/22/2008         8/23/2008   Male         5  Los Angeles   \n",
       "4      39546  4/10/2009         4/15/2009   Male         6      guiyang   \n",
       "\n",
       "  WORK_PROVINCE WORK_COUNTRY   AGE  LOAD_TIME  ...  SUM_YR_2  SEG_KM_SUM  \\\n",
       "0       beijing           CN  31.0  3/31/2014  ...  234188.0      580717   \n",
       "1       beijing           CN  42.0  3/31/2014  ...  167434.0      293678   \n",
       "2       beijing           CN  40.0  3/31/2014  ...  164982.0      283712   \n",
       "3            CA           US  64.0  3/31/2014  ...  125500.0      281336   \n",
       "4       guizhou           CN  48.0  3/31/2014  ...  130702.0      309928   \n",
       "\n",
       "   LAST_FLIGHT_DATE  LAST_TO_END  AVG_INTERVAL MAX_INTERVAL  EXCHANGE_COUNT  \\\n",
       "0         3/31/2014            1      3.483254           18              34   \n",
       "1         3/25/2014            7      5.194245           17              29   \n",
       "2         3/21/2014           11      5.298507           18              20   \n",
       "3        12/26/2013           97     27.863636           73              11   \n",
       "4         3/27/2014            5      4.788079           47              27   \n",
       "\n",
       "   avg_discount  Points_Sum  Point_NotFlight  \n",
       "0      0.961639      619760               50  \n",
       "1      1.252314      415768               33  \n",
       "2      1.254676      406361               26  \n",
       "3      1.090870      372204               12  \n",
       "4      0.970658      338813               39  \n",
       "\n",
       "[5 rows x 23 columns]"
      ]
     },
     "execution_count": 3,
     "metadata": {},
     "output_type": "execute_result"
    }
   ],
   "source": [
    "df.head()"
   ]
  },
  {
   "cell_type": "code",
   "execution_count": 4,
   "id": "e675f6aa",
   "metadata": {},
   "outputs": [
    {
     "data": {
      "text/plain": [
       "55000"
      ]
     },
     "execution_count": 4,
     "metadata": {},
     "output_type": "execute_result"
    }
   ],
   "source": [
    "len(df)"
   ]
  },
  {
   "cell_type": "code",
   "execution_count": 5,
   "id": "c05bfcef",
   "metadata": {},
   "outputs": [
    {
     "name": "stdout",
     "output_type": "stream",
     "text": [
      "<class 'pandas.core.frame.DataFrame'>\n",
      "RangeIndex: 55000 entries, 0 to 54999\n",
      "Data columns (total 23 columns):\n",
      " #   Column             Non-Null Count  Dtype  \n",
      "---  ------             --------------  -----  \n",
      " 0   MEMBER_NO          55000 non-null  int64  \n",
      " 1   FFP_DATE           55000 non-null  object \n",
      " 2   FIRST_FLIGHT_DATE  55000 non-null  object \n",
      " 3   GENDER             54997 non-null  object \n",
      " 4   FFP_TIER           55000 non-null  int64  \n",
      " 5   WORK_CITY          53034 non-null  object \n",
      " 6   WORK_PROVINCE      52216 non-null  object \n",
      " 7   WORK_COUNTRY       54980 non-null  object \n",
      " 8   AGE                54658 non-null  float64\n",
      " 9   LOAD_TIME          55000 non-null  object \n",
      " 10  FLIGHT_COUNT       55000 non-null  int64  \n",
      " 11  BP_SUM             55000 non-null  int64  \n",
      " 12  SUM_YR_1           54738 non-null  float64\n",
      " 13  SUM_YR_2           54937 non-null  float64\n",
      " 14  SEG_KM_SUM         55000 non-null  int64  \n",
      " 15  LAST_FLIGHT_DATE   55000 non-null  object \n",
      " 16  LAST_TO_END        55000 non-null  int64  \n",
      " 17  AVG_INTERVAL       55000 non-null  float64\n",
      " 18  MAX_INTERVAL       55000 non-null  int64  \n",
      " 19  EXCHANGE_COUNT     55000 non-null  int64  \n",
      " 20  avg_discount       55000 non-null  float64\n",
      " 21  Points_Sum         55000 non-null  int64  \n",
      " 22  Point_NotFlight    55000 non-null  int64  \n",
      "dtypes: float64(5), int64(10), object(8)\n",
      "memory usage: 9.7+ MB\n"
     ]
    }
   ],
   "source": [
    "df.info()"
   ]
  },
  {
   "cell_type": "code",
   "execution_count": 6,
   "id": "d3563eb3",
   "metadata": {},
   "outputs": [
    {
     "data": {
      "text/plain": [
       "MEMBER_NO               0\n",
       "FFP_DATE                0\n",
       "FIRST_FLIGHT_DATE       0\n",
       "GENDER                  3\n",
       "FFP_TIER                0\n",
       "WORK_CITY            1966\n",
       "WORK_PROVINCE        2784\n",
       "WORK_COUNTRY           20\n",
       "AGE                   342\n",
       "LOAD_TIME               0\n",
       "FLIGHT_COUNT            0\n",
       "BP_SUM                  0\n",
       "SUM_YR_1              262\n",
       "SUM_YR_2               63\n",
       "SEG_KM_SUM              0\n",
       "LAST_FLIGHT_DATE        0\n",
       "LAST_TO_END             0\n",
       "AVG_INTERVAL            0\n",
       "MAX_INTERVAL            0\n",
       "EXCHANGE_COUNT          0\n",
       "avg_discount            0\n",
       "Points_Sum              0\n",
       "Point_NotFlight         0\n",
       "dtype: int64"
      ]
     },
     "execution_count": 6,
     "metadata": {},
     "output_type": "execute_result"
    }
   ],
   "source": [
    "# Null values should be addressed before addressing Outliers for numeric Columns\n",
    "# Also Null values will impact when plotting data\n",
    "df.isnull().sum()"
   ]
  },
  {
   "cell_type": "code",
   "execution_count": 7,
   "id": "6dcbd579",
   "metadata": {},
   "outputs": [],
   "source": [
    "# ADdress Age Column with Null Values\n",
    "#df1 = df[~df.AGE.isnull()]\n",
    "#plt.hist(df1['AGE'])\n",
    "#df1['AGE'].describe()\n",
    "# Replace Age with its median value, because it has outliers which will impact mean\n",
    "df['AGE']=df['AGE'].fillna(df['AGE'].median())"
   ]
  },
  {
   "cell_type": "code",
   "execution_count": 8,
   "id": "11c213d6",
   "metadata": {},
   "outputs": [],
   "source": [
    "# Similarly check for sum yr 1 & 2\n",
    "#df1 = df[~df.SUM_YR_1.isnull()]\n",
    "#df1 = df1[df.SUM_YR_1 < 25000]\n",
    "#plt.hist(df1['SUM_YR_1'])\n",
    "#df1['SUM_YR_1'].describe()\n",
    "df['SUM_YR_1']=df['SUM_YR_1'].fillna(df['SUM_YR_1'].mean())\n",
    "df['SUM_YR_2']=df['SUM_YR_2'].fillna(df['SUM_YR_2'].mean())"
   ]
  },
  {
   "cell_type": "code",
   "execution_count": 9,
   "id": "73048fcf",
   "metadata": {},
   "outputs": [],
   "source": [
    "# Similarly address Null values in categorical columns with most frequent value\n",
    "#print(df['GENDER'].value_counts())\n",
    "df['GENDER'].fillna(df['GENDER'].value_counts().index[0],inplace=True)\n",
    "#print(df['GENDER'].value_counts())"
   ]
  },
  {
   "cell_type": "code",
   "execution_count": 10,
   "id": "35a61992",
   "metadata": {},
   "outputs": [],
   "source": [
    "# Similarly address Null values in categorical columns with most frequent value\n",
    "#print(df['WORK_COUNTRY'].value_counts())\n",
    "df['WORK_COUNTRY'].fillna(df['WORK_COUNTRY'].value_counts().index[0],inplace=True)\n",
    "#print(df['WORK_COUNTRY'].value_counts().head(10))\n",
    "df['WORK_PROVINCE'].fillna(df['WORK_PROVINCE'].value_counts().index[0],inplace=True)"
   ]
  },
  {
   "cell_type": "code",
   "execution_count": 11,
   "id": "3b15b97b",
   "metadata": {},
   "outputs": [],
   "source": [
    "# Drop city as there are no max values and all seems to be equal, So drop blanck rows with city\n",
    "df.dropna(subset=['WORK_CITY'], how='all', inplace=True)"
   ]
  },
  {
   "cell_type": "code",
   "execution_count": 12,
   "id": "249652e3",
   "metadata": {},
   "outputs": [
    {
     "data": {
      "text/html": [
       "<div>\n",
       "<style scoped>\n",
       "    .dataframe tbody tr th:only-of-type {\n",
       "        vertical-align: middle;\n",
       "    }\n",
       "\n",
       "    .dataframe tbody tr th {\n",
       "        vertical-align: top;\n",
       "    }\n",
       "\n",
       "    .dataframe thead th {\n",
       "        text-align: right;\n",
       "    }\n",
       "</style>\n",
       "<table border=\"1\" class=\"dataframe\">\n",
       "  <thead>\n",
       "    <tr style=\"text-align: right;\">\n",
       "      <th></th>\n",
       "      <th>MEMBER_NO</th>\n",
       "      <th>FFP_TIER</th>\n",
       "      <th>AGE</th>\n",
       "      <th>FLIGHT_COUNT</th>\n",
       "      <th>BP_SUM</th>\n",
       "      <th>SUM_YR_1</th>\n",
       "      <th>SUM_YR_2</th>\n",
       "      <th>SEG_KM_SUM</th>\n",
       "      <th>LAST_TO_END</th>\n",
       "      <th>AVG_INTERVAL</th>\n",
       "      <th>MAX_INTERVAL</th>\n",
       "      <th>EXCHANGE_COUNT</th>\n",
       "      <th>avg_discount</th>\n",
       "      <th>Points_Sum</th>\n",
       "      <th>Point_NotFlight</th>\n",
       "    </tr>\n",
       "  </thead>\n",
       "  <tbody>\n",
       "    <tr>\n",
       "      <th>0</th>\n",
       "      <td>54993</td>\n",
       "      <td>6</td>\n",
       "      <td>31.0</td>\n",
       "      <td>210</td>\n",
       "      <td>505308</td>\n",
       "      <td>239560.0</td>\n",
       "      <td>234188.0</td>\n",
       "      <td>580717</td>\n",
       "      <td>1</td>\n",
       "      <td>3.483254</td>\n",
       "      <td>18</td>\n",
       "      <td>34</td>\n",
       "      <td>0.961639</td>\n",
       "      <td>619760</td>\n",
       "      <td>50</td>\n",
       "    </tr>\n",
       "    <tr>\n",
       "      <th>2</th>\n",
       "      <td>55106</td>\n",
       "      <td>6</td>\n",
       "      <td>40.0</td>\n",
       "      <td>135</td>\n",
       "      <td>351159</td>\n",
       "      <td>163618.0</td>\n",
       "      <td>164982.0</td>\n",
       "      <td>283712</td>\n",
       "      <td>11</td>\n",
       "      <td>5.298507</td>\n",
       "      <td>18</td>\n",
       "      <td>20</td>\n",
       "      <td>1.254676</td>\n",
       "      <td>406361</td>\n",
       "      <td>26</td>\n",
       "    </tr>\n",
       "    <tr>\n",
       "      <th>3</th>\n",
       "      <td>21189</td>\n",
       "      <td>5</td>\n",
       "      <td>64.0</td>\n",
       "      <td>23</td>\n",
       "      <td>337314</td>\n",
       "      <td>116350.0</td>\n",
       "      <td>125500.0</td>\n",
       "      <td>281336</td>\n",
       "      <td>97</td>\n",
       "      <td>27.863636</td>\n",
       "      <td>73</td>\n",
       "      <td>11</td>\n",
       "      <td>1.090870</td>\n",
       "      <td>372204</td>\n",
       "      <td>12</td>\n",
       "    </tr>\n",
       "    <tr>\n",
       "      <th>4</th>\n",
       "      <td>39546</td>\n",
       "      <td>6</td>\n",
       "      <td>48.0</td>\n",
       "      <td>152</td>\n",
       "      <td>273844</td>\n",
       "      <td>124560.0</td>\n",
       "      <td>130702.0</td>\n",
       "      <td>309928</td>\n",
       "      <td>5</td>\n",
       "      <td>4.788079</td>\n",
       "      <td>47</td>\n",
       "      <td>27</td>\n",
       "      <td>0.970658</td>\n",
       "      <td>338813</td>\n",
       "      <td>39</td>\n",
       "    </tr>\n",
       "    <tr>\n",
       "      <th>5</th>\n",
       "      <td>56972</td>\n",
       "      <td>6</td>\n",
       "      <td>64.0</td>\n",
       "      <td>92</td>\n",
       "      <td>313338</td>\n",
       "      <td>112364.0</td>\n",
       "      <td>76946.0</td>\n",
       "      <td>294585</td>\n",
       "      <td>79</td>\n",
       "      <td>7.043956</td>\n",
       "      <td>52</td>\n",
       "      <td>10</td>\n",
       "      <td>0.967692</td>\n",
       "      <td>343121</td>\n",
       "      <td>15</td>\n",
       "    </tr>\n",
       "  </tbody>\n",
       "</table>\n",
       "</div>"
      ],
      "text/plain": [
       "   MEMBER_NO  FFP_TIER   AGE  FLIGHT_COUNT  BP_SUM  SUM_YR_1  SUM_YR_2  \\\n",
       "0      54993         6  31.0           210  505308  239560.0  234188.0   \n",
       "2      55106         6  40.0           135  351159  163618.0  164982.0   \n",
       "3      21189         5  64.0            23  337314  116350.0  125500.0   \n",
       "4      39546         6  48.0           152  273844  124560.0  130702.0   \n",
       "5      56972         6  64.0            92  313338  112364.0   76946.0   \n",
       "\n",
       "   SEG_KM_SUM  LAST_TO_END  AVG_INTERVAL  MAX_INTERVAL  EXCHANGE_COUNT  \\\n",
       "0      580717            1      3.483254            18              34   \n",
       "2      283712           11      5.298507            18              20   \n",
       "3      281336           97     27.863636            73              11   \n",
       "4      309928            5      4.788079            47              27   \n",
       "5      294585           79      7.043956            52              10   \n",
       "\n",
       "   avg_discount  Points_Sum  Point_NotFlight  \n",
       "0      0.961639      619760               50  \n",
       "2      1.254676      406361               26  \n",
       "3      1.090870      372204               12  \n",
       "4      0.970658      338813               39  \n",
       "5      0.967692      343121               15  "
      ]
     },
     "execution_count": 12,
     "metadata": {},
     "output_type": "execute_result"
    }
   ],
   "source": [
    "# Code to get numeric & categorical data\n",
    "numeric_data = df.select_dtypes(include=[np.number])\n",
    "categorical_data = df.select_dtypes(exclude=[np.number])\n",
    "numeric_data.head()"
   ]
  },
  {
   "cell_type": "code",
   "execution_count": 13,
   "id": "4aac4c6a",
   "metadata": {},
   "outputs": [],
   "source": [
    "# ADdress Outliers in all numeric columns. But before that check whether the variables are normally distributed.\n",
    "# If not then transform them.\n",
    "# Then check for outliers and address them\n",
    "\n",
    "# Function to transform Numeric Variables\n",
    "def transVariable(coln, df):\n",
    "    from sklearn.preprocessing import FunctionTransformer\n",
    "    log_transform = FunctionTransformer(np.log, validate=True)\n",
    "    cols=[coln]\n",
    "    df[cols] = log_transform.transform(df[cols])\n",
    "    plt.hist(df[cols])\n",
    "    \n",
    "# Function to detect Outliers\n",
    "def outlier_detection(coln):\n",
    "    Q1 = np.percentile(coln, 25,interpolation = 'midpoint')\n",
    "    Q3 = np.percentile(coln, 75,interpolation = 'midpoint')\n",
    "    IQR = Q3 - Q1\n",
    "    upper = coln >= (Q3+1.5*IQR)\n",
    "    outlier=list(np.where(upper)[0])\n",
    "    lower = coln <= (Q1-1.5*IQR)\n",
    "    for each in list(np.where(lower)[0]):\n",
    "        if each not in outlier:\n",
    "            outlier.append(each)\n",
    "    print(\"Outlier Count:\", len(outlier))\n",
    "    \n",
    "# Function Outlier deletion\n",
    "indices = []\n",
    "def outlier_delete(coln):\n",
    "    Q1 = np.percentile(coln, 25, interpolation = 'midpoint')\n",
    "    Q3 = np.percentile(coln, 75, interpolation = 'midpoint')\n",
    "    IQR = Q3 - Q1\n",
    "    upper = coln >= (Q3+1.5*IQR) \n",
    "    lower = coln <= (Q1-1.5*IQR)\n",
    "    upp=[]\n",
    "    for i in list(upper.index):\n",
    "        if upper[i]==True:\n",
    "            upp.append(i)\n",
    "    for i in upp:\n",
    "        df.drop(i,inplace=True)\n",
    "    low=[]\n",
    "    for i in list(lower.index):\n",
    "        if lower[i]==True:\n",
    "            low.append(i)\n",
    "    for i in low:\n",
    "        df.drop(i,inplace=True)"
   ]
  },
  {
   "cell_type": "code",
   "execution_count": 14,
   "id": "42988dcb",
   "metadata": {},
   "outputs": [
    {
     "data": {
      "text/plain": [
       "(array([2.5000e+01, 7.4600e+02, 1.7029e+04, 2.0868e+04, 1.0456e+04,\n",
       "        3.2360e+03, 6.1300e+02, 5.9000e+01, 1.0000e+00, 1.0000e+00]),\n",
       " array([  6. ,  16.4,  26.8,  37.2,  47.6,  58. ,  68.4,  78.8,  89.2,\n",
       "         99.6, 110. ]),\n",
       " <BarContainer object of 10 artists>)"
      ]
     },
     "execution_count": 14,
     "metadata": {},
     "output_type": "execute_result"
    },
    {
     "data": {
      "image/png": "[encoded data removed]",
      "text/plain": [
       "<Figure size 432x288 with 1 Axes>"
      ]
     },
     "metadata": {
      "needs_background": "light"
     },
     "output_type": "display_data"
    }
   ],
   "source": [
    "# Check if AGE is normally distributed\n",
    "plt.hist(df['AGE'])\n",
    "# No action needed"
   ]
  },
  {
   "cell_type": "code",
   "execution_count": 15,
   "id": "aa98a5ea",
   "metadata": {},
   "outputs": [
    {
     "name": "stdout",
     "output_type": "stream",
     "text": [
      "Outlier Count: 807\n"
     ]
    }
   ],
   "source": [
    "# Check for outliers in AGE\n",
    "outlier_detection(df['AGE'])"
   ]
  },
  {
   "cell_type": "code",
   "execution_count": 16,
   "id": "b4750fe6",
   "metadata": {},
   "outputs": [],
   "source": [
    "# Delet outliers from Age\n",
    "outlier_delete(df['AGE'])"
   ]
  },
  {
   "cell_type": "code",
   "execution_count": 17,
   "id": "11260acb",
   "metadata": {},
   "outputs": [
    {
     "name": "stdout",
     "output_type": "stream",
     "text": [
      "Outlier Count: 0\n"
     ]
    }
   ],
   "source": [
    "# Check for outliers in AGE\n",
    "outlier_detection(df['AGE'])"
   ]
  },
  {
   "cell_type": "code",
   "execution_count": 16,
   "id": "4f7c8a51",
   "metadata": {},
   "outputs": [
    {
     "data": {
      "text/plain": [
       "(array([4.9596e+04, 2.2480e+03, 3.1300e+02, 4.8000e+01, 1.5000e+01,\n",
       "        5.0000e+00, 1.0000e+00, 0.0000e+00, 0.0000e+00, 1.0000e+00]),\n",
       " array([  1380. ,  59313.7, 117247.4, 175181.1, 233114.8, 291048.5,\n",
       "        348982.2, 406915.9, 464849.6, 522783.3, 580717. ]),\n",
       " <BarContainer object of 10 artists>)"
      ]
     },
     "execution_count": 16,
     "metadata": {},
     "output_type": "execute_result"
    },
    {
     "data": {
      "image/png": "[encoded data removed]",
      "text/plain": [
       "<Figure size 432x288 with 1 Axes>"
      ]
     },
     "metadata": {
      "needs_background": "light"
     },
     "output_type": "display_data"
    }
   ],
   "source": [
    "# Check if SEG_KM_SUM is normally distributed\n",
    "plt.hist(df['SEG_KM_SUM'])"
   ]
  },
  {
   "cell_type": "code",
   "execution_count": 18,
   "id": "de5ab74e",
   "metadata": {},
   "outputs": [
    {
     "data": {
      "image/png": "[encoded data removed]",
      "text/plain": [
       "<Figure size 432x288 with 1 Axes>"
      ]
     },
     "metadata": {
      "needs_background": "light"
     },
     "output_type": "display_data"
    }
   ],
   "source": [
    "# Transform SEG_KM_SUM if it is transformable. If not leave it.\n",
    "transVariable('SEG_KM_SUM',df)"
   ]
  },
  {
   "cell_type": "code",
   "execution_count": 18,
   "id": "08d753af",
   "metadata": {},
   "outputs": [
    {
     "name": "stdout",
     "output_type": "stream",
     "text": [
      "Outlier Count: 71\n"
     ]
    }
   ],
   "source": [
    "# Check for outliers in SEG_KM_SUM\n",
    "outlier_detection(df['SEG_KM_SUM'])"
   ]
  },
  {
   "cell_type": "code",
   "execution_count": 19,
   "id": "ffbca0ad",
   "metadata": {},
   "outputs": [],
   "source": [
    "# Delete Outliers\n",
    "outlier_delete(df['SEG_KM_SUM'])"
   ]
  },
  {
   "cell_type": "code",
   "execution_count": 20,
   "id": "35ec7d45",
   "metadata": {},
   "outputs": [
    {
     "name": "stdout",
     "output_type": "stream",
     "text": [
      "Outlier Count: 3\n"
     ]
    }
   ],
   "source": [
    "# Check for outliers in SEG_KM_SUM\n",
    "outlier_detection(df['SEG_KM_SUM'])"
   ]
  },
  {
   "cell_type": "code",
   "execution_count": 21,
   "id": "bb5cfd7e",
   "metadata": {},
   "outputs": [
    {
     "data": {
      "text/html": [
       "<div>\n",
       "<style scoped>\n",
       "    .dataframe tbody tr th:only-of-type {\n",
       "        vertical-align: middle;\n",
       "    }\n",
       "\n",
       "    .dataframe tbody tr th {\n",
       "        vertical-align: top;\n",
       "    }\n",
       "\n",
       "    .dataframe thead th {\n",
       "        text-align: right;\n",
       "    }\n",
       "</style>\n",
       "<table border=\"1\" class=\"dataframe\">\n",
       "  <thead>\n",
       "    <tr style=\"text-align: right;\">\n",
       "      <th></th>\n",
       "      <th>GENDER</th>\n",
       "      <th>FFP_TIER</th>\n",
       "      <th>WORK_CITY</th>\n",
       "      <th>WORK_PROVINCE</th>\n",
       "      <th>WORK_COUNTRY</th>\n",
       "      <th>AGE</th>\n",
       "      <th>FLIGHT_COUNT</th>\n",
       "      <th>BP_SUM</th>\n",
       "      <th>SUM_YR_1</th>\n",
       "      <th>SUM_YR_2</th>\n",
       "      <th>SEG_KM_SUM</th>\n",
       "      <th>LAST_TO_END</th>\n",
       "      <th>AVG_INTERVAL</th>\n",
       "      <th>MAX_INTERVAL</th>\n",
       "      <th>EXCHANGE_COUNT</th>\n",
       "      <th>avg_discount</th>\n",
       "      <th>Points_Sum</th>\n",
       "      <th>Point_NotFlight</th>\n",
       "    </tr>\n",
       "  </thead>\n",
       "  <tbody>\n",
       "    <tr>\n",
       "      <th>16</th>\n",
       "      <td>Male</td>\n",
       "      <td>6</td>\n",
       "      <td>wulumuqi</td>\n",
       "      <td>xinjiang</td>\n",
       "      <td>CN</td>\n",
       "      <td>48.0</td>\n",
       "      <td>101</td>\n",
       "      <td>219995</td>\n",
       "      <td>93840.0</td>\n",
       "      <td>93114.0</td>\n",
       "      <td>12.056592</td>\n",
       "      <td>7</td>\n",
       "      <td>6.840000</td>\n",
       "      <td>41</td>\n",
       "      <td>15</td>\n",
       "      <td>1.386525</td>\n",
       "      <td>257193</td>\n",
       "      <td>22</td>\n",
       "    </tr>\n",
       "    <tr>\n",
       "      <th>18</th>\n",
       "      <td>Male</td>\n",
       "      <td>6</td>\n",
       "      <td>wulumuqishi</td>\n",
       "      <td>xinjiang</td>\n",
       "      <td>CN</td>\n",
       "      <td>54.0</td>\n",
       "      <td>64</td>\n",
       "      <td>215013</td>\n",
       "      <td>99735.0</td>\n",
       "      <td>93006.0</td>\n",
       "      <td>12.039770</td>\n",
       "      <td>2</td>\n",
       "      <td>11.206349</td>\n",
       "      <td>48</td>\n",
       "      <td>16</td>\n",
       "      <td>1.401596</td>\n",
       "      <td>249914</td>\n",
       "      <td>23</td>\n",
       "    </tr>\n",
       "    <tr>\n",
       "      <th>20</th>\n",
       "      <td>Male</td>\n",
       "      <td>6</td>\n",
       "      <td>.</td>\n",
       "      <td>beijing</td>\n",
       "      <td>CN</td>\n",
       "      <td>49.0</td>\n",
       "      <td>106</td>\n",
       "      <td>220641</td>\n",
       "      <td>69566.0</td>\n",
       "      <td>122763.0</td>\n",
       "      <td>12.026426</td>\n",
       "      <td>4</td>\n",
       "      <td>6.438095</td>\n",
       "      <td>31</td>\n",
       "      <td>4</td>\n",
       "      <td>1.369404</td>\n",
       "      <td>251134</td>\n",
       "      <td>9</td>\n",
       "    </tr>\n",
       "    <tr>\n",
       "      <th>27</th>\n",
       "      <td>Male</td>\n",
       "      <td>6</td>\n",
       "      <td>.</td>\n",
       "      <td>beijing</td>\n",
       "      <td>CN</td>\n",
       "      <td>47.0</td>\n",
       "      <td>74</td>\n",
       "      <td>209810</td>\n",
       "      <td>101398.0</td>\n",
       "      <td>83139.0</td>\n",
       "      <td>11.909585</td>\n",
       "      <td>11</td>\n",
       "      <td>9.493151</td>\n",
       "      <td>51</td>\n",
       "      <td>8</td>\n",
       "      <td>1.433364</td>\n",
       "      <td>235176</td>\n",
       "      <td>14</td>\n",
       "    </tr>\n",
       "    <tr>\n",
       "      <th>28</th>\n",
       "      <td>Male</td>\n",
       "      <td>6</td>\n",
       "      <td>guangzhou</td>\n",
       "      <td>guangdong</td>\n",
       "      <td>CN</td>\n",
       "      <td>62.0</td>\n",
       "      <td>101</td>\n",
       "      <td>209362</td>\n",
       "      <td>94055.0</td>\n",
       "      <td>107896.0</td>\n",
       "      <td>11.977470</td>\n",
       "      <td>18</td>\n",
       "      <td>7.080000</td>\n",
       "      <td>29</td>\n",
       "      <td>3</td>\n",
       "      <td>1.338170</td>\n",
       "      <td>237787</td>\n",
       "      <td>11</td>\n",
       "    </tr>\n",
       "  </tbody>\n",
       "</table>\n",
       "</div>"
      ],
      "text/plain": [
       "   GENDER  FFP_TIER    WORK_CITY WORK_PROVINCE WORK_COUNTRY   AGE  \\\n",
       "16   Male         6     wulumuqi      xinjiang           CN  48.0   \n",
       "18   Male         6  wulumuqishi      xinjiang           CN  54.0   \n",
       "20   Male         6            .       beijing           CN  49.0   \n",
       "27   Male         6            .       beijing           CN  47.0   \n",
       "28   Male         6    guangzhou     guangdong           CN  62.0   \n",
       "\n",
       "    FLIGHT_COUNT  BP_SUM  SUM_YR_1  SUM_YR_2  SEG_KM_SUM  LAST_TO_END  \\\n",
       "16           101  219995   93840.0   93114.0   12.056592            7   \n",
       "18            64  215013   99735.0   93006.0   12.039770            2   \n",
       "20           106  220641   69566.0  122763.0   12.026426            4   \n",
       "27            74  209810  101398.0   83139.0   11.909585           11   \n",
       "28           101  209362   94055.0  107896.0   11.977470           18   \n",
       "\n",
       "    AVG_INTERVAL  MAX_INTERVAL  EXCHANGE_COUNT  avg_discount  Points_Sum  \\\n",
       "16      6.840000            41              15      1.386525      257193   \n",
       "18     11.206349            48              16      1.401596      249914   \n",
       "20      6.438095            31               4      1.369404      251134   \n",
       "27      9.493151            51               8      1.433364      235176   \n",
       "28      7.080000            29               3      1.338170      237787   \n",
       "\n",
       "    Point_NotFlight  \n",
       "16               22  \n",
       "18               23  \n",
       "20                9  \n",
       "27               14  \n",
       "28               11  "
      ]
     },
     "execution_count": 21,
     "metadata": {},
     "output_type": "execute_result"
    }
   ],
   "source": [
    "# Take all columns except date column to a new dataframe\n",
    "cols = df.columns.values.tolist()\n",
    "cols = ['GENDER','FFP_TIER','WORK_CITY','WORK_PROVINCE','WORK_COUNTRY','AGE','FLIGHT_COUNT','BP_SUM','SUM_YR_1','SUM_YR_2',\n",
    " 'SEG_KM_SUM','LAST_TO_END','AVG_INTERVAL','MAX_INTERVAL','EXCHANGE_COUNT','avg_discount','Points_Sum', 'Point_NotFlight']\n",
    "df_k=df[cols]\n",
    "df_k.head()"
   ]
  },
  {
   "cell_type": "code",
   "execution_count": 22,
   "id": "296a7fd4",
   "metadata": {},
   "outputs": [
    {
     "data": {
      "text/html": [
       "<div>\n",
       "<style scoped>\n",
       "    .dataframe tbody tr th:only-of-type {\n",
       "        vertical-align: middle;\n",
       "    }\n",
       "\n",
       "    .dataframe tbody tr th {\n",
       "        vertical-align: top;\n",
       "    }\n",
       "\n",
       "    .dataframe thead th {\n",
       "        text-align: right;\n",
       "    }\n",
       "</style>\n",
       "<table border=\"1\" class=\"dataframe\">\n",
       "  <thead>\n",
       "    <tr style=\"text-align: right;\">\n",
       "      <th></th>\n",
       "      <th>GENDER</th>\n",
       "      <th>FFP_TIER</th>\n",
       "      <th>WORK_CITY</th>\n",
       "      <th>WORK_PROVINCE</th>\n",
       "      <th>WORK_COUNTRY</th>\n",
       "      <th>AGE</th>\n",
       "      <th>FLIGHT_COUNT</th>\n",
       "      <th>BP_SUM</th>\n",
       "      <th>SUM_YR_1</th>\n",
       "      <th>SUM_YR_2</th>\n",
       "      <th>SEG_KM_SUM</th>\n",
       "      <th>LAST_TO_END</th>\n",
       "      <th>AVG_INTERVAL</th>\n",
       "      <th>MAX_INTERVAL</th>\n",
       "      <th>EXCHANGE_COUNT</th>\n",
       "      <th>avg_discount</th>\n",
       "      <th>Points_Sum</th>\n",
       "      <th>Point_NotFlight</th>\n",
       "    </tr>\n",
       "  </thead>\n",
       "  <tbody>\n",
       "    <tr>\n",
       "      <th>16</th>\n",
       "      <td>1</td>\n",
       "      <td>6</td>\n",
       "      <td>2608</td>\n",
       "      <td>976</td>\n",
       "      <td>22</td>\n",
       "      <td>48.0</td>\n",
       "      <td>101</td>\n",
       "      <td>219995</td>\n",
       "      <td>93840.0</td>\n",
       "      <td>93114.0</td>\n",
       "      <td>12.056592</td>\n",
       "      <td>7</td>\n",
       "      <td>6.840000</td>\n",
       "      <td>41</td>\n",
       "      <td>15</td>\n",
       "      <td>1.386525</td>\n",
       "      <td>257193</td>\n",
       "      <td>22</td>\n",
       "    </tr>\n",
       "    <tr>\n",
       "      <th>18</th>\n",
       "      <td>1</td>\n",
       "      <td>6</td>\n",
       "      <td>2610</td>\n",
       "      <td>976</td>\n",
       "      <td>22</td>\n",
       "      <td>54.0</td>\n",
       "      <td>64</td>\n",
       "      <td>215013</td>\n",
       "      <td>99735.0</td>\n",
       "      <td>93006.0</td>\n",
       "      <td>12.039770</td>\n",
       "      <td>2</td>\n",
       "      <td>11.206349</td>\n",
       "      <td>48</td>\n",
       "      <td>16</td>\n",
       "      <td>1.401596</td>\n",
       "      <td>249914</td>\n",
       "      <td>23</td>\n",
       "    </tr>\n",
       "    <tr>\n",
       "      <th>20</th>\n",
       "      <td>1</td>\n",
       "      <td>6</td>\n",
       "      <td>5</td>\n",
       "      <td>726</td>\n",
       "      <td>22</td>\n",
       "      <td>49.0</td>\n",
       "      <td>106</td>\n",
       "      <td>220641</td>\n",
       "      <td>69566.0</td>\n",
       "      <td>122763.0</td>\n",
       "      <td>12.026426</td>\n",
       "      <td>4</td>\n",
       "      <td>6.438095</td>\n",
       "      <td>31</td>\n",
       "      <td>4</td>\n",
       "      <td>1.369404</td>\n",
       "      <td>251134</td>\n",
       "      <td>9</td>\n",
       "    </tr>\n",
       "    <tr>\n",
       "      <th>27</th>\n",
       "      <td>1</td>\n",
       "      <td>6</td>\n",
       "      <td>5</td>\n",
       "      <td>726</td>\n",
       "      <td>22</td>\n",
       "      <td>47.0</td>\n",
       "      <td>74</td>\n",
       "      <td>209810</td>\n",
       "      <td>101398.0</td>\n",
       "      <td>83139.0</td>\n",
       "      <td>11.909585</td>\n",
       "      <td>11</td>\n",
       "      <td>9.493151</td>\n",
       "      <td>51</td>\n",
       "      <td>8</td>\n",
       "      <td>1.433364</td>\n",
       "      <td>235176</td>\n",
       "      <td>14</td>\n",
       "    </tr>\n",
       "    <tr>\n",
       "      <th>28</th>\n",
       "      <td>1</td>\n",
       "      <td>6</td>\n",
       "      <td>1833</td>\n",
       "      <td>781</td>\n",
       "      <td>22</td>\n",
       "      <td>62.0</td>\n",
       "      <td>101</td>\n",
       "      <td>209362</td>\n",
       "      <td>94055.0</td>\n",
       "      <td>107896.0</td>\n",
       "      <td>11.977470</td>\n",
       "      <td>18</td>\n",
       "      <td>7.080000</td>\n",
       "      <td>29</td>\n",
       "      <td>3</td>\n",
       "      <td>1.338170</td>\n",
       "      <td>237787</td>\n",
       "      <td>11</td>\n",
       "    </tr>\n",
       "  </tbody>\n",
       "</table>\n",
       "</div>"
      ],
      "text/plain": [
       "    GENDER  FFP_TIER  WORK_CITY  WORK_PROVINCE  WORK_COUNTRY   AGE  \\\n",
       "16       1         6       2608            976            22  48.0   \n",
       "18       1         6       2610            976            22  54.0   \n",
       "20       1         6          5            726            22  49.0   \n",
       "27       1         6          5            726            22  47.0   \n",
       "28       1         6       1833            781            22  62.0   \n",
       "\n",
       "    FLIGHT_COUNT  BP_SUM  SUM_YR_1  SUM_YR_2  SEG_KM_SUM  LAST_TO_END  \\\n",
       "16           101  219995   93840.0   93114.0   12.056592            7   \n",
       "18            64  215013   99735.0   93006.0   12.039770            2   \n",
       "20           106  220641   69566.0  122763.0   12.026426            4   \n",
       "27            74  209810  101398.0   83139.0   11.909585           11   \n",
       "28           101  209362   94055.0  107896.0   11.977470           18   \n",
       "\n",
       "    AVG_INTERVAL  MAX_INTERVAL  EXCHANGE_COUNT  avg_discount  Points_Sum  \\\n",
       "16      6.840000            41              15      1.386525      257193   \n",
       "18     11.206349            48              16      1.401596      249914   \n",
       "20      6.438095            31               4      1.369404      251134   \n",
       "27      9.493151            51               8      1.433364      235176   \n",
       "28      7.080000            29               3      1.338170      237787   \n",
       "\n",
       "    Point_NotFlight  \n",
       "16               22  \n",
       "18               23  \n",
       "20                9  \n",
       "27               14  \n",
       "28               11  "
      ]
     },
     "execution_count": 22,
     "metadata": {},
     "output_type": "execute_result"
    }
   ],
   "source": [
    "# get df_k encoded, so as to get the K value\n",
    "ob=[]\n",
    "for data in df_k:\n",
    "    if df_k[data].dtype=='object':\n",
    "        ob.append(data)\n",
    "\n",
    "from sklearn.preprocessing import LabelEncoder\n",
    "for dt in ob:\n",
    "    l=LabelEncoder()\n",
    "    df_k[dt]=l.fit_transform(df_k[dt])\n",
    "df_k.head()"
   ]
  },
  {
   "cell_type": "code",
   "execution_count": 23,
   "id": "6b166eef",
   "metadata": {},
   "outputs": [
    {
     "data": {
      "text/plain": [
       "GENDER             0\n",
       "FFP_TIER           0\n",
       "WORK_CITY          0\n",
       "WORK_PROVINCE      0\n",
       "WORK_COUNTRY       0\n",
       "AGE                0\n",
       "FLIGHT_COUNT       0\n",
       "BP_SUM             0\n",
       "SUM_YR_1           0\n",
       "SUM_YR_2           0\n",
       "SEG_KM_SUM         0\n",
       "LAST_TO_END        0\n",
       "AVG_INTERVAL       0\n",
       "MAX_INTERVAL       0\n",
       "EXCHANGE_COUNT     0\n",
       "avg_discount       0\n",
       "Points_Sum         0\n",
       "Point_NotFlight    0\n",
       "dtype: int64"
      ]
     },
     "execution_count": 23,
     "metadata": {},
     "output_type": "execute_result"
    }
   ],
   "source": [
    "df_k.isnull().sum()"
   ]
  },
  {
   "cell_type": "code",
   "execution_count": 24,
   "id": "eb8cc444",
   "metadata": {},
   "outputs": [
    {
     "data": {
      "image/png": "[encoded data removed]",
      "text/plain": [
       "<Figure size 432x288 with 1 Axes>"
      ]
     },
     "metadata": {
      "needs_background": "light"
     },
     "output_type": "display_data"
    }
   ],
   "source": [
    "# 1. Using the elbow method to find the optimal number of clusters\n",
    "from sklearn.cluster import KMeans\n",
    "wcss = []\n",
    "for i in range(2, 11):\n",
    "    kmeans = KMeans(n_clusters = i, init = 'k-means++', random_state = 42)\n",
    "    kmeans.fit(df_k)\n",
    "    wcss.append(kmeans.inertia_)\n",
    "plt.plot(range(2, 11), wcss)\n",
    "plt.title('The Elbow Method')\n",
    "plt.xlabel('Number of clusters')\n",
    "plt.ylabel('WCSS')\n",
    "plt.show()\n",
    "# we are not able to find an idle K here, so we will try silhouette method\n"
   ]
  },
  {
   "cell_type": "code",
   "execution_count": 25,
   "id": "ca6b8ab2",
   "metadata": {},
   "outputs": [
    {
     "data": {
      "image/png": "[encoded data removed]",
      "text/plain": [
       "<Figure size 432x288 with 1 Axes>"
      ]
     },
     "metadata": {
      "needs_background": "light"
     },
     "output_type": "display_data"
    }
   ],
   "source": [
    "# 2. Using the elbow method to find the optimal number of clusters\n",
    "inertias = []\n",
    "mapping1 = {}\n",
    "mapping2 = {}\n",
    "K = range(2, 10)\n",
    "\n",
    "for k in K:\n",
    "# Building and fitting the model\n",
    "    kmeanModel = KMeans(n_clusters=k).fit(df_k)\n",
    "    kmeanModel.fit(df_k)\n",
    "    inertias.append(kmeanModel.inertia_)\n",
    "    mapping2[k] = kmeanModel.inertia_\n",
    "\n",
    "plt.plot(K, inertias, 'bx-')\n",
    "plt.xlabel('Values of K')\n",
    "plt.ylabel('Inertia')\n",
    "plt.title('The Elbow Method using Inertia')\n",
    "plt.show()"
   ]
  },
  {
   "cell_type": "code",
   "execution_count": 26,
   "id": "d3527423",
   "metadata": {},
   "outputs": [
    {
     "data": {
      "image/png": "[encoded data removed]",
      "text/plain": [
       "<Figure size 432x288 with 1 Axes>"
      ]
     },
     "metadata": {
      "needs_background": "light"
     },
     "output_type": "display_data"
    }
   ],
   "source": [
    "# 3. Using the elbow method to find the optimal number of clusters\n",
    "from sklearn.cluster import KMeans\n",
    "cost =[]\n",
    "for i in range(2, 11):\n",
    "    KM = KMeans(n_clusters = i, max_iter = 500)\n",
    "    KM.fit(df_k)\n",
    "     \n",
    "    # calculates squared error\n",
    "    # for the clustered points\n",
    "    cost.append(KM.inertia_)    \n",
    "    \n",
    "# plot the cost against K values\n",
    "plt.plot(range(2, 11), cost, color ='g', linewidth ='3')\n",
    "plt.xlabel(\"Value of K\")\n",
    "plt.ylabel(\"Squared Error (Cost)\")\n",
    "plt.show() # clear the plot"
   ]
  },
  {
   "cell_type": "code",
   "execution_count": 27,
   "id": "2506b83a",
   "metadata": {},
   "outputs": [
    {
     "name": "stdout",
     "output_type": "stream",
     "text": [
      "<class 'pandas.core.frame.DataFrame'>\n",
      "Int64Index: 52156 entries, 16 to 54999\n",
      "Data columns (total 18 columns):\n",
      " #   Column           Non-Null Count  Dtype  \n",
      "---  ------           --------------  -----  \n",
      " 0   GENDER           52156 non-null  int32  \n",
      " 1   FFP_TIER         52156 non-null  int64  \n",
      " 2   WORK_CITY        52156 non-null  int32  \n",
      " 3   WORK_PROVINCE    52156 non-null  int32  \n",
      " 4   WORK_COUNTRY     52156 non-null  int32  \n",
      " 5   AGE              52156 non-null  float64\n",
      " 6   FLIGHT_COUNT     52156 non-null  int64  \n",
      " 7   BP_SUM           52156 non-null  int64  \n",
      " 8   SUM_YR_1         52156 non-null  float64\n",
      " 9   SUM_YR_2         52156 non-null  float64\n",
      " 10  SEG_KM_SUM       52156 non-null  float64\n",
      " 11  LAST_TO_END      52156 non-null  int64  \n",
      " 12  AVG_INTERVAL     52156 non-null  float64\n",
      " 13  MAX_INTERVAL     52156 non-null  int64  \n",
      " 14  EXCHANGE_COUNT   52156 non-null  int64  \n",
      " 15  avg_discount     52156 non-null  float64\n",
      " 16  Points_Sum       52156 non-null  int64  \n",
      " 17  Point_NotFlight  52156 non-null  int64  \n",
      "dtypes: float64(6), int32(4), int64(8)\n",
      "memory usage: 6.8 MB\n"
     ]
    }
   ],
   "source": [
    "df_k.info()"
   ]
  },
  {
   "cell_type": "code",
   "execution_count": 28,
   "id": "5a2fb10f",
   "metadata": {},
   "outputs": [
    {
     "name": "stdout",
     "output_type": "stream",
     "text": [
      "Defaulting to user installation because normal site-packages is not writeable\n",
      "Requirement already satisfied: threadpoolctl in c:\\programdata\\anaconda3\\lib\\site-packages (2.2.0)\n",
      "Collecting threadpoolctl\n",
      "Note: you may need to restart the kernel to use updated packages.  Downloading threadpoolctl-3.1.0-py3-none-any.whl (14 kB)\n",
      "\n",
      "Installing collected packages: threadpoolctl\n",
      "Successfully installed threadpoolctl-3.1.0\n"
     ]
    }
   ],
   "source": [
    "pip install --upgrade threadpoolctl"
   ]
  },
  {
   "cell_type": "code",
   "execution_count": 28,
   "id": "1e1b75a4",
   "metadata": {},
   "outputs": [
    {
     "data": {
      "image/png": "[encoded data removed]",
      "text/plain": [
       "<Figure size 1080x576 with 4 Axes>"
      ]
     },
     "metadata": {
      "needs_background": "light"
     },
     "output_type": "display_data"
    }
   ],
   "source": [
    "# 1. Using the Silhouette method to find the optimal number of clusters\n",
    "from sklearn.cluster import KMeans\n",
    "from yellowbrick.cluster import SilhouetteVisualizer\n",
    "import matplotlib.pyplot as plt\n",
    "\n",
    "fig, ax = plt.subplots(2, 2, figsize=(15,8))\n",
    "j=0\n",
    "for i in [2, 3, 4, 5]:\n",
    "    '''\n",
    "    Create KMeans instances for different number of clusters\n",
    "    '''\n",
    "    km = KMeans(n_clusters=i, init='k-means++', n_init=10, max_iter=100, random_state=42)\n",
    "    q=[0,0,1,1]\n",
    "    mod=[0,1,0,1]\n",
    "    '''\n",
    "    Create SilhouetteVisualizer instance with KMeans instance\n",
    "    Fit the visualizer\n",
    "    '''\n",
    "    visualizer = SilhouetteVisualizer(km, colors='yellowbrick', ax=ax[q[j]][mod[j]])\n",
    "    visualizer.fit(df_k)\n",
    "    j=j+1\n"
   ]
  },
  {
   "cell_type": "code",
   "execution_count": 31,
   "id": "ec91c5dc",
   "metadata": {},
   "outputs": [],
   "source": [
    "# Training the K-Means model on the dataset\n",
    "kmeans = KMeans(n_clusters = 2, init='k-means++', random_state = 42)\n",
    "kmeans.fit(df_k)\n",
    "pred = kmeans.predict(df_k)"
   ]
  },
  {
   "cell_type": "code",
   "execution_count": 32,
   "id": "a41db4f0",
   "metadata": {},
   "outputs": [
    {
     "data": {
      "text/plain": [
       "0    47821\n",
       "1     4335\n",
       "Name: cluster, dtype: int64"
      ]
     },
     "execution_count": 32,
     "metadata": {},
     "output_type": "execute_result"
    }
   ],
   "source": [
    "frame = pd.DataFrame(df_k)\n",
    "frame['cluster'] = pred\n",
    "frame['cluster'].value_counts()"
   ]
  },
  {
   "cell_type": "code",
   "execution_count": null,
   "id": "9bc48f83",
   "metadata": {},
   "outputs": [],
   "source": []
  }
 ],
 "metadata": {
  "kernelspec": {
   "display_name": "Python 3 (ipykernel)",
   "language": "python",
   "name": "python3"
  },
  "language_info": {
   "codemirror_mode": {
    "name": "ipython",
    "version": 3
   },
   "file_extension": ".py",
   "mimetype": "text/x-python",
   "name": "python",
   "nbconvert_exporter": "python",
   "pygments_lexer": "ipython3",
   "version": "3.9.12"
  }
 },
 "nbformat": 4,
 "nbformat_minor": 5
}

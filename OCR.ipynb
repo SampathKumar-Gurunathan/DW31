{
 "cells": [
  {
   "cell_type": "code",
   "execution_count": null,
   "id": "7a1a0a9c",
   "metadata": {},
   "outputs": [],
   "source": [
    "pip install tesseract"
   ]
  },
  {
   "cell_type": "code",
   "execution_count": null,
   "id": "106b3124",
   "metadata": {},
   "outputs": [],
   "source": [
    "pip install tesseract-ocr"
   ]
  },
  {
   "cell_type": "code",
   "execution_count": 1,
   "id": "1296fd7a",
   "metadata": {},
   "outputs": [],
   "source": [
    "# Disbale warnings\n",
    "import warnings\n",
    "warnings.filterwarnings(\"ignore\")"
   ]
  },
  {
   "cell_type": "code",
   "execution_count": 2,
   "id": "42e60060",
   "metadata": {},
   "outputs": [],
   "source": [
    "# utilities\n",
    "import cv2\n",
    "import pytesseract\n",
    "import re\n",
    "import os\n",
    "import pandas as pd"
   ]
  },
  {
   "cell_type": "code",
   "execution_count": 3,
   "id": "8981de3c",
   "metadata": {},
   "outputs": [],
   "source": [
    "pytesseract.pytesseract.tesseract_cmd = 'C:/Program Files/Tesseract-OCR/tesseract.exe'"
   ]
  },
  {
   "cell_type": "code",
   "execution_count": 4,
   "id": "6d666ab5",
   "metadata": {},
   "outputs": [],
   "source": [
    "# create a simple Dataframe to save the details\n",
    "cnames=['Name', 'Telephone', 'Email']\n",
    "df = pd.DataFrame(columns=cnames)"
   ]
  },
  {
   "cell_type": "code",
   "execution_count": 5,
   "id": "c4d3f8c3",
   "metadata": {},
   "outputs": [],
   "source": [
    "# Methods to extract name, email & phone\n",
    "def get_full_name(lst):\n",
    "    for idx in lst:\n",
    "        full_name = re.search(r'[a-zA-Z]', idx)\n",
    "        if full_name is not None:\n",
    "            return idx\n",
    "\n",
    "def get_email(lst):\n",
    "    for idx in lst:\n",
    "        mail = re.search(r'[a-zA-Z][\\w\\.-]+@[\\w\\.-]+', idx)\n",
    "        if mail is not None:\n",
    "            return idx\n",
    "\n",
    "def get_phone_number(lst):\n",
    "    for idx in lst:\n",
    "        phone = re.search(r'[][0-9]-[0-9][0-9][0-9]-[0-9][0-9][0-9][0-9]', idx)\n",
    "        if phone is not None:\n",
    "            return idx"
   ]
  },
  {
   "cell_type": "code",
   "execution_count": 6,
   "id": "a6a59f7a",
   "metadata": {},
   "outputs": [],
   "source": [
    "# Get the details by passing the parameters\n",
    "def get_text(text_1, text_2):\n",
    "            \n",
    "    length_1 = len(text_1)\n",
    "    length_2 = len(text_2)\n",
    "    if length_1 > length_2:\n",
    "        text_image = text_1\n",
    "    else:\n",
    "        text_image = text_2\n",
    "        \n",
    "    text_lst = text_image.splitlines() # This is to get each line as a seperate text\n",
    "    text_lst = [word for word in text_lst if len(word)!= 0]\n",
    "\n",
    "    Name = \"\"\n",
    "    Telephone = \"\"\n",
    "    Email = \"\"\n",
    "    #===========\n",
    "    Final_text = {\"Name\": get_full_name(text_lst),\n",
    "                  \"Telephone\" : get_phone_number(text_lst),\n",
    "                  \"Email\" : get_email(text_lst)}\n",
    "    return Final_text"
   ]
  },
  {
   "cell_type": "code",
   "execution_count": 7,
   "id": "4b5807f7",
   "metadata": {},
   "outputs": [],
   "source": [
    "# assign directory\n",
    "directory = 'C:/Users/sampathkumar.g/Desktop/GUVI/OCR/'\n",
    " \n",
    "# iterate over files in that directory\n",
    "for filename in os.listdir(directory):\n",
    "    File_path = os.path.join(directory, filename)\n",
    "    img = cv2.imread(File_path, -1)\n",
    "    \n",
    "    # get the threshold for colors\n",
    "    gray = cv2.cvtColor(img, cv2.COLOR_BGR2GRAY)\n",
    "    _, th_1 = cv2.threshold(gray, 200, 255, cv2.THRESH_BINARY_INV)\n",
    "    # for black backgrounds - binary - global_, \n",
    "    _, th_2 = cv2.threshold(gray, 100, 255, cv2.THRESH_BINARY)\n",
    "    # for white backgrounds - binary - global\n",
    "    \n",
    "    # extract the text from teh image\n",
    "    text_1 = pytesseract.image_to_string(th_1)\n",
    "    text_2 = pytesseract.image_to_string(th_2)\n",
    "\n",
    "    # call the method & get the details\n",
    "    x = get_text(text_1, text_2)\n",
    "    df = df.append(x, ignore_index=True)"
   ]
  },
  {
   "cell_type": "code",
   "execution_count": 8,
   "id": "96250926",
   "metadata": {},
   "outputs": [
    {
     "data": {
      "text/html": [
       "<div>\n",
       "<style scoped>\n",
       "    .dataframe tbody tr th:only-of-type {\n",
       "        vertical-align: middle;\n",
       "    }\n",
       "\n",
       "    .dataframe tbody tr th {\n",
       "        vertical-align: top;\n",
       "    }\n",
       "\n",
       "    .dataframe thead th {\n",
       "        text-align: right;\n",
       "    }\n",
       "</style>\n",
       "<table border=\"1\" class=\"dataframe\">\n",
       "  <thead>\n",
       "    <tr style=\"text-align: right;\">\n",
       "      <th></th>\n",
       "      <th>Name</th>\n",
       "      <th>Telephone</th>\n",
       "      <th>Email</th>\n",
       "    </tr>\n",
       "  </thead>\n",
       "  <tbody>\n",
       "    <tr>\n",
       "      <th>0</th>\n",
       "      <td>Selva</td>\n",
       "      <td>@ +123-456-7890</td>\n",
       "      <td>hello@XYZ1.com</td>\n",
       "    </tr>\n",
       "    <tr>\n",
       "      <th>1</th>\n",
       "      <td>Amit kumar</td>\n",
       "      <td>(123-456-7569</td>\n",
       "      <td>Bi hello@global.com</td>\n",
       "    </tr>\n",
       "    <tr>\n",
       "      <th>2</th>\n",
       "      <td>KARTHICK</td>\n",
       "      <td>LS) +123-456-7890</td>\n",
       "      <td>| hello@Borcelle.com</td>\n",
       "    </tr>\n",
       "    <tr>\n",
       "      <th>3</th>\n",
       "      <td>REVANTH</td>\n",
       "      <td>+91-456-1234 |</td>\n",
       "      <td>hello@CHRISTMAS.com</td>\n",
       "    </tr>\n",
       "    <tr>\n",
       "      <th>4</th>\n",
       "      <td>SANTHOSH</td>\n",
       "      <td>+123-456-1234</td>\n",
       "      <td>EI hello@Sun.com</td>\n",
       "    </tr>\n",
       "  </tbody>\n",
       "</table>\n",
       "</div>"
      ],
      "text/plain": [
       "         Name          Telephone                 Email\n",
       "0       Selva    @ +123-456-7890        hello@XYZ1.com\n",
       "1  Amit kumar      (123-456-7569   Bi hello@global.com\n",
       "2    KARTHICK  LS) +123-456-7890  | hello@Borcelle.com\n",
       "3     REVANTH     +91-456-1234 |   hello@CHRISTMAS.com\n",
       "4    SANTHOSH      +123-456-1234      EI hello@Sun.com"
      ]
     },
     "execution_count": 8,
     "metadata": {},
     "output_type": "execute_result"
    }
   ],
   "source": [
    "df"
   ]
  },
  {
   "cell_type": "code",
   "execution_count": null,
   "id": "c131191a",
   "metadata": {},
   "outputs": [],
   "source": []
  }
 ],
 "metadata": {
  "kernelspec": {
   "display_name": "Python 3 (ipykernel)",
   "language": "python",
   "name": "python3"
  },
  "language_info": {
   "codemirror_mode": {
    "name": "ipython",
    "version": 3
   },
   "file_extension": ".py",
   "mimetype": "text/x-python",
   "name": "python",
   "nbconvert_exporter": "python",
   "pygments_lexer": "ipython3",
   "version": "3.9.12"
  }
 },
 "nbformat": 4,
 "nbformat_minor": 5
}
